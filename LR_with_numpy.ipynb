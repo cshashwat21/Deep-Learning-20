{
  "nbformat": 4,
  "nbformat_minor": 0,
  "metadata": {
    "colab": {
      "name": "LR_with_numpy.ipynb",
      "provenance": [],
      "collapsed_sections": []
    },
    "kernelspec": {
      "name": "python3",
      "display_name": "Python 3"
    }
  },
  "cells": [
    {
      "cell_type": "code",
      "metadata": {
        "id": "BDalWkpdFB1-",
        "colab_type": "code",
        "colab": {}
      },
      "source": [
        "import numpy as np\n",
        "import matplotlib.pyplot as plt"
      ],
      "execution_count": 0,
      "outputs": []
    },
    {
      "cell_type": "code",
      "metadata": {
        "id": "8JLiICJmFLE0",
        "colab_type": "code",
        "outputId": "12dd4c88-4e93-4f1e-ce53-a002e8a99e6f",
        "colab": {
          "base_uri": "https://localhost:8080/",
          "height": 1000
        }
      },
      "source": [
        "np.random.seed(225)\n",
        "data_x = np.linspace(-10.0, 10.0, 100)[:, np.newaxis]\n",
        "data_y = np.sin(data_x) + 0.1 * np.power(data_x, 2) + 0.5 * np.random.randn(100, 1)\n",
        "#data_y = 29*data_x  + 10* np.random.randn(100, 1)\n",
        "data_x /= np.max(data_x)\n",
        "data_x"
      ],
      "execution_count": 0,
      "outputs": [
        {
          "output_type": "execute_result",
          "data": {
            "text/plain": [
              "array([[-1.        ],\n",
              "       [-0.97979798],\n",
              "       [-0.95959596],\n",
              "       [-0.93939394],\n",
              "       [-0.91919192],\n",
              "       [-0.8989899 ],\n",
              "       [-0.87878788],\n",
              "       [-0.85858586],\n",
              "       [-0.83838384],\n",
              "       [-0.81818182],\n",
              "       [-0.7979798 ],\n",
              "       [-0.77777778],\n",
              "       [-0.75757576],\n",
              "       [-0.73737374],\n",
              "       [-0.71717172],\n",
              "       [-0.6969697 ],\n",
              "       [-0.67676768],\n",
              "       [-0.65656566],\n",
              "       [-0.63636364],\n",
              "       [-0.61616162],\n",
              "       [-0.5959596 ],\n",
              "       [-0.57575758],\n",
              "       [-0.55555556],\n",
              "       [-0.53535354],\n",
              "       [-0.51515152],\n",
              "       [-0.49494949],\n",
              "       [-0.47474747],\n",
              "       [-0.45454545],\n",
              "       [-0.43434343],\n",
              "       [-0.41414141],\n",
              "       [-0.39393939],\n",
              "       [-0.37373737],\n",
              "       [-0.35353535],\n",
              "       [-0.33333333],\n",
              "       [-0.31313131],\n",
              "       [-0.29292929],\n",
              "       [-0.27272727],\n",
              "       [-0.25252525],\n",
              "       [-0.23232323],\n",
              "       [-0.21212121],\n",
              "       [-0.19191919],\n",
              "       [-0.17171717],\n",
              "       [-0.15151515],\n",
              "       [-0.13131313],\n",
              "       [-0.11111111],\n",
              "       [-0.09090909],\n",
              "       [-0.07070707],\n",
              "       [-0.05050505],\n",
              "       [-0.03030303],\n",
              "       [-0.01010101],\n",
              "       [ 0.01010101],\n",
              "       [ 0.03030303],\n",
              "       [ 0.05050505],\n",
              "       [ 0.07070707],\n",
              "       [ 0.09090909],\n",
              "       [ 0.11111111],\n",
              "       [ 0.13131313],\n",
              "       [ 0.15151515],\n",
              "       [ 0.17171717],\n",
              "       [ 0.19191919],\n",
              "       [ 0.21212121],\n",
              "       [ 0.23232323],\n",
              "       [ 0.25252525],\n",
              "       [ 0.27272727],\n",
              "       [ 0.29292929],\n",
              "       [ 0.31313131],\n",
              "       [ 0.33333333],\n",
              "       [ 0.35353535],\n",
              "       [ 0.37373737],\n",
              "       [ 0.39393939],\n",
              "       [ 0.41414141],\n",
              "       [ 0.43434343],\n",
              "       [ 0.45454545],\n",
              "       [ 0.47474747],\n",
              "       [ 0.49494949],\n",
              "       [ 0.51515152],\n",
              "       [ 0.53535354],\n",
              "       [ 0.55555556],\n",
              "       [ 0.57575758],\n",
              "       [ 0.5959596 ],\n",
              "       [ 0.61616162],\n",
              "       [ 0.63636364],\n",
              "       [ 0.65656566],\n",
              "       [ 0.67676768],\n",
              "       [ 0.6969697 ],\n",
              "       [ 0.71717172],\n",
              "       [ 0.73737374],\n",
              "       [ 0.75757576],\n",
              "       [ 0.77777778],\n",
              "       [ 0.7979798 ],\n",
              "       [ 0.81818182],\n",
              "       [ 0.83838384],\n",
              "       [ 0.85858586],\n",
              "       [ 0.87878788],\n",
              "       [ 0.8989899 ],\n",
              "       [ 0.91919192],\n",
              "       [ 0.93939394],\n",
              "       [ 0.95959596],\n",
              "       [ 0.97979798],\n",
              "       [ 1.        ]])"
            ]
          },
          "metadata": {
            "tags": []
          },
          "execution_count": 23
        }
      ]
    },
    {
      "cell_type": "code",
      "metadata": {
        "id": "4TdaAALnFUOe",
        "colab_type": "code",
        "outputId": "6e23cab1-c741-46be-aea8-e69e7c0f447d",
        "colab": {
          "base_uri": "https://localhost:8080/",
          "height": 1000
        }
      },
      "source": [
        "data_x = np.hstack((np.ones_like(data_x), data_x))\n",
        "data_x"
      ],
      "execution_count": 0,
      "outputs": [
        {
          "output_type": "execute_result",
          "data": {
            "text/plain": [
              "array([[ 1.        , -1.        ],\n",
              "       [ 1.        , -0.97979798],\n",
              "       [ 1.        , -0.95959596],\n",
              "       [ 1.        , -0.93939394],\n",
              "       [ 1.        , -0.91919192],\n",
              "       [ 1.        , -0.8989899 ],\n",
              "       [ 1.        , -0.87878788],\n",
              "       [ 1.        , -0.85858586],\n",
              "       [ 1.        , -0.83838384],\n",
              "       [ 1.        , -0.81818182],\n",
              "       [ 1.        , -0.7979798 ],\n",
              "       [ 1.        , -0.77777778],\n",
              "       [ 1.        , -0.75757576],\n",
              "       [ 1.        , -0.73737374],\n",
              "       [ 1.        , -0.71717172],\n",
              "       [ 1.        , -0.6969697 ],\n",
              "       [ 1.        , -0.67676768],\n",
              "       [ 1.        , -0.65656566],\n",
              "       [ 1.        , -0.63636364],\n",
              "       [ 1.        , -0.61616162],\n",
              "       [ 1.        , -0.5959596 ],\n",
              "       [ 1.        , -0.57575758],\n",
              "       [ 1.        , -0.55555556],\n",
              "       [ 1.        , -0.53535354],\n",
              "       [ 1.        , -0.51515152],\n",
              "       [ 1.        , -0.49494949],\n",
              "       [ 1.        , -0.47474747],\n",
              "       [ 1.        , -0.45454545],\n",
              "       [ 1.        , -0.43434343],\n",
              "       [ 1.        , -0.41414141],\n",
              "       [ 1.        , -0.39393939],\n",
              "       [ 1.        , -0.37373737],\n",
              "       [ 1.        , -0.35353535],\n",
              "       [ 1.        , -0.33333333],\n",
              "       [ 1.        , -0.31313131],\n",
              "       [ 1.        , -0.29292929],\n",
              "       [ 1.        , -0.27272727],\n",
              "       [ 1.        , -0.25252525],\n",
              "       [ 1.        , -0.23232323],\n",
              "       [ 1.        , -0.21212121],\n",
              "       [ 1.        , -0.19191919],\n",
              "       [ 1.        , -0.17171717],\n",
              "       [ 1.        , -0.15151515],\n",
              "       [ 1.        , -0.13131313],\n",
              "       [ 1.        , -0.11111111],\n",
              "       [ 1.        , -0.09090909],\n",
              "       [ 1.        , -0.07070707],\n",
              "       [ 1.        , -0.05050505],\n",
              "       [ 1.        , -0.03030303],\n",
              "       [ 1.        , -0.01010101],\n",
              "       [ 1.        ,  0.01010101],\n",
              "       [ 1.        ,  0.03030303],\n",
              "       [ 1.        ,  0.05050505],\n",
              "       [ 1.        ,  0.07070707],\n",
              "       [ 1.        ,  0.09090909],\n",
              "       [ 1.        ,  0.11111111],\n",
              "       [ 1.        ,  0.13131313],\n",
              "       [ 1.        ,  0.15151515],\n",
              "       [ 1.        ,  0.17171717],\n",
              "       [ 1.        ,  0.19191919],\n",
              "       [ 1.        ,  0.21212121],\n",
              "       [ 1.        ,  0.23232323],\n",
              "       [ 1.        ,  0.25252525],\n",
              "       [ 1.        ,  0.27272727],\n",
              "       [ 1.        ,  0.29292929],\n",
              "       [ 1.        ,  0.31313131],\n",
              "       [ 1.        ,  0.33333333],\n",
              "       [ 1.        ,  0.35353535],\n",
              "       [ 1.        ,  0.37373737],\n",
              "       [ 1.        ,  0.39393939],\n",
              "       [ 1.        ,  0.41414141],\n",
              "       [ 1.        ,  0.43434343],\n",
              "       [ 1.        ,  0.45454545],\n",
              "       [ 1.        ,  0.47474747],\n",
              "       [ 1.        ,  0.49494949],\n",
              "       [ 1.        ,  0.51515152],\n",
              "       [ 1.        ,  0.53535354],\n",
              "       [ 1.        ,  0.55555556],\n",
              "       [ 1.        ,  0.57575758],\n",
              "       [ 1.        ,  0.5959596 ],\n",
              "       [ 1.        ,  0.61616162],\n",
              "       [ 1.        ,  0.63636364],\n",
              "       [ 1.        ,  0.65656566],\n",
              "       [ 1.        ,  0.67676768],\n",
              "       [ 1.        ,  0.6969697 ],\n",
              "       [ 1.        ,  0.71717172],\n",
              "       [ 1.        ,  0.73737374],\n",
              "       [ 1.        ,  0.75757576],\n",
              "       [ 1.        ,  0.77777778],\n",
              "       [ 1.        ,  0.7979798 ],\n",
              "       [ 1.        ,  0.81818182],\n",
              "       [ 1.        ,  0.83838384],\n",
              "       [ 1.        ,  0.85858586],\n",
              "       [ 1.        ,  0.87878788],\n",
              "       [ 1.        ,  0.8989899 ],\n",
              "       [ 1.        ,  0.91919192],\n",
              "       [ 1.        ,  0.93939394],\n",
              "       [ 1.        ,  0.95959596],\n",
              "       [ 1.        ,  0.97979798],\n",
              "       [ 1.        ,  1.        ]])"
            ]
          },
          "metadata": {
            "tags": []
          },
          "execution_count": 24
        }
      ]
    },
    {
      "cell_type": "code",
      "metadata": {
        "id": "5o4IpF-zFWxc",
        "colab_type": "code",
        "outputId": "44a0a5ab-b934-4585-faba-a784b06afeee",
        "colab": {
          "base_uri": "https://localhost:8080/",
          "height": 377
        }
      },
      "source": [
        "order = np.random.permutation(len(data_x))\n",
        "portion = 20\n",
        "test_x = data_x[order[:portion]]\n",
        "test_y = data_y[order[:portion]]\n",
        "train_x = data_x[order[portion:]]\n",
        "train_y = data_y[order[portion:]]\n",
        "print (test_x.size, train_x.size, test_y.size, train_y.size)\n",
        "print (test_x)"
      ],
      "execution_count": 0,
      "outputs": [
        {
          "output_type": "stream",
          "text": [
            "40 160 20 80\n",
            "[[ 1.          0.37373737]\n",
            " [ 1.         -0.19191919]\n",
            " [ 1.          0.45454545]\n",
            " [ 1.         -0.81818182]\n",
            " [ 1.          0.57575758]\n",
            " [ 1.          0.91919192]\n",
            " [ 1.          0.33333333]\n",
            " [ 1.         -0.45454545]\n",
            " [ 1.         -0.57575758]\n",
            " [ 1.         -1.        ]\n",
            " [ 1.         -0.25252525]\n",
            " [ 1.         -0.65656566]\n",
            " [ 1.         -0.5959596 ]\n",
            " [ 1.         -0.07070707]\n",
            " [ 1.          0.47474747]\n",
            " [ 1.          0.93939394]\n",
            " [ 1.          0.49494949]\n",
            " [ 1.          0.6969697 ]\n",
            " [ 1.          0.85858586]\n",
            " [ 1.          0.51515152]]\n"
          ],
          "name": "stdout"
        }
      ]
    },
    {
      "cell_type": "code",
      "metadata": {
        "id": "KJU06clcU5iw",
        "colab_type": "code",
        "outputId": "cb4c11f6-2cec-41b3-cdf0-e4f579599c31",
        "colab": {
          "base_uri": "https://localhost:8080/",
          "height": 265
        }
      },
      "source": [
        "plt.scatter(train_x[:,1], train_y, c='b', label='Data')\n",
        "plt.show()"
      ],
      "execution_count": 0,
      "outputs": [
        {
          "output_type": "display_data",
          "data": {
            "image/png": "[encoded data removed]",
            "text/plain": [
              "<Figure size 432x288 with 1 Axes>"
            ]
          },
          "metadata": {
            "tags": []
          }
        }
      ]
    },
    {
      "cell_type": "code",
      "metadata": {
        "id": "2_qABGqzFZOm",
        "colab_type": "code",
        "colab": {}
      },
      "source": [
        "def get_gradient(w, x, y):\n",
        "    y_estimate = (x**2).dot(w).flatten()\n",
        "    error = (y.flatten() - y_estimate)\n",
        "    mse = (1.0/len(x))*np.sum(np.power(error, 2))\n",
        "    gradient = -(1.0/len(x)) * error.dot(x**2)\n",
        "    return gradient, mse"
      ],
      "execution_count": 0,
      "outputs": []
    },
    {
      "cell_type": "code",
      "metadata": {
        "id": "XuzNhrcTFcm6",
        "colab_type": "code",
        "outputId": "1b78f890-f62b-4785-d88b-8e0355937149",
        "colab": {
          "base_uri": "https://localhost:8080/",
          "height": 994
        }
      },
      "source": [
        "w = np.random.randn(2)\n",
        "alpha = 0.25\n",
        "tolerance = 1e-3\n",
        "print(\"Intial values of Weights:\")\n",
        "print(w[1], w[0])\n",
        "# Perform Gradient Descent\n",
        "iterations = 1\n",
        "while True:\n",
        "    gradient, error = get_gradient(w, train_x, train_y)\n",
        "    new_w = w - alpha * gradient\n",
        "#     print(gradient)\n",
        "    \n",
        "    # Stopping Condition\n",
        "    if np.sum(abs(new_w - w)) < tolerance:\n",
        "        print (\"Converged\")\n",
        "        break\n",
        "    \n",
        "    # Print error every 10 iterations\n",
        "    if iterations % 10 == 0:\n",
        "        print (\"Iteration: %d - Error: %.4f\" %(iterations, error))\n",
        "        print (\"Updated Weights : {:f} , {:f}\".format(w[1], w[0]))\n",
        "    iterations += 1\n",
        "    w = new_w\n",
        "\n",
        "print (\"Final Weights : {:f} , {:f}\".format(w[1], w[0]))\n",
        "print (\"Test Cost =\", get_gradient(w, test_x, test_y)[1])"
      ],
      "execution_count": 0,
      "outputs": [
        {
          "output_type": "stream",
          "text": [
            "Intial values of Weights:\n",
            "-2.2261099477933244 -1.0817831523845003\n",
            "Iteration: 10 - Error: 7.5718\n",
            "Updated Weights : 1.231561 , 2.973293\n",
            "Iteration: 20 - Error: 5.1785\n",
            "Updated Weights : 2.924806 , 2.643180\n",
            "Iteration: 30 - Error: 3.6682\n",
            "Updated Weights : 4.225042 , 2.184698\n",
            "Iteration: 40 - Error: 2.6805\n",
            "Updated Weights : 5.273945 , 1.806735\n",
            "Iteration: 50 - Error: 2.0346\n",
            "Updated Weights : 6.122090 , 1.500807\n",
            "Iteration: 60 - Error: 1.6122\n",
            "Updated Weights : 6.807979 , 1.253395\n",
            "Iteration: 70 - Error: 1.3359\n",
            "Updated Weights : 7.362654 , 1.053313\n",
            "Iteration: 80 - Error: 1.1553\n",
            "Updated Weights : 7.811218 , 0.891507\n",
            "Iteration: 90 - Error: 1.0371\n",
            "Updated Weights : 8.173970 , 0.760656\n",
            "Iteration: 100 - Error: 0.9598\n",
            "Updated Weights : 8.467326 , 0.654837\n",
            "Iteration: 110 - Error: 0.9093\n",
            "Updated Weights : 8.704562 , 0.569261\n",
            "Iteration: 120 - Error: 0.8762\n",
            "Updated Weights : 8.896414 , 0.500057\n",
            "Iteration: 130 - Error: 0.8546\n",
            "Updated Weights : 9.051563 , 0.444091\n",
            "Iteration: 140 - Error: 0.8405\n",
            "Updated Weights : 9.177033 , 0.398832\n",
            "Iteration: 150 - Error: 0.8312\n",
            "Updated Weights : 9.278499 , 0.362231\n",
            "Iteration: 160 - Error: 0.8252\n",
            "Updated Weights : 9.360554 , 0.332633\n",
            "Iteration: 170 - Error: 0.8213\n",
            "Updated Weights : 9.426912 , 0.308696\n",
            "Iteration: 180 - Error: 0.8187\n",
            "Updated Weights : 9.480576 , 0.289339\n",
            "Iteration: 190 - Error: 0.8170\n",
            "Updated Weights : 9.523973 , 0.273684\n",
            "Iteration: 200 - Error: 0.8159\n",
            "Updated Weights : 9.559068 , 0.261025\n",
            "Iteration: 210 - Error: 0.8151\n",
            "Updated Weights : 9.587450 , 0.250787\n",
            "Iteration: 220 - Error: 0.8147\n",
            "Updated Weights : 9.610402 , 0.242508\n",
            "Iteration: 230 - Error: 0.8144\n",
            "Updated Weights : 9.628963 , 0.235812\n",
            "Iteration: 240 - Error: 0.8142\n",
            "Updated Weights : 9.643973 , 0.230398\n",
            "Iteration: 250 - Error: 0.8140\n",
            "Updated Weights : 9.656112 , 0.226019\n",
            "Iteration: 260 - Error: 0.8139\n",
            "Updated Weights : 9.665929 , 0.222478\n",
            "Converged\n",
            "Final Weights : 9.673147 , 0.219874\n",
            "Test Cost = 1.1786154910117315\n"
          ],
          "name": "stdout"
        }
      ]
    },
    {
      "cell_type": "code",
      "metadata": {
        "id": "r1UZuG1AHrVa",
        "colab_type": "code",
        "outputId": "00937f01-5446-4a94-ccfe-e01b52029d1e",
        "colab": {
          "base_uri": "https://localhost:8080/",
          "height": 51
        }
      },
      "source": [
        "print(\"Final eqn / hypothesis looks like:\")\n",
        "print('y = {:f}.x^2 + {:f}'.format(w[1], w[0]))"
      ],
      "execution_count": 0,
      "outputs": [
        {
          "output_type": "stream",
          "text": [
            "Final eqn / hypothesis looks like:\n",
            "y = 9.673147.x^2 + 0.219874\n"
          ],
          "name": "stdout"
        }
      ]
    },
    {
      "cell_type": "code",
      "metadata": {
        "id": "qkh4rdrEFkdf",
        "colab_type": "code",
        "outputId": "b23164e3-b992-4ec4-8291-4e418a669919",
        "colab": {
          "base_uri": "https://localhost:8080/",
          "height": 279
        }
      },
      "source": [
        "plt.plot(data_x[:,1], (data_x**2).dot(w), c='g', label='Model')\n",
        "plt.scatter(train_x[:,1], train_y, c='b', label='Train Set')\n",
        "plt.scatter(test_x[:,1], test_y, c='r', label='Test Set')\n",
        "plt.grid()\n",
        "plt.legend(loc='best')\n",
        "plt.xlabel('X')\n",
        "plt.ylabel('Y')\n",
        "plt.show()"
      ],
      "execution_count": 0,
      "outputs": [
        {
          "output_type": "display_data",
          "data": {
            "image/png": "[encoded data removed]",
            "text/plain": [
              "<Figure size 432x288 with 1 Axes>"
            ]
          },
          "metadata": {
            "tags": []
          }
        }
      ]
    }
  ]
}