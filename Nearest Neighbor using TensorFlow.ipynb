{
 "cells": [
  {
   "cell_type": "code",
   "execution_count": 1,
   "metadata": {
    "collapsed": true
   },
   "outputs": [],
   "source": [
    "import numpy as np\n",
    "import tensorflow as tf"
   ]
  },
  {
   "cell_type": "code",
   "execution_count": 2,
   "metadata": {},
   "outputs": [
    {
     "name": "stdout",
     "output_type": "stream",
     "text": [
      "Successfully downloaded train-images-idx3-ubyte.gz 9912422 bytes.\n",
      "Extracting mnist\\train-images-idx3-ubyte.gz\n",
      "Successfully downloaded train-labels-idx1-ubyte.gz 28881 bytes.\n",
      "Extracting mnist\\train-labels-idx1-ubyte.gz\n",
      "Successfully downloaded t10k-images-idx3-ubyte.gz 1648877 bytes.\n",
      "Extracting mnist\\t10k-images-idx3-ubyte.gz\n",
      "Successfully downloaded t10k-labels-idx1-ubyte.gz 4542 bytes.\n",
      "Extracting mnist\\t10k-labels-idx1-ubyte.gz\n"
     ]
    }
   ],
   "source": [
    "# Import MINST data\n",
    "from tensorflow.examples.tutorials.mnist import input_data\n",
    "mnist = input_data.read_data_sets(\"mnist\", one_hot=True)"
   ]
  },
  {
   "cell_type": "code",
   "execution_count": 4,
   "metadata": {},
   "outputs": [
    {
     "data": {
      "text/plain": [
       "(55000, 784)"
      ]
     },
     "execution_count": 4,
     "metadata": {},
     "output_type": "execute_result"
    }
   ],
   "source": [
    "mnist.train.images.shape"
   ]
  },
  {
   "cell_type": "code",
   "execution_count": 5,
   "metadata": {},
   "outputs": [
    {
     "data": {
      "text/plain": [
       "(10000, 784)"
      ]
     },
     "execution_count": 5,
     "metadata": {},
     "output_type": "execute_result"
    }
   ],
   "source": [
    "mnist.test.images.shape"
   ]
  },
  {
   "cell_type": "code",
   "execution_count": 6,
   "metadata": {},
   "outputs": [
    {
     "data": {
      "text/plain": [
       "(55000, 10)"
      ]
     },
     "execution_count": 6,
     "metadata": {},
     "output_type": "execute_result"
    }
   ],
   "source": [
    "mnist.train.labels.shape"
   ]
  },
  {
   "cell_type": "code",
   "execution_count": 7,
   "metadata": {
    "collapsed": true
   },
   "outputs": [],
   "source": [
    "import matplotlib.pyplot as plt"
   ]
  },
  {
   "cell_type": "code",
   "execution_count": 10,
   "metadata": {},
   "outputs": [
    {
     "data": {
      "text/plain": [
       "<matplotlib.image.AxesImage at 0x1dc99b8e390>"
      ]
     },
     "execution_count": 10,
     "metadata": {},
     "output_type": "execute_result"
    }
   ],
   "source": [
    "plt.imshow(mnist.train.images[3].reshape((28,28)))"
   ]
  },
  {
   "cell_type": "code",
   "execution_count": 11,
   "metadata": {},
   "outputs": [
    {
     "data": {
      "image/png": "[encoded data removed]",
      "text/plain": [
       "<matplotlib.figure.Figure at 0x1dc95c205f8>"
      ]
     },
     "metadata": {},
     "output_type": "display_data"
    }
   ],
   "source": [
    "plt.show()"
   ]
  },
  {
   "cell_type": "markdown",
   "metadata": {},
   "source": [
    "#### Spliting data into smaller portions"
   ]
  },
  {
   "cell_type": "code",
   "execution_count": 12,
   "metadata": {
    "collapsed": true
   },
   "outputs": [],
   "source": [
    "# In this example, we limit mnist data\n",
    "Xtr, Ytr = mnist.train.next_batch(5000) #5000 for training (nn candidates)\n",
    "Xte, Yte = mnist.test.next_batch(200) #200 for testing"
   ]
  },
  {
   "cell_type": "code",
   "execution_count": 13,
   "metadata": {},
   "outputs": [
    {
     "data": {
      "text/plain": [
       "(5000, 784)"
      ]
     },
     "execution_count": 13,
     "metadata": {},
     "output_type": "execute_result"
    }
   ],
   "source": [
    "Xtr.shape"
   ]
  },
  {
   "cell_type": "code",
   "execution_count": 14,
   "metadata": {},
   "outputs": [
    {
     "data": {
      "text/plain": [
       "(5000, 10)"
      ]
     },
     "execution_count": 14,
     "metadata": {},
     "output_type": "execute_result"
    }
   ],
   "source": [
    "Ytr.shape"
   ]
  },
  {
   "cell_type": "markdown",
   "metadata": {},
   "source": [
    "#### Creating placeholders to enable passing data from external input"
   ]
  },
  {
   "cell_type": "code",
   "execution_count": 15,
   "metadata": {
    "collapsed": true
   },
   "outputs": [],
   "source": [
    "xtr = tf.placeholder(\"float\", [None, 784])\n",
    "xte = tf.placeholder(\"float\", [784])"
   ]
  },
  {
   "cell_type": "code",
   "execution_count": 32,
   "metadata": {
    "collapsed": true
   },
   "outputs": [],
   "source": [
    "distance = tf.reduce_sum(tf.abs(tf.add(xtr, tf.negative(xte))), reduction_indices=1)"
   ]
  },
  {
   "cell_type": "markdown",
   "metadata": {},
   "source": [
    "#### Prediction: Get min distance index (Nearest neighbor)"
   ]
  },
  {
   "cell_type": "code",
   "execution_count": 33,
   "metadata": {},
   "outputs": [],
   "source": [
    "pred = tf.arg_min(distance, 0)"
   ]
  },
  {
   "cell_type": "code",
   "execution_count": 20,
   "metadata": {
    "collapsed": true
   },
   "outputs": [],
   "source": [
    "accuracy = 0."
   ]
  },
  {
   "cell_type": "code",
   "execution_count": 21,
   "metadata": {
    "collapsed": true
   },
   "outputs": [],
   "source": [
    "init = tf.global_variables_initializer()"
   ]
  },
  {
   "cell_type": "code",
   "execution_count": 34,
   "metadata": {},
   "outputs": [
    {
     "name": "stdout",
     "output_type": "stream",
     "text": [
      "Test 0 Prediction: 0 True Class: 0\n",
      "Test 1 Prediction: 6 True Class: 6\n",
      "Test 2 Prediction: 3 True Class: 3\n",
      "Test 3 Prediction: 9 True Class: 8\n",
      "Test 4 Prediction: 4 True Class: 9\n",
      "Test 5 Prediction: 5 True Class: 5\n",
      "Test 6 Prediction: 9 True Class: 9\n",
      "Test 7 Prediction: 4 True Class: 4\n",
      "Test 8 Prediction: 6 True Class: 6\n",
      "Test 9 Prediction: 5 True Class: 5\n",
      "Test 10 Prediction: 4 True Class: 4\n",
      "Test 11 Prediction: 5 True Class: 5\n",
      "Test 12 Prediction: 2 True Class: 2\n",
      "Test 13 Prediction: 5 True Class: 5\n",
      "Test 14 Prediction: 0 True Class: 6\n",
      "Test 15 Prediction: 0 True Class: 5\n",
      "Test 16 Prediction: 1 True Class: 1\n",
      "Test 17 Prediction: 4 True Class: 4\n",
      "Test 18 Prediction: 9 True Class: 9\n",
      "Test 19 Prediction: 0 True Class: 0\n",
      "Test 20 Prediction: 5 True Class: 5\n",
      "Test 21 Prediction: 1 True Class: 1\n",
      "Test 22 Prediction: 3 True Class: 3\n",
      "Test 23 Prediction: 4 True Class: 4\n",
      "Test 24 Prediction: 3 True Class: 5\n",
      "Test 25 Prediction: 7 True Class: 7\n",
      "Test 26 Prediction: 2 True Class: 2\n",
      "Test 27 Prediction: 0 True Class: 0\n",
      "Test 28 Prediction: 2 True Class: 2\n",
      "Test 29 Prediction: 7 True Class: 7\n",
      "Test 30 Prediction: 0 True Class: 0\n",
      "Test 31 Prediction: 0 True Class: 0\n",
      "Test 32 Prediction: 8 True Class: 8\n",
      "Test 33 Prediction: 4 True Class: 4\n",
      "Test 34 Prediction: 6 True Class: 6\n",
      "Test 35 Prediction: 9 True Class: 9\n",
      "Test 36 Prediction: 5 True Class: 8\n",
      "Test 37 Prediction: 7 True Class: 2\n",
      "Test 38 Prediction: 7 True Class: 9\n",
      "Test 39 Prediction: 9 True Class: 9\n",
      "Test 40 Prediction: 1 True Class: 1\n",
      "Test 41 Prediction: 0 True Class: 0\n",
      "Test 42 Prediction: 7 True Class: 7\n",
      "Test 43 Prediction: 6 True Class: 6\n",
      "Test 44 Prediction: 6 True Class: 6\n",
      "Test 45 Prediction: 1 True Class: 1\n",
      "Test 46 Prediction: 1 True Class: 1\n",
      "Test 47 Prediction: 7 True Class: 2\n",
      "Test 48 Prediction: 1 True Class: 1\n",
      "Test 49 Prediction: 7 True Class: 7\n",
      "Test 50 Prediction: 3 True Class: 3\n",
      "Test 51 Prediction: 5 True Class: 5\n",
      "Test 52 Prediction: 7 True Class: 7\n",
      "Test 53 Prediction: 0 True Class: 0\n",
      "Test 54 Prediction: 8 True Class: 3\n",
      "Test 55 Prediction: 3 True Class: 3\n",
      "Test 56 Prediction: 4 True Class: 4\n",
      "Test 57 Prediction: 8 True Class: 8\n",
      "Test 58 Prediction: 8 True Class: 8\n",
      "Test 59 Prediction: 4 True Class: 4\n",
      "Test 60 Prediction: 5 True Class: 5\n",
      "Test 61 Prediction: 9 True Class: 9\n",
      "Test 62 Prediction: 3 True Class: 3\n",
      "Test 63 Prediction: 8 True Class: 8\n",
      "Test 64 Prediction: 4 True Class: 4\n",
      "Test 65 Prediction: 6 True Class: 6\n",
      "Test 66 Prediction: 1 True Class: 1\n",
      "Test 67 Prediction: 1 True Class: 1\n",
      "Test 68 Prediction: 6 True Class: 6\n",
      "Test 69 Prediction: 8 True Class: 8\n",
      "Test 70 Prediction: 2 True Class: 2\n",
      "Test 71 Prediction: 5 True Class: 5\n",
      "Test 72 Prediction: 5 True Class: 5\n",
      "Test 73 Prediction: 1 True Class: 1\n",
      "Test 74 Prediction: 5 True Class: 5\n",
      "Test 75 Prediction: 5 True Class: 5\n",
      "Test 76 Prediction: 0 True Class: 2\n",
      "Test 77 Prediction: 4 True Class: 4\n",
      "Test 78 Prediction: 5 True Class: 5\n",
      "Test 79 Prediction: 0 True Class: 0\n",
      "Test 80 Prediction: 5 True Class: 5\n",
      "Test 81 Prediction: 7 True Class: 7\n",
      "Test 82 Prediction: 7 True Class: 7\n",
      "Test 83 Prediction: 7 True Class: 7\n",
      "Test 84 Prediction: 8 True Class: 8\n",
      "Test 85 Prediction: 6 True Class: 6\n",
      "Test 86 Prediction: 7 True Class: 7\n",
      "Test 87 Prediction: 3 True Class: 3\n",
      "Test 88 Prediction: 5 True Class: 5\n",
      "Test 89 Prediction: 5 True Class: 5\n",
      "Test 90 Prediction: 9 True Class: 9\n",
      "Test 91 Prediction: 1 True Class: 1\n",
      "Test 92 Prediction: 2 True Class: 2\n",
      "Test 93 Prediction: 0 True Class: 0\n",
      "Test 94 Prediction: 0 True Class: 0\n",
      "Test 95 Prediction: 9 True Class: 4\n",
      "Test 96 Prediction: 0 True Class: 0\n",
      "Test 97 Prediction: 1 True Class: 1\n",
      "Test 98 Prediction: 4 True Class: 4\n",
      "Test 99 Prediction: 3 True Class: 3\n",
      "Test 100 Prediction: 7 True Class: 7\n",
      "Test 101 Prediction: 3 True Class: 3\n",
      "Test 102 Prediction: 6 True Class: 6\n",
      "Test 103 Prediction: 2 True Class: 2\n",
      "Test 104 Prediction: 7 True Class: 7\n",
      "Test 105 Prediction: 9 True Class: 9\n",
      "Test 106 Prediction: 1 True Class: 1\n",
      "Test 107 Prediction: 6 True Class: 6\n",
      "Test 108 Prediction: 8 True Class: 8\n",
      "Test 109 Prediction: 6 True Class: 6\n",
      "Test 110 Prediction: 7 True Class: 7\n",
      "Test 111 Prediction: 7 True Class: 7\n",
      "Test 112 Prediction: 1 True Class: 1\n",
      "Test 113 Prediction: 9 True Class: 9\n",
      "Test 114 Prediction: 2 True Class: 2\n",
      "Test 115 Prediction: 3 True Class: 3\n",
      "Test 116 Prediction: 7 True Class: 7\n",
      "Test 117 Prediction: 9 True Class: 8\n",
      "Test 118 Prediction: 3 True Class: 3\n",
      "Test 119 Prediction: 8 True Class: 8\n",
      "Test 120 Prediction: 4 True Class: 4\n",
      "Test 121 Prediction: 0 True Class: 0\n",
      "Test 122 Prediction: 0 True Class: 0\n",
      "Test 123 Prediction: 5 True Class: 5\n",
      "Test 124 Prediction: 6 True Class: 6\n",
      "Test 125 Prediction: 3 True Class: 8\n",
      "Test 126 Prediction: 8 True Class: 8\n",
      "Test 127 Prediction: 9 True Class: 9\n",
      "Test 128 Prediction: 4 True Class: 4\n",
      "Test 129 Prediction: 4 True Class: 4\n",
      "Test 130 Prediction: 2 True Class: 2\n",
      "Test 131 Prediction: 4 True Class: 4\n",
      "Test 132 Prediction: 5 True Class: 5\n",
      "Test 133 Prediction: 6 True Class: 6\n",
      "Test 134 Prediction: 4 True Class: 4\n",
      "Test 135 Prediction: 1 True Class: 1\n",
      "Test 136 Prediction: 6 True Class: 6\n",
      "Test 137 Prediction: 4 True Class: 9\n",
      "Test 138 Prediction: 5 True Class: 3\n",
      "Test 139 Prediction: 3 True Class: 3\n",
      "Test 140 Prediction: 8 True Class: 8\n",
      "Test 141 Prediction: 2 True Class: 2\n",
      "Test 142 Prediction: 0 True Class: 0\n",
      "Test 143 Prediction: 8 True Class: 8\n",
      "Test 144 Prediction: 8 True Class: 8\n",
      "Test 145 Prediction: 5 True Class: 5\n",
      "Test 146 Prediction: 9 True Class: 9\n",
      "Test 147 Prediction: 3 True Class: 3\n",
      "Test 148 Prediction: 4 True Class: 4\n",
      "Test 149 Prediction: 2 True Class: 2\n",
      "Test 150 Prediction: 8 True Class: 8\n",
      "Test 151 Prediction: 4 True Class: 4\n",
      "Test 152 Prediction: 8 True Class: 8\n",
      "Test 153 Prediction: 4 True Class: 4\n",
      "Test 154 Prediction: 2 True Class: 2\n",
      "Test 155 Prediction: 5 True Class: 5\n",
      "Test 156 Prediction: 9 True Class: 9\n",
      "Test 157 Prediction: 7 True Class: 7\n",
      "Test 158 Prediction: 0 True Class: 0\n",
      "Test 159 Prediction: 1 True Class: 1\n",
      "Test 160 Prediction: 1 True Class: 1\n",
      "Test 161 Prediction: 6 True Class: 6\n",
      "Test 162 Prediction: 3 True Class: 3\n",
      "Test 163 Prediction: 1 True Class: 1\n",
      "Test 164 Prediction: 1 True Class: 1\n",
      "Test 165 Prediction: 7 True Class: 7\n",
      "Test 166 Prediction: 7 True Class: 8\n",
      "Test 167 Prediction: 0 True Class: 0\n",
      "Test 168 Prediction: 7 True Class: 7\n",
      "Test 169 Prediction: 3 True Class: 3\n",
      "Test 170 Prediction: 7 True Class: 7\n",
      "Test 171 Prediction: 2 True Class: 2\n",
      "Test 172 Prediction: 4 True Class: 4\n",
      "Test 173 Prediction: 2 True Class: 2\n",
      "Test 174 Prediction: 4 True Class: 4\n",
      "Test 175 Prediction: 0 True Class: 0\n",
      "Test 176 Prediction: 1 True Class: 1\n",
      "Test 177 Prediction: 5 True Class: 5\n",
      "Test 178 Prediction: 8 True Class: 8\n",
      "Test 179 Prediction: 9 True Class: 9\n",
      "Test 180 Prediction: 9 True Class: 9\n",
      "Test 181 Prediction: 7 True Class: 7\n",
      "Test 182 Prediction: 9 True Class: 9\n",
      "Test 183 Prediction: 8 True Class: 8\n",
      "Test 184 Prediction: 6 True Class: 6\n",
      "Test 185 Prediction: 3 True Class: 3\n",
      "Test 186 Prediction: 2 True Class: 2\n",
      "Test 187 Prediction: 8 True Class: 8\n",
      "Test 188 Prediction: 1 True Class: 1\n",
      "Test 189 Prediction: 2 True Class: 3\n",
      "Test 190 Prediction: 4 True Class: 4\n",
      "Test 191 Prediction: 5 True Class: 5\n",
      "Test 192 Prediction: 7 True Class: 7\n",
      "Test 193 Prediction: 6 True Class: 6\n",
      "Test 194 Prediction: 9 True Class: 9\n",
      "Test 195 Prediction: 2 True Class: 2\n",
      "Test 196 Prediction: 1 True Class: 1\n",
      "Test 197 Prediction: 3 True Class: 3\n",
      "Test 198 Prediction: 0 True Class: 0\n",
      "Test 199 Prediction: 5 True Class: 5\n",
      "Done\n",
      "Accuracy :  0.9100000000000007\n"
     ]
    }
   ],
   "source": [
    "with tf.Session() as sess:\n",
    "    sess.run(init)\n",
    "    \n",
    "    for i in range(len(Xte)):\n",
    "        #Get nearest neighbor\n",
    "        nn_index = sess.run(pred, feed_dict={xtr: Xtr, xte:Xte[i ,:]})\n",
    "        print (\"Test\", i, \"Prediction:\", np.argmax(Ytr[nn_index]), \\\n",
    "            \"True Class:\", np.argmax(Yte[i]))\n",
    "            \n",
    "        if np.argmax(Ytr[nn_index]) == np.argmax(Yte[i]):\n",
    "            accuracy += 1./len(Xte)\n",
    "    print ('Done')\n",
    "    print (\"Accuracy : \", accuracy)"
   ]
  },
  {
   "cell_type": "code",
   "execution_count": 29,
   "metadata": {},
   "outputs": [
    {
     "data": {
      "text/plain": [
       "<tf.Tensor 'ExpandDims:0' shape=(784, 1) dtype=float32>"
      ]
     },
     "execution_count": 29,
     "metadata": {},
     "output_type": "execute_result"
    }
   ],
   "source": [
    "tf.expand_dims(Xte[0,:],1)"
   ]
  },
  {
   "cell_type": "code",
   "execution_count": 36,
   "metadata": {},
   "outputs": [
    {
     "data": {
      "image/png": "[encoded data removed]",
      "text/plain": [
       "<matplotlib.figure.Figure at 0x1dc9a7ba208>"
      ]
     },
     "metadata": {},
     "output_type": "display_data"
    }
   ],
   "source": [
    "plt.imshow(Xte[189].reshape((28,28)))\n",
    "plt.show()"
   ]
  },
  {
   "cell_type": "code",
   "execution_count": null,
   "metadata": {
    "collapsed": true
   },
   "outputs": [],
   "source": []
  }
 ],
 "metadata": {
  "kernelspec": {
   "display_name": "Python 3",
   "language": "python",
   "name": "python3"
  },
  "language_info": {
   "codemirror_mode": {
    "name": "ipython",
    "version": 3
   },
   "file_extension": ".py",
   "mimetype": "text/x-python",
   "name": "python",
   "nbconvert_exporter": "python",
   "pygments_lexer": "ipython3",
   "version": "3.5.4"
  }
 },
 "nbformat": 4,
 "nbformat_minor": 2
}
