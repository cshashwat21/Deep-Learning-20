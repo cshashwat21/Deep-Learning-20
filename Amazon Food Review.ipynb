{
 "cells": [
  {
   "cell_type": "code",
   "execution_count": 1,
   "metadata": {},
   "outputs": [],
   "source": [
    "import pandas as pd"
   ]
  },
  {
   "cell_type": "code",
   "execution_count": 2,
   "metadata": {},
   "outputs": [],
   "source": [
    "reviews = pd.read_csv('amazon-fine-food-reviews/Reviews.csv')"
   ]
  },
  {
   "cell_type": "code",
   "execution_count": 3,
   "metadata": {},
   "outputs": [],
   "source": [
    "reviews_ss = reviews[['Score','Text']]"
   ]
  },
  {
   "cell_type": "code",
   "execution_count": 4,
   "metadata": {},
   "outputs": [],
   "source": [
    "sample_data = reviews_ss[reviews_ss.Score != 3].sample(1000)"
   ]
  },
  {
   "cell_type": "code",
   "execution_count": 5,
   "metadata": {},
   "outputs": [
    {
     "name": "stdout",
     "output_type": "stream",
     "text": [
      "<class 'pandas.core.frame.DataFrame'>\n",
      "Int64Index: 1000 entries, 117632 to 51427\n",
      "Data columns (total 2 columns):\n",
      "Score    1000 non-null int64\n",
      "Text     1000 non-null object\n",
      "dtypes: int64(1), object(1)\n",
      "memory usage: 23.4+ KB\n"
     ]
    }
   ],
   "source": [
    "sample_data.info()"
   ]
  },
  {
   "cell_type": "code",
   "execution_count": 6,
   "metadata": {},
   "outputs": [
    {
     "data": {
      "text/plain": [
       "5    686\n",
       "4    140\n",
       "1    112\n",
       "2     62\n",
       "Name: Score, dtype: int64"
      ]
     },
     "execution_count": 6,
     "metadata": {},
     "output_type": "execute_result"
    }
   ],
   "source": [
    "sample_data.Score.value_counts()"
   ]
  },
  {
   "cell_type": "code",
   "execution_count": 7,
   "metadata": {},
   "outputs": [],
   "source": [
    "def f(r):\n",
    "    if r > 3:\n",
    "        return 1\n",
    "    else:\n",
    "        return 0\n",
    "    \n",
    "sample_data['Sentiment'] = sample_data.Score.map(f)"
   ]
  },
  {
   "cell_type": "code",
   "execution_count": 8,
   "metadata": {},
   "outputs": [
    {
     "data": {
      "text/html": [
       "<div>\n",
       "<style scoped>\n",
       "    .dataframe tbody tr th:only-of-type {\n",
       "        vertical-align: middle;\n",
       "    }\n",
       "\n",
       "    .dataframe tbody tr th {\n",
       "        vertical-align: top;\n",
       "    }\n",
       "\n",
       "    .dataframe thead th {\n",
       "        text-align: right;\n",
       "    }\n",
       "</style>\n",
       "<table border=\"1\" class=\"dataframe\">\n",
       "  <thead>\n",
       "    <tr style=\"text-align: right;\">\n",
       "      <th></th>\n",
       "      <th>Score</th>\n",
       "      <th>Text</th>\n",
       "      <th>Sentiment</th>\n",
       "    </tr>\n",
       "  </thead>\n",
       "  <tbody>\n",
       "    <tr>\n",
       "      <th>117632</th>\n",
       "      <td>5</td>\n",
       "      <td>Bright, shiny colors give my projects POP!  Te...</td>\n",
       "      <td>1</td>\n",
       "    </tr>\n",
       "    <tr>\n",
       "      <th>145531</th>\n",
       "      <td>4</td>\n",
       "      <td>I've been looking for a really good peachy fla...</td>\n",
       "      <td>1</td>\n",
       "    </tr>\n",
       "    <tr>\n",
       "      <th>189295</th>\n",
       "      <td>4</td>\n",
       "      <td>Given this blend's orgin, the name \"English\" B...</td>\n",
       "      <td>1</td>\n",
       "    </tr>\n",
       "    <tr>\n",
       "      <th>338610</th>\n",
       "      <td>5</td>\n",
       "      <td>I'm not a morning person and I need my morning...</td>\n",
       "      <td>1</td>\n",
       "    </tr>\n",
       "    <tr>\n",
       "      <th>249372</th>\n",
       "      <td>5</td>\n",
       "      <td>These ginger snaps are GREAT! They taste and l...</td>\n",
       "      <td>1</td>\n",
       "    </tr>\n",
       "  </tbody>\n",
       "</table>\n",
       "</div>"
      ],
      "text/plain": [
       "        Score                                               Text  Sentiment\n",
       "117632      5  Bright, shiny colors give my projects POP!  Te...          1\n",
       "145531      4  I've been looking for a really good peachy fla...          1\n",
       "189295      4  Given this blend's orgin, the name \"English\" B...          1\n",
       "338610      5  I'm not a morning person and I need my morning...          1\n",
       "249372      5  These ginger snaps are GREAT! They taste and l...          1"
      ]
     },
     "execution_count": 8,
     "metadata": {},
     "output_type": "execute_result"
    }
   ],
   "source": [
    "sample_data.head()"
   ]
  },
  {
   "cell_type": "code",
   "execution_count": 9,
   "metadata": {},
   "outputs": [
    {
     "name": "stderr",
     "output_type": "stream",
     "text": [
      "/home/awantik/anaconda3/lib/python3.6/site-packages/h5py/__init__.py:36: FutureWarning: Conversion of the second argument of issubdtype from `float` to `np.floating` is deprecated. In future, it will be treated as `np.float64 == np.dtype(float).type`.\n",
      "  from ._conv import register_converters as _register_converters\n",
      "Using TensorFlow backend.\n"
     ]
    }
   ],
   "source": [
    "from keras.preprocessing.text import Tokenizer"
   ]
  },
  {
   "cell_type": "code",
   "execution_count": 10,
   "metadata": {},
   "outputs": [
    {
     "data": {
      "text/plain": [
       "1    826\n",
       "0    174\n",
       "Name: Sentiment, dtype: int64"
      ]
     },
     "execution_count": 10,
     "metadata": {},
     "output_type": "execute_result"
    }
   ],
   "source": [
    "sample_data.Sentiment.value_counts()"
   ]
  },
  {
   "cell_type": "code",
   "execution_count": 11,
   "metadata": {},
   "outputs": [],
   "source": [
    "max_features = 2000\n",
    "tok = Tokenizer(num_words=max_features,split= ' ')"
   ]
  },
  {
   "cell_type": "code",
   "execution_count": 12,
   "metadata": {},
   "outputs": [],
   "source": [
    "tok.fit_on_texts(sample_data.Text.values)"
   ]
  },
  {
   "cell_type": "code",
   "execution_count": 55,
   "metadata": {},
   "outputs": [],
   "source": [
    "#tok.fit_on_sequences(X)"
   ]
  },
  {
   "cell_type": "code",
   "execution_count": 13,
   "metadata": {},
   "outputs": [],
   "source": [
    "X = tok.texts_to_sequences(sample_data.Text.values)"
   ]
  },
  {
   "cell_type": "code",
   "execution_count": 14,
   "metadata": {},
   "outputs": [
    {
     "data": {
      "text/plain": [
       "[1112,\n",
       " 1411,\n",
       " 136,\n",
       " 13,\n",
       " 644,\n",
       " 234,\n",
       " 8,\n",
       " 23,\n",
       " 186,\n",
       " 18,\n",
       " 1628,\n",
       " 4,\n",
       " 133,\n",
       " 7,\n",
       " 923,\n",
       " 2,\n",
       " 90,\n",
       " 267,\n",
       " 5,\n",
       " 92,\n",
       " 208,\n",
       " 675,\n",
       " 1,\n",
       " 1011,\n",
       " 309,\n",
       " 1,\n",
       " 1629,\n",
       " 25,\n",
       " 645,\n",
       " 2,\n",
       " 67,\n",
       " 166,\n",
       " 5,\n",
       " 1916,\n",
       " 13,\n",
       " 1629,\n",
       " 134,\n",
       " 2,\n",
       " 166,\n",
       " 5,\n",
       " 1630,\n",
       " 4,\n",
       " 304,\n",
       " 1012,\n",
       " 35,\n",
       " 30,\n",
       " 69,\n",
       " 2,\n",
       " 532,\n",
       " 13,\n",
       " 122,\n",
       " 4,\n",
       " 805,\n",
       " 7,\n",
       " 1240,\n",
       " 3,\n",
       " 1631,\n",
       " 209,\n",
       " 1,\n",
       " 1629,\n",
       " 43,\n",
       " 618,\n",
       " 2,\n",
       " 1,\n",
       " 1240,\n",
       " 3,\n",
       " 763,\n",
       " 1,\n",
       " 1629,\n",
       " 220,\n",
       " 11,\n",
       " 1,\n",
       " 21,\n",
       " 67,\n",
       " 237,\n",
       " 4,\n",
       " 133]"
      ]
     },
     "execution_count": 14,
     "metadata": {},
     "output_type": "execute_result"
    }
   ],
   "source": [
    "X[0]"
   ]
  },
  {
   "cell_type": "code",
   "execution_count": 15,
   "metadata": {},
   "outputs": [],
   "source": [
    "#tok.word_index"
   ]
  },
  {
   "cell_type": "code",
   "execution_count": 16,
   "metadata": {},
   "outputs": [],
   "source": [
    "#tok.word_index"
   ]
  },
  {
   "cell_type": "code",
   "execution_count": 17,
   "metadata": {},
   "outputs": [],
   "source": [
    "from keras.preprocessing.sequence import pad_sequences"
   ]
  },
  {
   "cell_type": "code",
   "execution_count": 18,
   "metadata": {},
   "outputs": [],
   "source": [
    "X_pad = pad_sequences(X)"
   ]
  },
  {
   "cell_type": "code",
   "execution_count": 19,
   "metadata": {},
   "outputs": [
    {
     "data": {
      "text/plain": [
       "(1000, 575)"
      ]
     },
     "execution_count": 19,
     "metadata": {},
     "output_type": "execute_result"
    }
   ],
   "source": [
    "X_pad.shape"
   ]
  },
  {
   "cell_type": "code",
   "execution_count": 20,
   "metadata": {},
   "outputs": [
    {
     "data": {
      "text/plain": [
       "array([[  0,   0,   0, ..., 237,   4, 133],\n",
       "       [  0,   0,   0, ...,   4,   3, 437],\n",
       "       [  0,   0,   0, ..., 183,   7,  39],\n",
       "       ...,\n",
       "       [  0,   0,   0, ...,  30, 162,   6],\n",
       "       [  0,   0,   0, ...,  52,  31, 192],\n",
       "       [  0,   0,   0, ...,  38, 731, 349]], dtype=int32)"
      ]
     },
     "execution_count": 20,
     "metadata": {},
     "output_type": "execute_result"
    }
   ],
   "source": [
    "X_pad"
   ]
  },
  {
   "cell_type": "code",
   "execution_count": 27,
   "metadata": {},
   "outputs": [],
   "source": [
    "from keras.models import Sequential\n",
    "from keras.layers import Dense,Embedding,LSTM\n",
    "from keras.layers.core import SpatialDropout1D"
   ]
  },
  {
   "cell_type": "code",
   "execution_count": 39,
   "metadata": {},
   "outputs": [],
   "source": [
    "model = Sequential()"
   ]
  },
  {
   "cell_type": "code",
   "execution_count": 40,
   "metadata": {},
   "outputs": [],
   "source": [
    "model.add(Embedding(max_features, 128, input_length=X_pad.shape[1]))"
   ]
  },
  {
   "cell_type": "code",
   "execution_count": 41,
   "metadata": {},
   "outputs": [],
   "source": [
    "model.add(SpatialDropout1D(0.4))"
   ]
  },
  {
   "cell_type": "code",
   "execution_count": 42,
   "metadata": {},
   "outputs": [],
   "source": [
    "model.add(LSTM(196,dropout=0.2))"
   ]
  },
  {
   "cell_type": "code",
   "execution_count": 43,
   "metadata": {},
   "outputs": [],
   "source": [
    "model.add(Dense(2,activation='softmax'))"
   ]
  },
  {
   "cell_type": "code",
   "execution_count": 44,
   "metadata": {},
   "outputs": [],
   "source": [
    "model.compile(loss='categorical_crossentropy', optimizer='adam', metrics=['accuracy'])"
   ]
  },
  {
   "cell_type": "code",
   "execution_count": 45,
   "metadata": {},
   "outputs": [
    {
     "name": "stdout",
     "output_type": "stream",
     "text": [
      "_________________________________________________________________\n",
      "Layer (type)                 Output Shape              Param #   \n",
      "=================================================================\n",
      "embedding_3 (Embedding)      (None, 575, 128)          256000    \n",
      "_________________________________________________________________\n",
      "spatial_dropout1d_3 (Spatial (None, 575, 128)          0         \n",
      "_________________________________________________________________\n",
      "lstm_3 (LSTM)                (None, 196)               254800    \n",
      "_________________________________________________________________\n",
      "dense_3 (Dense)              (None, 2)                 394       \n",
      "=================================================================\n",
      "Total params: 511,194\n",
      "Trainable params: 511,194\n",
      "Non-trainable params: 0\n",
      "_________________________________________________________________\n"
     ]
    }
   ],
   "source": [
    "model.summary()"
   ]
  },
  {
   "cell_type": "code",
   "execution_count": 46,
   "metadata": {},
   "outputs": [],
   "source": [
    "from sklearn.model_selection import train_test_split"
   ]
  },
  {
   "cell_type": "code",
   "execution_count": 51,
   "metadata": {},
   "outputs": [],
   "source": [
    "Y = pd.get_dummies(sample_data.Sentiment).values"
   ]
  },
  {
   "cell_type": "code",
   "execution_count": 52,
   "metadata": {},
   "outputs": [],
   "source": [
    "trainX,testX, trainY,testY = train_test_split(X_pad,Y)"
   ]
  },
  {
   "cell_type": "code",
   "execution_count": 54,
   "metadata": {},
   "outputs": [
    {
     "name": "stdout",
     "output_type": "stream",
     "text": [
      "Train on 600 samples, validate on 150 samples\n",
      "Epoch 1/10\n",
      "600/600 [==============================] - 27s 46ms/step - loss: 0.4086 - acc: 0.8333 - val_loss: 0.4172 - val_acc: 0.8200\n",
      "Epoch 2/10\n",
      "600/600 [==============================] - 29s 49ms/step - loss: 0.3849 - acc: 0.8333 - val_loss: 0.3913 - val_acc: 0.8200\n",
      "Epoch 3/10\n",
      "600/600 [==============================] - 26s 44ms/step - loss: 0.3433 - acc: 0.8333 - val_loss: 0.3579 - val_acc: 0.8200\n",
      "Epoch 4/10\n",
      "600/600 [==============================] - 26s 43ms/step - loss: 0.2840 - acc: 0.8433 - val_loss: 1.1381 - val_acc: 0.8200\n",
      "Epoch 5/10\n",
      "600/600 [==============================] - 24s 40ms/step - loss: 0.3770 - acc: 0.8850 - val_loss: 0.3788 - val_acc: 0.8867\n",
      "Epoch 6/10\n",
      "600/600 [==============================] - 24s 40ms/step - loss: 0.3316 - acc: 0.9367 - val_loss: 0.3506 - val_acc: 0.8800\n",
      "Epoch 7/10\n",
      "600/600 [==============================] - 28s 46ms/step - loss: 0.2573 - acc: 0.9367 - val_loss: 0.3010 - val_acc: 0.8733\n",
      "Epoch 8/10\n",
      "600/600 [==============================] - 26s 44ms/step - loss: 0.1844 - acc: 0.9133 - val_loss: 0.3586 - val_acc: 0.8533\n",
      "Epoch 9/10\n",
      "600/600 [==============================] - 27s 46ms/step - loss: 0.1538 - acc: 0.9217 - val_loss: 0.3106 - val_acc: 0.8733\n",
      "Epoch 10/10\n",
      "600/600 [==============================] - 24s 40ms/step - loss: 0.1009 - acc: 0.9700 - val_loss: 0.2665 - val_acc: 0.9067\n"
     ]
    },
    {
     "data": {
      "text/plain": [
       "<keras.callbacks.History at 0x7f71a03970f0>"
      ]
     },
     "execution_count": 54,
     "metadata": {},
     "output_type": "execute_result"
    }
   ],
   "source": [
    "model.fit(trainX,trainY, epochs=10, batch_size=128,validation_split=0.2)"
   ]
  },
  {
   "cell_type": "code",
   "execution_count": 56,
   "metadata": {},
   "outputs": [
    {
     "data": {
      "text/plain": [
       "array([1, 1])"
      ]
     },
     "execution_count": 56,
     "metadata": {},
     "output_type": "execute_result"
    }
   ],
   "source": [
    "model.predict_classes(X_pad[:2])"
   ]
  },
  {
   "cell_type": "code",
   "execution_count": 71,
   "metadata": {},
   "outputs": [],
   "source": [
    "d = tok.texts_to_sequences(['The food was awesome','I hate'])"
   ]
  },
  {
   "cell_type": "code",
   "execution_count": 72,
   "metadata": {},
   "outputs": [],
   "source": [
    "X_t = pad_sequences(d,maxlen=575)"
   ]
  },
  {
   "cell_type": "code",
   "execution_count": 73,
   "metadata": {},
   "outputs": [
    {
     "data": {
      "text/plain": [
       "array([1, 1])"
      ]
     },
     "execution_count": 73,
     "metadata": {},
     "output_type": "execute_result"
    }
   ],
   "source": [
    "model.predict_classes(X_t)"
   ]
  },
  {
   "cell_type": "code",
   "execution_count": null,
   "metadata": {},
   "outputs": [],
   "source": []
  },
  {
   "cell_type": "code",
   "execution_count": null,
   "metadata": {},
   "outputs": [],
   "source": []
  }
 ],
 "metadata": {
  "kernelspec": {
   "display_name": "Python 3",
   "language": "python",
   "name": "python3"
  },
  "language_info": {
   "codemirror_mode": {
    "name": "ipython",
    "version": 3
   },
   "file_extension": ".py",
   "mimetype": "text/x-python",
   "name": "python",
   "nbconvert_exporter": "python",
   "pygments_lexer": "ipython3",
   "version": "3.6.5"
  }
 },
 "nbformat": 4,
 "nbformat_minor": 2
}
