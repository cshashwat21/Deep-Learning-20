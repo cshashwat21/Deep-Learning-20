{
 "cells": [
  {
   "cell_type": "code",
   "execution_count": 3,
   "metadata": {
    "collapsed": true
   },
   "outputs": [],
   "source": [
    "from keras.datasets  import mnist"
   ]
  },
  {
   "cell_type": "code",
   "execution_count": 4,
   "metadata": {
    "collapsed": true
   },
   "outputs": [],
   "source": [
    "(X_train, y_train), (X_val, y_val) = mnist.load_data()"
   ]
  },
  {
   "cell_type": "code",
   "execution_count": 5,
   "metadata": {},
   "outputs": [
    {
     "data": {
      "text/plain": [
       "(60000, 28, 28)"
      ]
     },
     "execution_count": 5,
     "metadata": {},
     "output_type": "execute_result"
    }
   ],
   "source": [
    "X_train.shape"
   ]
  },
  {
   "cell_type": "code",
   "execution_count": 7,
   "metadata": {},
   "outputs": [
    {
     "data": {
      "text/plain": [
       "(60000,)"
      ]
     },
     "execution_count": 7,
     "metadata": {},
     "output_type": "execute_result"
    }
   ],
   "source": [
    "y_train.shape"
   ]
  },
  {
   "cell_type": "code",
   "execution_count": 8,
   "metadata": {
    "collapsed": true
   },
   "outputs": [],
   "source": [
    "X_train = X_train.astype('float32')/255.\n",
    "X_val = X_val.astype('float32')/255."
   ]
  },
  {
   "cell_type": "code",
   "execution_count": 12,
   "metadata": {
    "collapsed": true
   },
   "outputs": [],
   "source": [
    "import matplotlib.pyplot as plt\n",
    "%matplotlib inline"
   ]
  },
  {
   "cell_type": "code",
   "execution_count": 14,
   "metadata": {},
   "outputs": [
    {
     "data": {
      "text/plain": [
       "<matplotlib.image.AxesImage at 0x17044bc0940>"
      ]
     },
     "execution_count": 14,
     "metadata": {},
     "output_type": "execute_result"
    },
    {
     "data": {
      "image/png": "[encoded data removed]",
      "text/plain": [
       "<matplotlib.figure.Figure at 0x17044255940>"
      ]
     },
     "metadata": {},
     "output_type": "display_data"
    }
   ],
   "source": [
    "plt.imshow(X_train[0],cmap='gray')"
   ]
  },
  {
   "cell_type": "code",
   "execution_count": 21,
   "metadata": {},
   "outputs": [
    {
     "data": {
      "text/plain": [
       "array([0., 0., 0., 0., 0., 1., 0., 0., 0., 0.])"
      ]
     },
     "execution_count": 21,
     "metadata": {},
     "output_type": "execute_result"
    }
   ],
   "source": [
    "y_train[0]"
   ]
  },
  {
   "cell_type": "code",
   "execution_count": 17,
   "metadata": {
    "collapsed": true
   },
   "outputs": [],
   "source": [
    "from keras.utils import to_categorical"
   ]
  },
  {
   "cell_type": "code",
   "execution_count": 18,
   "metadata": {
    "collapsed": true
   },
   "outputs": [],
   "source": [
    "n_classes = 10\n",
    "y_train = to_categorical(y_train, n_classes)\n",
    "y_val = to_categorical(y_val, n_classes)"
   ]
  },
  {
   "cell_type": "code",
   "execution_count": 20,
   "metadata": {},
   "outputs": [
    {
     "data": {
      "text/plain": [
       "array([0., 0., 0., 0., 0., 1., 0., 0., 0., 0.])"
      ]
     },
     "execution_count": 20,
     "metadata": {},
     "output_type": "execute_result"
    }
   ],
   "source": [
    "y_train[0]"
   ]
  },
  {
   "cell_type": "code",
   "execution_count": 31,
   "metadata": {
    "collapsed": true
   },
   "outputs": [],
   "source": [
    "from keras.models import Sequential\n",
    "from keras.layers import Dense, Dropout\n",
    "\n",
    "model_relu = Sequential()\n",
    "model_relu.add(Dense(700, input_dim=784, activation='relu')) \n",
    "model_relu.add(Dense(100, activation='relu')) \n",
    "model_relu.add(Dense(10, activation='softmax'))"
   ]
  },
  {
   "cell_type": "code",
   "execution_count": 23,
   "metadata": {
    "collapsed": true
   },
   "outputs": [],
   "source": [
    "model_relu.compile(loss='categorical_crossentropy', optimizer='sgd', metrics=['accuracy'])"
   ]
  },
  {
   "cell_type": "code",
   "execution_count": 24,
   "metadata": {},
   "outputs": [
    {
     "name": "stdout",
     "output_type": "stream",
     "text": [
      "_________________________________________________________________\n",
      "Layer (type)                 Output Shape              Param #   \n",
      "=================================================================\n",
      "dense_1 (Dense)              (None, 700)               549500    \n",
      "_________________________________________________________________\n",
      "dense_2 (Dense)              (None, 100)               70100     \n",
      "_________________________________________________________________\n",
      "dense_3 (Dense)              (None, 10)                1010      \n",
      "=================================================================\n",
      "Total params: 620,610\n",
      "Trainable params: 620,610\n",
      "Non-trainable params: 0\n",
      "_________________________________________________________________\n"
     ]
    }
   ],
   "source": [
    "model_relu.summary()"
   ]
  },
  {
   "cell_type": "code",
   "execution_count": 25,
   "metadata": {
    "collapsed": true
   },
   "outputs": [],
   "source": [
    "import numpy as np"
   ]
  },
  {
   "cell_type": "code",
   "execution_count": 28,
   "metadata": {
    "collapsed": true
   },
   "outputs": [],
   "source": [
    "X_train = np.reshape(X_train,(60000,784))"
   ]
  },
  {
   "cell_type": "code",
   "execution_count": 29,
   "metadata": {
    "collapsed": true
   },
   "outputs": [],
   "source": [
    "X_val = np.reshape(X_val,(10000,784))"
   ]
  },
  {
   "cell_type": "code",
   "execution_count": 30,
   "metadata": {},
   "outputs": [
    {
     "name": "stdout",
     "output_type": "stream",
     "text": [
      "Train on 48000 samples, validate on 12000 samples\n",
      "Epoch 1/100\n",
      " - 4s - loss: 1.6026 - acc: 0.6242 - val_loss: 0.9667 - val_acc: 0.8303\n",
      "Epoch 2/100\n",
      " - 4s - loss: 0.7556 - acc: 0.8407 - val_loss: 0.5640 - val_acc: 0.8724\n",
      "Epoch 3/100\n",
      " - 4s - loss: 0.5300 - acc: 0.8709 - val_loss: 0.4422 - val_acc: 0.8926\n",
      "Epoch 4/100\n",
      " - 4s - loss: 0.4429 - acc: 0.8854 - val_loss: 0.3854 - val_acc: 0.8997\n",
      "Epoch 5/100\n",
      " - 4s - loss: 0.3959 - acc: 0.8945 - val_loss: 0.3527 - val_acc: 0.9039\n",
      "Epoch 6/100\n",
      " - 4s - loss: 0.3656 - acc: 0.9008 - val_loss: 0.3298 - val_acc: 0.9083\n",
      "Epoch 7/100\n",
      " - 4s - loss: 0.3435 - acc: 0.9061 - val_loss: 0.3129 - val_acc: 0.9111\n",
      "Epoch 8/100\n",
      " - 4s - loss: 0.3264 - acc: 0.9099 - val_loss: 0.3003 - val_acc: 0.9149\n",
      "Epoch 9/100\n",
      " - 4s - loss: 0.3124 - acc: 0.9135 - val_loss: 0.2894 - val_acc: 0.9179\n",
      "Epoch 10/100\n",
      " - 4s - loss: 0.3006 - acc: 0.9163 - val_loss: 0.2785 - val_acc: 0.9201\n",
      "Epoch 11/100\n",
      " - 4s - loss: 0.2901 - acc: 0.9186 - val_loss: 0.2702 - val_acc: 0.9227\n",
      "Epoch 12/100\n",
      " - 4s - loss: 0.2808 - acc: 0.9210 - val_loss: 0.2625 - val_acc: 0.9247\n",
      "Epoch 13/100\n",
      " - 4s - loss: 0.2725 - acc: 0.9227 - val_loss: 0.2560 - val_acc: 0.9260\n",
      "Epoch 14/100\n",
      " - 4s - loss: 0.2647 - acc: 0.9259 - val_loss: 0.2497 - val_acc: 0.9283\n",
      "Epoch 15/100\n",
      " - 4s - loss: 0.2576 - acc: 0.9278 - val_loss: 0.2449 - val_acc: 0.9303\n",
      "Epoch 16/100\n",
      " - 4s - loss: 0.2510 - acc: 0.9298 - val_loss: 0.2384 - val_acc: 0.9324\n",
      "Epoch 17/100\n",
      " - 4s - loss: 0.2448 - acc: 0.9313 - val_loss: 0.2338 - val_acc: 0.9325\n",
      "Epoch 18/100\n",
      " - 4s - loss: 0.2390 - acc: 0.9333 - val_loss: 0.2287 - val_acc: 0.9357\n",
      "Epoch 19/100\n",
      " - 4s - loss: 0.2334 - acc: 0.9345 - val_loss: 0.2247 - val_acc: 0.9367\n",
      "Epoch 20/100\n",
      " - 4s - loss: 0.2282 - acc: 0.9358 - val_loss: 0.2197 - val_acc: 0.9392\n",
      "Epoch 21/100\n",
      " - 4s - loss: 0.2232 - acc: 0.9368 - val_loss: 0.2156 - val_acc: 0.9410\n",
      "Epoch 22/100\n",
      " - 4s - loss: 0.2184 - acc: 0.9383 - val_loss: 0.2124 - val_acc: 0.9405\n",
      "Epoch 23/100\n",
      " - 4s - loss: 0.2139 - acc: 0.9394 - val_loss: 0.2082 - val_acc: 0.9433\n",
      "Epoch 24/100\n",
      " - 4s - loss: 0.2094 - acc: 0.9410 - val_loss: 0.2049 - val_acc: 0.9431\n",
      "Epoch 25/100\n",
      " - 5s - loss: 0.2052 - acc: 0.9417 - val_loss: 0.2020 - val_acc: 0.9440\n",
      "Epoch 26/100\n",
      " - 4s - loss: 0.2012 - acc: 0.9428 - val_loss: 0.1981 - val_acc: 0.9456\n",
      "Epoch 27/100\n",
      " - 4s - loss: 0.1974 - acc: 0.9442 - val_loss: 0.1950 - val_acc: 0.9463\n",
      "Epoch 28/100\n",
      " - 4s - loss: 0.1935 - acc: 0.9452 - val_loss: 0.1922 - val_acc: 0.9475\n",
      "Epoch 29/100\n",
      " - 4s - loss: 0.1900 - acc: 0.9467 - val_loss: 0.1890 - val_acc: 0.9485\n",
      "Epoch 30/100\n",
      " - 6s - loss: 0.1865 - acc: 0.9476 - val_loss: 0.1861 - val_acc: 0.9493\n",
      "Epoch 31/100\n",
      " - 4s - loss: 0.1831 - acc: 0.9488 - val_loss: 0.1839 - val_acc: 0.9493\n",
      "Epoch 32/100\n",
      " - 4s - loss: 0.1798 - acc: 0.9493 - val_loss: 0.1807 - val_acc: 0.9511\n",
      "Epoch 33/100\n",
      " - 4s - loss: 0.1767 - acc: 0.9504 - val_loss: 0.1782 - val_acc: 0.9516\n",
      "Epoch 34/100\n",
      " - 4s - loss: 0.1736 - acc: 0.9514 - val_loss: 0.1758 - val_acc: 0.9521\n",
      "Epoch 35/100\n",
      " - 4s - loss: 0.1707 - acc: 0.9522 - val_loss: 0.1733 - val_acc: 0.9520\n",
      "Epoch 36/100\n",
      " - 4s - loss: 0.1677 - acc: 0.9530 - val_loss: 0.1719 - val_acc: 0.9535\n",
      "Epoch 37/100\n",
      " - 4s - loss: 0.1649 - acc: 0.9536 - val_loss: 0.1690 - val_acc: 0.9535\n",
      "Epoch 38/100\n",
      " - 4s - loss: 0.1623 - acc: 0.9542 - val_loss: 0.1669 - val_acc: 0.9550\n",
      "Epoch 39/100\n",
      " - 4s - loss: 0.1597 - acc: 0.9554 - val_loss: 0.1648 - val_acc: 0.9554\n",
      "Epoch 40/100\n",
      " - 4s - loss: 0.1570 - acc: 0.9560 - val_loss: 0.1639 - val_acc: 0.9543\n",
      "Epoch 41/100\n",
      " - 5s - loss: 0.1547 - acc: 0.9564 - val_loss: 0.1614 - val_acc: 0.9552\n",
      "Epoch 42/100\n",
      " - 5s - loss: 0.1522 - acc: 0.9572 - val_loss: 0.1593 - val_acc: 0.9572\n",
      "Epoch 43/100\n",
      " - 5s - loss: 0.1498 - acc: 0.9580 - val_loss: 0.1573 - val_acc: 0.9572\n",
      "Epoch 44/100\n",
      " - 5s - loss: 0.1475 - acc: 0.9583 - val_loss: 0.1562 - val_acc: 0.9570\n",
      "Epoch 45/100\n",
      " - 5s - loss: 0.1453 - acc: 0.9592 - val_loss: 0.1541 - val_acc: 0.9582\n",
      "Epoch 46/100\n",
      " - 5s - loss: 0.1431 - acc: 0.9597 - val_loss: 0.1524 - val_acc: 0.9587\n",
      "Epoch 47/100\n",
      " - 5s - loss: 0.1409 - acc: 0.9606 - val_loss: 0.1508 - val_acc: 0.9595\n",
      "Epoch 48/100\n",
      " - 5s - loss: 0.1389 - acc: 0.9613 - val_loss: 0.1494 - val_acc: 0.9597\n",
      "Epoch 49/100\n",
      " - 5s - loss: 0.1369 - acc: 0.9616 - val_loss: 0.1478 - val_acc: 0.9600\n",
      "Epoch 50/100\n",
      " - 5s - loss: 0.1349 - acc: 0.9624 - val_loss: 0.1464 - val_acc: 0.9599\n",
      "Epoch 51/100\n",
      " - 5s - loss: 0.1330 - acc: 0.9629 - val_loss: 0.1451 - val_acc: 0.9599\n",
      "Epoch 52/100\n",
      " - 5s - loss: 0.1311 - acc: 0.9631 - val_loss: 0.1438 - val_acc: 0.9604\n",
      "Epoch 53/100\n",
      " - 5s - loss: 0.1294 - acc: 0.9637 - val_loss: 0.1428 - val_acc: 0.9609\n",
      "Epoch 54/100\n",
      " - 5s - loss: 0.1274 - acc: 0.9646 - val_loss: 0.1411 - val_acc: 0.9607\n",
      "Epoch 55/100\n",
      " - 5s - loss: 0.1257 - acc: 0.9653 - val_loss: 0.1395 - val_acc: 0.9612\n",
      "Epoch 56/100\n",
      " - 5s - loss: 0.1240 - acc: 0.9654 - val_loss: 0.1384 - val_acc: 0.9623\n",
      "Epoch 57/100\n",
      " - 5s - loss: 0.1224 - acc: 0.9659 - val_loss: 0.1375 - val_acc: 0.9626\n",
      "Epoch 58/100\n",
      " - 5s - loss: 0.1206 - acc: 0.9667 - val_loss: 0.1364 - val_acc: 0.9627\n",
      "Epoch 59/100\n",
      " - 5s - loss: 0.1192 - acc: 0.9669 - val_loss: 0.1349 - val_acc: 0.9625\n",
      "Epoch 60/100\n",
      " - 5s - loss: 0.1175 - acc: 0.9677 - val_loss: 0.1338 - val_acc: 0.9629\n",
      "Epoch 61/100\n",
      " - 5s - loss: 0.1160 - acc: 0.9676 - val_loss: 0.1324 - val_acc: 0.9635\n",
      "Epoch 62/100\n",
      " - 5s - loss: 0.1145 - acc: 0.9686 - val_loss: 0.1319 - val_acc: 0.9634\n",
      "Epoch 63/100\n",
      " - 5s - loss: 0.1129 - acc: 0.9690 - val_loss: 0.1311 - val_acc: 0.9647\n",
      "Epoch 64/100\n",
      " - 3s - loss: 0.1116 - acc: 0.9694 - val_loss: 0.1299 - val_acc: 0.9647\n",
      "Epoch 65/100\n",
      " - 3s - loss: 0.1102 - acc: 0.9695 - val_loss: 0.1283 - val_acc: 0.9646\n",
      "Epoch 66/100\n",
      " - 4s - loss: 0.1088 - acc: 0.9703 - val_loss: 0.1273 - val_acc: 0.9653\n",
      "Epoch 67/100\n",
      " - 3s - loss: 0.1073 - acc: 0.9707 - val_loss: 0.1265 - val_acc: 0.9648\n",
      "Epoch 68/100\n",
      " - 3s - loss: 0.1060 - acc: 0.9711 - val_loss: 0.1262 - val_acc: 0.9654\n",
      "Epoch 69/100\n",
      " - 3s - loss: 0.1047 - acc: 0.9712 - val_loss: 0.1250 - val_acc: 0.9655\n",
      "Epoch 70/100\n",
      " - 3s - loss: 0.1035 - acc: 0.9718 - val_loss: 0.1247 - val_acc: 0.9655\n",
      "Epoch 71/100\n",
      " - 3s - loss: 0.1022 - acc: 0.9722 - val_loss: 0.1232 - val_acc: 0.9662\n",
      "Epoch 72/100\n",
      " - 3s - loss: 0.1009 - acc: 0.9726 - val_loss: 0.1230 - val_acc: 0.9658\n",
      "Epoch 73/100\n",
      " - 3s - loss: 0.0997 - acc: 0.9732 - val_loss: 0.1218 - val_acc: 0.9668\n",
      "Epoch 74/100\n",
      " - 3s - loss: 0.0986 - acc: 0.9732 - val_loss: 0.1211 - val_acc: 0.9669\n",
      "Epoch 75/100\n",
      " - 3s - loss: 0.0974 - acc: 0.9738 - val_loss: 0.1200 - val_acc: 0.9671\n",
      "Epoch 76/100\n",
      " - 3s - loss: 0.0963 - acc: 0.9738 - val_loss: 0.1193 - val_acc: 0.9666\n",
      "Epoch 77/100\n",
      " - 3s - loss: 0.0952 - acc: 0.9743 - val_loss: 0.1185 - val_acc: 0.9674\n",
      "Epoch 78/100\n",
      " - 3s - loss: 0.0939 - acc: 0.9746 - val_loss: 0.1177 - val_acc: 0.9673\n",
      "Epoch 79/100\n",
      " - 3s - loss: 0.0929 - acc: 0.9750 - val_loss: 0.1170 - val_acc: 0.9677\n",
      "Epoch 80/100\n",
      " - 3s - loss: 0.0919 - acc: 0.9755 - val_loss: 0.1162 - val_acc: 0.9678\n",
      "Epoch 81/100\n",
      " - 3s - loss: 0.0907 - acc: 0.9759 - val_loss: 0.1158 - val_acc: 0.9677\n",
      "Epoch 82/100\n",
      " - 3s - loss: 0.0897 - acc: 0.9761 - val_loss: 0.1149 - val_acc: 0.9682\n",
      "Epoch 83/100\n",
      " - 3s - loss: 0.0887 - acc: 0.9764 - val_loss: 0.1141 - val_acc: 0.9689\n",
      "Epoch 84/100\n",
      " - 3s - loss: 0.0876 - acc: 0.9766 - val_loss: 0.1137 - val_acc: 0.9682\n",
      "Epoch 85/100\n",
      " - 3s - loss: 0.0866 - acc: 0.9774 - val_loss: 0.1137 - val_acc: 0.9678\n",
      "Epoch 86/100\n",
      " - 3s - loss: 0.0857 - acc: 0.9771 - val_loss: 0.1125 - val_acc: 0.9687\n",
      "Epoch 87/100\n",
      " - 3s - loss: 0.0847 - acc: 0.9774 - val_loss: 0.1118 - val_acc: 0.9685\n",
      "Epoch 88/100\n",
      " - 3s - loss: 0.0839 - acc: 0.9779 - val_loss: 0.1112 - val_acc: 0.9687\n",
      "Epoch 89/100\n",
      " - 3s - loss: 0.0829 - acc: 0.9782 - val_loss: 0.1111 - val_acc: 0.9683\n",
      "Epoch 90/100\n",
      " - 3s - loss: 0.0820 - acc: 0.9785 - val_loss: 0.1102 - val_acc: 0.9696\n",
      "Epoch 91/100\n",
      " - 3s - loss: 0.0811 - acc: 0.9785 - val_loss: 0.1096 - val_acc: 0.9687\n",
      "Epoch 92/100\n",
      " - 3s - loss: 0.0802 - acc: 0.9789 - val_loss: 0.1092 - val_acc: 0.9688\n",
      "Epoch 93/100\n",
      " - 3s - loss: 0.0795 - acc: 0.9790 - val_loss: 0.1084 - val_acc: 0.9697\n",
      "Epoch 94/100\n",
      " - 3s - loss: 0.0785 - acc: 0.9795 - val_loss: 0.1085 - val_acc: 0.9702\n",
      "Epoch 95/100\n",
      " - 3s - loss: 0.0776 - acc: 0.9797 - val_loss: 0.1079 - val_acc: 0.9692\n",
      "Epoch 96/100\n",
      " - 3s - loss: 0.0769 - acc: 0.9799 - val_loss: 0.1072 - val_acc: 0.9696\n"
     ]
    },
    {
     "name": "stdout",
     "output_type": "stream",
     "text": [
      "Epoch 97/100\n",
      " - 3s - loss: 0.0760 - acc: 0.9801 - val_loss: 0.1064 - val_acc: 0.9705\n",
      "Epoch 98/100\n",
      " - 4s - loss: 0.0752 - acc: 0.9802 - val_loss: 0.1063 - val_acc: 0.9698\n",
      "Epoch 99/100\n",
      " - 3s - loss: 0.0744 - acc: 0.9808 - val_loss: 0.1055 - val_acc: 0.9707\n",
      "Epoch 100/100\n",
      " - 4s - loss: 0.0736 - acc: 0.9809 - val_loss: 0.1051 - val_acc: 0.9704\n"
     ]
    },
    {
     "data": {
      "text/plain": [
       "<keras.callbacks.History at 0x17044ea1908>"
      ]
     },
     "execution_count": 30,
     "metadata": {},
     "output_type": "execute_result"
    }
   ],
   "source": [
    "n_epochs = 100\n",
    "batch_size = 256\n",
    "validation_split = 0.2\n",
    "\n",
    "model_relu.fit(X_train, y_train, epochs=n_epochs, batch_size=batch_size, validation_split=validation_split, verbose=2)"
   ]
  },
  {
   "cell_type": "code",
   "execution_count": null,
   "metadata": {
    "collapsed": true
   },
   "outputs": [],
   "source": [
    "  bb                    "
   ]
  }
 ],
 "metadata": {
  "kernelspec": {
   "display_name": "Python 3",
   "language": "python",
   "name": "python3"
  },
  "language_info": {
   "codemirror_mode": {
    "name": "ipython",
    "version": 3
   },
   "file_extension": ".py",
   "mimetype": "text/x-python",
   "name": "python",
   "nbconvert_exporter": "python",
   "pygments_lexer": "ipython3",
   "version": "3.6.1"
  }
 },
 "nbformat": 4,
 "nbformat_minor": 2
}
