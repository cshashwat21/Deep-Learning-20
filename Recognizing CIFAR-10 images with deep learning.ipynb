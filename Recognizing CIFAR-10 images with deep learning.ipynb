{
 "cells": [
  {
   "cell_type": "code",
   "execution_count": 1,
   "metadata": {},
   "outputs": [
    {
     "name": "stderr",
     "output_type": "stream",
     "text": [
      "Using TensorFlow backend.\n"
     ]
    },
    {
     "name": "stdout",
     "output_type": "stream",
     "text": [
      "X_train shape: (50000, 32, 32, 3)\n",
      "50000 train samples\n",
      "10000 test samples\n"
     ]
    }
   ],
   "source": [
    "from keras.datasets import cifar10\n",
    "from keras.utils import np_utils\n",
    "from keras.models import Sequential\n",
    "from keras.layers.core import Dense, Dropout, Activation, Flatten\n",
    "from keras.layers.convolutional import Conv2D, MaxPooling2D\n",
    "from keras.optimizers import SGD, Adam, RMSprop\n",
    "import matplotlib.pyplot as plt\n",
    "\n",
    "# CIFAR_10 is a set of 60K images 32x32 pixels on 3 channels\n",
    "IMG_CHANNELS = 3\n",
    "IMG_ROWS = 32\n",
    "IMG_COLS = 32\n",
    "\n",
    "#constant\n",
    "BATCH_SIZE = 128\n",
    "NB_EPOCH = 20\n",
    "NB_CLASSES = 10\n",
    "VERBOSE = 1\n",
    "VALIDATION_SPLIT = 0.2\n",
    "OPTIM = RMSprop()\n",
    "\n",
    "#load dataset\n",
    "(X_train, y_train), (X_test, y_test) = cifar10.load_data()\n",
    "print('X_train shape:', X_train.shape)\n",
    "print(X_train.shape[0], 'train samples')\n",
    "print(X_test.shape[0], 'test samples')"
   ]
  },
  {
   "cell_type": "code",
   "execution_count": 2,
   "metadata": {
    "collapsed": true
   },
   "outputs": [],
   "source": [
    "# convert to categorical\n",
    "Y_train = np_utils.to_categorical(y_train, NB_CLASSES)\n",
    "Y_test = np_utils.to_categorical(y_test, NB_CLASSES)\n",
    "\n",
    "# float and normalization\n",
    "X_train = X_train.astype('float32')\n",
    "X_test = X_test.astype('float32')\n",
    "X_train /= 255\n",
    "X_test /= 255"
   ]
  },
  {
   "cell_type": "code",
   "execution_count": 3,
   "metadata": {
    "collapsed": true
   },
   "outputs": [],
   "source": [
    "# network\n",
    "model = Sequential()\n",
    "model.add(Conv2D(32, (3, 3), padding='same',\n",
    "input_shape=(IMG_ROWS, IMG_COLS, IMG_CHANNELS)))\n",
    "model.add(Activation('relu'))\n",
    "model.add(MaxPooling2D(pool_size=(2, 2)))\n",
    "model.add(Dropout(0.25))"
   ]
  },
  {
   "cell_type": "code",
   "execution_count": 4,
   "metadata": {},
   "outputs": [
    {
     "name": "stdout",
     "output_type": "stream",
     "text": [
      "_________________________________________________________________\n",
      "Layer (type)                 Output Shape              Param #   \n",
      "=================================================================\n",
      "conv2d_1 (Conv2D)            (None, 32, 32, 32)        896       \n",
      "_________________________________________________________________\n",
      "activation_1 (Activation)    (None, 32, 32, 32)        0         \n",
      "_________________________________________________________________\n",
      "max_pooling2d_1 (MaxPooling2 (None, 16, 16, 32)        0         \n",
      "_________________________________________________________________\n",
      "dropout_1 (Dropout)          (None, 16, 16, 32)        0         \n",
      "_________________________________________________________________\n",
      "flatten_1 (Flatten)          (None, 8192)              0         \n",
      "_________________________________________________________________\n",
      "dense_1 (Dense)              (None, 512)               4194816   \n",
      "_________________________________________________________________\n",
      "activation_2 (Activation)    (None, 512)               0         \n",
      "_________________________________________________________________\n",
      "dropout_2 (Dropout)          (None, 512)               0         \n",
      "_________________________________________________________________\n",
      "dense_2 (Dense)              (None, 10)                5130      \n",
      "_________________________________________________________________\n",
      "activation_3 (Activation)    (None, 10)                0         \n",
      "=================================================================\n",
      "Total params: 4,200,842\n",
      "Trainable params: 4,200,842\n",
      "Non-trainable params: 0\n",
      "_________________________________________________________________\n"
     ]
    }
   ],
   "source": [
    "model.add(Flatten())\n",
    "model.add(Dense(512))\n",
    "model.add(Activation('relu'))\n",
    "model.add(Dropout(0.5))\n",
    "model.add(Dense(NB_CLASSES))\n",
    "model.add(Activation('softmax'))\n",
    "model.summary()"
   ]
  },
  {
   "cell_type": "code",
   "execution_count": 20,
   "metadata": {},
   "outputs": [
    {
     "name": "stdout",
     "output_type": "stream",
     "text": [
      "Train on 40000 samples, validate on 10000 samples\n",
      "Epoch 1/20\n",
      "40000/40000 [==============================] - 197s 5ms/step - loss: 1.7530 - acc: 0.3859 - val_loss: 1.5103 - val_acc: 0.4526\n",
      "Epoch 2/20\n",
      "40000/40000 [==============================] - 228s 6ms/step - loss: 1.3754 - acc: 0.5142 - val_loss: 1.3243 - val_acc: 0.5391\n",
      "Epoch 3/20\n",
      "40000/40000 [==============================] - 224s 6ms/step - loss: 1.2477 - acc: 0.5582 - val_loss: 1.1849 - val_acc: 0.5857\n",
      "Epoch 4/20\n",
      "40000/40000 [==============================] - 215s 5ms/step - loss: 1.1586 - acc: 0.5913 - val_loss: 1.1821 - val_acc: 0.5878\n",
      "Epoch 5/20\n",
      "40000/40000 [==============================] - 210s 5ms/step - loss: 1.0883 - acc: 0.6163 - val_loss: 1.1399 - val_acc: 0.6002\n",
      "Epoch 6/20\n",
      "40000/40000 [==============================] - 422s 11ms/step - loss: 1.0235 - acc: 0.6414 - val_loss: 1.0814 - val_acc: 0.6276\n",
      "Epoch 7/20\n",
      "40000/40000 [==============================] - 224s 6ms/step - loss: 0.9698 - acc: 0.6581 - val_loss: 1.0298 - val_acc: 0.6408\n",
      "Epoch 8/20\n",
      "40000/40000 [==============================] - 204s 5ms/step - loss: 0.9245 - acc: 0.6748 - val_loss: 1.0827 - val_acc: 0.6218\n",
      "Epoch 9/20\n",
      "40000/40000 [==============================] - 220s 5ms/step - loss: 0.8848 - acc: 0.6923 - val_loss: 0.9977 - val_acc: 0.6576\n",
      "Epoch 10/20\n",
      "40000/40000 [==============================] - 197s 5ms/step - loss: 0.8498 - acc: 0.7037 - val_loss: 1.0465 - val_acc: 0.6408\n",
      "Epoch 11/20\n",
      "40000/40000 [==============================] - 203s 5ms/step - loss: 0.8118 - acc: 0.7172 - val_loss: 1.0054 - val_acc: 0.6550\n",
      "Epoch 12/20\n",
      "40000/40000 [==============================] - 47952s 1s/step - loss: 0.7766 - acc: 0.7299 - val_loss: 1.0277 - val_acc: 0.6620\n",
      "Epoch 13/20\n",
      "40000/40000 [==============================] - 266s 7ms/step - loss: 0.7446 - acc: 0.7424 - val_loss: 0.9811 - val_acc: 0.6738\n",
      "Epoch 14/20\n",
      "40000/40000 [==============================] - 238s 6ms/step - loss: 0.7198 - acc: 0.7500 - val_loss: 1.0123 - val_acc: 0.6731\n",
      "Epoch 15/20\n",
      "40000/40000 [==============================] - 216s 5ms/step - loss: 0.6919 - acc: 0.7598 - val_loss: 1.0014 - val_acc: 0.6740\n",
      "Epoch 16/20\n",
      "40000/40000 [==============================] - 292s 7ms/step - loss: 0.6693 - acc: 0.7682 - val_loss: 1.0823 - val_acc: 0.6528\n",
      "Epoch 17/20\n",
      "40000/40000 [==============================] - 290s 7ms/step - loss: 0.6470 - acc: 0.7760 - val_loss: 1.1081 - val_acc: 0.6649\n",
      "Epoch 18/20\n",
      "40000/40000 [==============================] - 298s 7ms/step - loss: 0.6196 - acc: 0.7852 - val_loss: 1.0696 - val_acc: 0.6662\n",
      "Epoch 19/20\n",
      "40000/40000 [==============================] - 293s 7ms/step - loss: 0.6032 - acc: 0.7932 - val_loss: 1.1367 - val_acc: 0.6620\n",
      "Epoch 20/20\n",
      "40000/40000 [==============================] - 309s 8ms/step - loss: 0.5800 - acc: 0.8007 - val_loss: 1.0880 - val_acc: 0.6719\n",
      "10000/10000 [==============================] - 19s 2ms/step\n",
      "Test score: 1.07878159962\n",
      "Test accuracy: 0.6626\n"
     ]
    }
   ],
   "source": [
    "# train\n",
    "model.compile(loss='categorical_crossentropy', optimizer=OPTIM,\n",
    "metrics=['accuracy'])\n",
    "model.fit(X_train, Y_train, batch_size=BATCH_SIZE,\n",
    "epochs=NB_EPOCH, validation_split=VALIDATION_SPLIT,\n",
    "verbose=VERBOSE)\n",
    "score = model.evaluate(X_test, Y_test,\n",
    "batch_size=BATCH_SIZE, verbose=VERBOSE)\n",
    "print(\"Test score:\", score[0])\n",
    "print('Test accuracy:', score[1])"
   ]
  },
  {
   "cell_type": "code",
   "execution_count": 5,
   "metadata": {},
   "outputs": [
    {
     "name": "stdout",
     "output_type": "stream",
     "text": [
      "_________________________________________________________________\n",
      "Layer (type)                 Output Shape              Param #   \n",
      "=================================================================\n",
      "conv2d_1 (Conv2D)            (None, 32, 32, 32)        896       \n",
      "_________________________________________________________________\n",
      "activation_1 (Activation)    (None, 32, 32, 32)        0         \n",
      "_________________________________________________________________\n",
      "max_pooling2d_1 (MaxPooling2 (None, 16, 16, 32)        0         \n",
      "_________________________________________________________________\n",
      "dropout_1 (Dropout)          (None, 16, 16, 32)        0         \n",
      "_________________________________________________________________\n",
      "flatten_1 (Flatten)          (None, 8192)              0         \n",
      "_________________________________________________________________\n",
      "dense_1 (Dense)              (None, 512)               4194816   \n",
      "_________________________________________________________________\n",
      "activation_2 (Activation)    (None, 512)               0         \n",
      "_________________________________________________________________\n",
      "dropout_2 (Dropout)          (None, 512)               0         \n",
      "_________________________________________________________________\n",
      "dense_2 (Dense)              (None, 10)                5130      \n",
      "_________________________________________________________________\n",
      "activation_3 (Activation)    (None, 10)                0         \n",
      "=================================================================\n",
      "Total params: 4,200,842\n",
      "Trainable params: 4,200,842\n",
      "Non-trainable params: 0\n",
      "_________________________________________________________________\n"
     ]
    }
   ],
   "source": [
    "model.summary()"
   ]
  },
  {
   "cell_type": "code",
   "execution_count": 21,
   "metadata": {
    "collapsed": true
   },
   "outputs": [],
   "source": [
    "import scipy.misc"
   ]
  },
  {
   "cell_type": "code",
   "execution_count": 22,
   "metadata": {
    "collapsed": true
   },
   "outputs": [],
   "source": [
    "img_names = ['cat.jpg', 'dog.jpg']"
   ]
  },
  {
   "cell_type": "code",
   "execution_count": 23,
   "metadata": {
    "collapsed": true
   },
   "outputs": [],
   "source": [
    "import numpy as np"
   ]
  },
  {
   "cell_type": "code",
   "execution_count": 24,
   "metadata": {
    "collapsed": true
   },
   "outputs": [],
   "source": [
    "imgs = scipy.misc.imread('dog.jpg')"
   ]
  },
  {
   "cell_type": "code",
   "execution_count": 25,
   "metadata": {
    "collapsed": true
   },
   "outputs": [],
   "source": [
    "imgs = scipy.misc.imresize(imgs, (32,32))"
   ]
  },
  {
   "cell_type": "code",
   "execution_count": 26,
   "metadata": {},
   "outputs": [
    {
     "data": {
      "text/plain": [
       "array([5], dtype=int64)"
      ]
     },
     "execution_count": 26,
     "metadata": {},
     "output_type": "execute_result"
    }
   ],
   "source": [
    "model.predict_classes(imgs.reshape(1,32,32,3))"
   ]
  },
  {
   "cell_type": "code",
   "execution_count": 19,
   "metadata": {},
   "outputs": [
    {
     "data": {
      "text/plain": [
       "array([[ 0.,  0.,  0.,  0.,  0.,  0.,  0.,  1.,  0.,  0.]], dtype=float32)"
      ]
     },
     "execution_count": 19,
     "metadata": {},
     "output_type": "execute_result"
    }
   ],
   "source": [
    "model.predict_proba(imgs.reshape(1,32,32,3))"
   ]
  },
  {
   "cell_type": "code",
   "execution_count": null,
   "metadata": {
    "collapsed": true
   },
   "outputs": [],
   "source": []
  }
 ],
 "metadata": {
  "kernelspec": {
   "display_name": "Python 3 (ipykernel)",
   "language": "python",
   "name": "python3"
  },
  "language_info": {
   "codemirror_mode": {
    "name": "ipython",
    "version": 3
   },
   "file_extension": ".py",
   "mimetype": "text/x-python",
   "name": "python",
   "nbconvert_exporter": "python",
   "pygments_lexer": "ipython3",
   "version": "3.9.7"
  }
 },
 "nbformat": 4,
 "nbformat_minor": 2
}
