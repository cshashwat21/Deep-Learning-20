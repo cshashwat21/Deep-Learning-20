{
 "cells": [
  {
   "cell_type": "code",
   "execution_count": 0,
   "metadata": {
    "colab": {
     "base_uri": "https://localhost:8080/",
     "height": 1000
    },
    "colab_type": "code",
    "id": "4_FQQfXYizDA",
    "outputId": "53734850-8276-4c37-dabd-d13be718f646"
   },
   "outputs": [
    {
     "name": "stdout",
     "output_type": "stream",
     "text": [
      "NLTK Downloader\n",
      "---------------------------------------------------------------------------\n",
      "    d) Download   l) List    u) Update   c) Config   h) Help   q) Quit\n",
      "---------------------------------------------------------------------------\n",
      "Downloader> l\n",
      "\n",
      "Packages:\n",
      "  [ ] abc................. Australian Broadcasting Commission 2006\n",
      "  [ ] alpino.............. Alpino Dutch Treebank\n",
      "  [ ] averaged_perceptron_tagger Averaged Perceptron Tagger\n",
      "  [ ] averaged_perceptron_tagger_ru Averaged Perceptron Tagger (Russian)\n",
      "  [ ] basque_grammars..... Grammars for Basque\n",
      "  [ ] biocreative_ppi..... BioCreAtIvE (Critical Assessment of Information\n",
      "                           Extraction Systems in Biology)\n",
      "  [ ] bllip_wsj_no_aux.... BLLIP Parser: WSJ Model\n",
      "  [ ] book_grammars....... Grammars from NLTK Book\n",
      "  [ ] brown............... Brown Corpus\n",
      "  [ ] brown_tei........... Brown Corpus (TEI XML Version)\n",
      "  [ ] cess_cat............ CESS-CAT Treebank\n",
      "  [ ] cess_esp............ CESS-ESP Treebank\n",
      "  [ ] chat80.............. Chat-80 Data Files\n",
      "  [ ] city_database....... City Database\n",
      "  [ ] cmudict............. The Carnegie Mellon Pronouncing Dictionary (0.6)\n",
      "  [ ] comparative_sentences Comparative Sentence Dataset\n",
      "  [ ] comtrans............ ComTrans Corpus Sample\n",
      "  [ ] conll2000........... CONLL 2000 Chunking Corpus\n",
      "  [ ] conll2002........... CONLL 2002 Named Entity Recognition Corpus\n",
      "Hit Enter to continue: \n",
      "  [ ] conll2007........... Dependency Treebanks from CoNLL 2007 (Catalan\n",
      "                           and Basque Subset)\n",
      "  [ ] crubadan............ Crubadan Corpus\n",
      "  [ ] dependency_treebank. Dependency Parsed Treebank\n",
      "  [ ] dolch............... Dolch Word List\n",
      "  [ ] europarl_raw........ Sample European Parliament Proceedings Parallel\n",
      "                           Corpus\n",
      "  [ ] floresta............ Portuguese Treebank\n",
      "  [ ] framenet_v15........ FrameNet 1.5\n",
      "  [ ] framenet_v17........ FrameNet 1.7\n",
      "  [ ] gazetteers.......... Gazeteer Lists\n",
      "  [ ] genesis............. Genesis Corpus\n",
      "  [ ] gutenberg........... Project Gutenberg Selections\n",
      "  [ ] ieer................ NIST IE-ER DATA SAMPLE\n",
      "  [ ] inaugural........... C-Span Inaugural Address Corpus\n",
      "  [ ] indian.............. Indian Language POS-Tagged Corpus\n",
      "  [ ] jeita............... JEITA Public Morphologically Tagged Corpus (in\n",
      "                           ChaSen format)\n",
      "  [ ] kimmo............... PC-KIMMO Data Files\n",
      "  [ ] knbc................ KNB Corpus (Annotated blog corpus)\n",
      "  [ ] large_grammars...... Large context-free and feature-based grammars\n",
      "                           for parser comparison\n",
      "Hit Enter to continue: \n",
      "  [ ] lin_thesaurus....... Lin's Dependency Thesaurus\n",
      "  [ ] mac_morpho.......... MAC-MORPHO: Brazilian Portuguese news text with\n",
      "                           part-of-speech tags\n",
      "  [ ] machado............. Machado de Assis -- Obra Completa\n",
      "  [ ] masc_tagged......... MASC Tagged Corpus\n",
      "  [ ] maxent_ne_chunker... ACE Named Entity Chunker (Maximum entropy)\n",
      "  [ ] maxent_treebank_pos_tagger Treebank Part of Speech Tagger (Maximum entropy)\n",
      "  [ ] moses_sample........ Moses Sample Models\n",
      "  [ ] movie_reviews....... Sentiment Polarity Dataset Version 2.0\n",
      "  [ ] mte_teip5........... MULTEXT-East 1984 annotated corpus 4.0\n",
      "  [ ] mwa_ppdb............ The monolingual word aligner (Sultan et al.\n",
      "                           2015) subset of the Paraphrase Database.\n",
      "  [ ] names............... Names Corpus, Version 1.3 (1994-03-29)\n",
      "  [ ] nombank.1.0......... NomBank Corpus 1.0\n",
      "  [ ] nonbreaking_prefixes Non-Breaking Prefixes (Moses Decoder)\n",
      "  [ ] nps_chat............ NPS Chat\n",
      "  [ ] omw................. Open Multilingual Wordnet\n",
      "  [ ] opinion_lexicon..... Opinion Lexicon\n",
      "  [ ] panlex_swadesh...... PanLex Swadesh Corpora\n",
      "  [ ] paradigms........... Paradigm Corpus\n",
      "  [ ] pe08................ Cross-Framework and Cross-Domain Parser\n",
      "                           Evaluation Shared Task\n",
      "Hit Enter to continue: q\n",
      "\n",
      "---------------------------------------------------------------------------\n",
      "    d) Download   l) List    u) Update   c) Config   h) Help   q) Quit\n",
      "---------------------------------------------------------------------------\n",
      "Downloader> q\n"
     ]
    },
    {
     "data": {
      "text/plain": [
       "True"
      ]
     },
     "execution_count": 2,
     "metadata": {
      "tags": []
     },
     "output_type": "execute_result"
    }
   ],
   "source": [
    "import nltk\n",
    "nltk.download()"
   ]
  },
  {
   "cell_type": "code",
   "execution_count": 0,
   "metadata": {
    "colab": {
     "base_uri": "https://localhost:8080/",
     "height": 67
    },
    "colab_type": "code",
    "id": "kbr-JNS0jGO-",
    "outputId": "ca6beef8-dd26-48ed-9a3f-520d39a7f334"
   },
   "outputs": [
    {
     "name": "stdout",
     "output_type": "stream",
     "text": [
      "[nltk_data] Downloading package gutenberg to /root/nltk_data...\n",
      "[nltk_data]   Unzipping corpora/gutenberg.zip.\n"
     ]
    },
    {
     "data": {
      "text/plain": [
       "True"
      ]
     },
     "execution_count": 3,
     "metadata": {
      "tags": []
     },
     "output_type": "execute_result"
    }
   ],
   "source": [
    "nltk.download('gutenberg')"
   ]
  },
  {
   "cell_type": "code",
   "execution_count": 0,
   "metadata": {
    "colab": {
     "base_uri": "https://localhost:8080/",
     "height": 67
    },
    "colab_type": "code",
    "id": "ib9mnxTojboi",
    "outputId": "541b005c-62ed-4c3f-a283-8826b8e28636"
   },
   "outputs": [
    {
     "name": "stdout",
     "output_type": "stream",
     "text": [
      "[nltk_data] Downloading package genesis to /root/nltk_data...\n",
      "[nltk_data]   Unzipping corpora/genesis.zip.\n"
     ]
    },
    {
     "data": {
      "text/plain": [
       "True"
      ]
     },
     "execution_count": 4,
     "metadata": {
      "tags": []
     },
     "output_type": "execute_result"
    }
   ],
   "source": [
    "nltk.download('genesis')"
   ]
  },
  {
   "cell_type": "code",
   "execution_count": 0,
   "metadata": {
    "colab": {
     "base_uri": "https://localhost:8080/",
     "height": 319
    },
    "colab_type": "code",
    "id": "X8CLkw2DkbZn",
    "outputId": "de9a18ca-4c2e-4240-edfc-5e8205161088"
   },
   "outputs": [
    {
     "data": {
      "text/plain": [
       "['austen-emma.txt',\n",
       " 'austen-persuasion.txt',\n",
       " 'austen-sense.txt',\n",
       " 'bible-kjv.txt',\n",
       " 'blake-poems.txt',\n",
       " 'bryant-stories.txt',\n",
       " 'burgess-busterbrown.txt',\n",
       " 'carroll-alice.txt',\n",
       " 'chesterton-ball.txt',\n",
       " 'chesterton-brown.txt',\n",
       " 'chesterton-thursday.txt',\n",
       " 'edgeworth-parents.txt',\n",
       " 'melville-moby_dick.txt',\n",
       " 'milton-paradise.txt',\n",
       " 'shakespeare-caesar.txt',\n",
       " 'shakespeare-hamlet.txt',\n",
       " 'shakespeare-macbeth.txt',\n",
       " 'whitman-leaves.txt']"
      ]
     },
     "execution_count": 5,
     "metadata": {
      "tags": []
     },
     "output_type": "execute_result"
    }
   ],
   "source": [
    "nltk.corpus.gutenberg.fileids()"
   ]
  },
  {
   "cell_type": "code",
   "execution_count": 0,
   "metadata": {
    "colab": {
     "base_uri": "https://localhost:8080/",
     "height": 34
    },
    "colab_type": "code",
    "id": "VAap0A7vnEcJ",
    "outputId": "abceb834-ea78-40a0-8736-7bccf8021c30"
   },
   "outputs": [
    {
     "name": "stdout",
     "output_type": "stream",
     "text": [
      "['[', 'Leaves', 'of', 'Grass', 'by', 'Walt', 'Whitman', ...]\n"
     ]
    }
   ],
   "source": [
    "whitman = nltk.corpus.gutenberg.words('whitman-leaves.txt')\n",
    "print(whitman)"
   ]
  },
  {
   "cell_type": "markdown",
   "metadata": {
    "colab_type": "text",
    "id": "bahL29ECsBFQ"
   },
   "source": [
    "## Text Preprocessing"
   ]
  },
  {
   "cell_type": "markdown",
   "metadata": {
    "colab_type": "text",
    "id": "qLTujHgRsEmh"
   },
   "source": [
    "We will talk about the basic steps of text preprocessing. These steps are needed for transferring text from human language to machine-readable format for further processing. We will also discuss text preprocessing tools.\n",
    "\n",
    "After a text is obtained, we start with text normalization. Text normalization includes:\n",
    "\n",
    "\n",
    "\n",
    "*    removing punctuations, accent marks and other diacritics\n",
    "*    removing white spaces\n",
    "*    expanding abbreviations\n",
    "*    removing stop words, sparse terms, and particular words\n",
    "*    text canonicalization\n",
    "*    converting all letters to lower or upper case\n",
    "*    converting numbers into words or removing numbers\n",
    "\n"
   ]
  },
  {
   "cell_type": "markdown",
   "metadata": {
    "colab_type": "text",
    "id": "gjQkmTZqyUQx"
   },
   "source": [
    "### Removing punctuations, accent marks, special symbols and diacritics"
   ]
  },
  {
   "cell_type": "code",
   "execution_count": 0,
   "metadata": {
    "colab": {
     "base_uri": "https://localhost:8080/",
     "height": 34
    },
    "colab_type": "code",
    "id": "R7IMxZmryTxk",
    "outputId": "fa3a8035-db67-4f06-8f7a-a9f59c6abb84"
   },
   "outputs": [
    {
     "data": {
      "text/plain": [
       "'remove this  from my given string object'"
      ]
     },
     "execution_count": 7,
     "metadata": {
      "tags": []
     },
     "output_type": "execute_result"
    }
   ],
   "source": [
    "# Sample code to remove a regex pattern \n",
    "import re \n",
    "\n",
    "def remove_regex(input_text, regex_pattern):\n",
    "    urls = re.finditer(regex_pattern, input_text) \n",
    "    for i in urls: \n",
    "        input_text = re.sub(i.group().strip(), '', input_text)\n",
    "    return input_text\n",
    "\n",
    "regex_pattern = \"#[\\w]*\"  \n",
    "\n",
    "remove_regex(\"remove this #hashtag from my given string object\", regex_pattern)"
   ]
  },
  {
   "cell_type": "markdown",
   "metadata": {
    "colab_type": "text",
    "id": "_dwlWziP4nZR"
   },
   "source": [
    "### Remove whitespaces"
   ]
  },
  {
   "cell_type": "code",
   "execution_count": 0,
   "metadata": {
    "colab": {
     "base_uri": "https://localhost:8080/",
     "height": 34
    },
    "colab_type": "code",
    "id": "CTICTDEB41e0",
    "outputId": "fcd82e5f-8dcd-4587-847d-8a2a463a648e"
   },
   "outputs": [
    {
     "data": {
      "text/plain": [
       "'a string example'"
      ]
     },
     "execution_count": 8,
     "metadata": {
      "tags": []
     },
     "output_type": "execute_result"
    }
   ],
   "source": [
    "input_str = \" \\t a string example\\t \"\n",
    "input_str = input_str.strip()\n",
    "input_str"
   ]
  },
  {
   "cell_type": "markdown",
   "metadata": {
    "colab_type": "text",
    "id": "uHPBW4PZ5Eqa"
   },
   "source": [
    "### Remove Numbers"
   ]
  },
  {
   "cell_type": "code",
   "execution_count": 0,
   "metadata": {
    "colab": {
     "base_uri": "https://localhost:8080/",
     "height": 34
    },
    "colab_type": "code",
    "id": "I4A18T2f5G-E",
    "outputId": "f03aec7a-bfe8-4e62-8e3c-f665b2ade431"
   },
   "outputs": [
    {
     "name": "stdout",
     "output_type": "stream",
     "text": [
      "Box A contains  red and  white balls, while Box B contains  red and  blue balls.\n"
     ]
    }
   ],
   "source": [
    "import re\n",
    "input_str = \"Box A contains 3 red and 5 white balls, while Box B contains 4 red and 2 blue balls.\"\n",
    "result = re.sub(r\"\\d+\", \"\", input_str)\n",
    "print(result)"
   ]
  },
  {
   "cell_type": "markdown",
   "metadata": {
    "colab_type": "text",
    "id": "0Xo4yDnL5c7x"
   },
   "source": [
    "### Convert Case"
   ]
  },
  {
   "cell_type": "code",
   "execution_count": 0,
   "metadata": {
    "colab": {
     "base_uri": "https://localhost:8080/",
     "height": 34
    },
    "colab_type": "code",
    "id": "PeQIa5xK5gV3",
    "outputId": "b1e39155-134c-473b-9830-db41b86d4d02"
   },
   "outputs": [
    {
     "name": "stdout",
     "output_type": "stream",
     "text": [
      "the 5 biggest countries by population in 2017 are china, india, united states, indonesia, and brazil.\n"
     ]
    }
   ],
   "source": [
    "input_str = \"The 5 biggest countries by population in 2017 are China, India, United States, Indonesia, and Brazil.\"\n",
    "input_str = input_str.lower()\n",
    "print(input_str)"
   ]
  },
  {
   "cell_type": "markdown",
   "metadata": {
    "colab_type": "text",
    "id": "o3nA6fDk5toc"
   },
   "source": [
    "**Tokenization**\n",
    "\n",
    "Tokenization is the process of splitting the given text into smaller pieces called tokens. Words, numbers, punctuation marks, and others can be considered as tokens."
   ]
  },
  {
   "cell_type": "code",
   "execution_count": 0,
   "metadata": {
    "colab": {
     "base_uri": "https://localhost:8080/",
     "height": 67
    },
    "colab_type": "code",
    "id": "KrQ32n096_GA",
    "outputId": "153320f1-fe24-4081-b0e8-e04e72d58565"
   },
   "outputs": [
    {
     "name": "stdout",
     "output_type": "stream",
     "text": [
      "[nltk_data] Downloading package punkt to /root/nltk_data...\n",
      "[nltk_data]   Unzipping tokenizers/punkt.zip.\n"
     ]
    },
    {
     "data": {
      "text/plain": [
       "True"
      ]
     },
     "execution_count": 11,
     "metadata": {
      "tags": []
     },
     "output_type": "execute_result"
    }
   ],
   "source": [
    "nltk.download('punkt')"
   ]
  },
  {
   "cell_type": "code",
   "execution_count": 0,
   "metadata": {
    "colab": {
     "base_uri": "https://localhost:8080/",
     "height": 54
    },
    "colab_type": "code",
    "id": "iAhXTfte5wPN",
    "outputId": "62e09519-921d-4e7d-a319-4d8b5d77a1a0"
   },
   "outputs": [
    {
     "name": "stdout",
     "output_type": "stream",
     "text": [
      "['NLTK', 'is', 'a', 'leading', 'platform', 'for', 'building', 'Python', 'programs', 'to', 'work', 'with', 'human', 'language', 'data', '.']\n"
     ]
    }
   ],
   "source": [
    "input_str = \"NLTK is a leading platform for building Python programs to work with human language data.\"\n",
    "\n",
    "from nltk.tokenize import word_tokenize\n",
    "tokens = word_tokenize(input_str)\n",
    "print (tokens)"
   ]
  },
  {
   "cell_type": "markdown",
   "metadata": {
    "colab_type": "text",
    "id": "yhq0zde57Itt"
   },
   "source": [
    "### Remove stop words\n",
    "\n",
    "“Stop words” are the most common words in a language like “the”, “a”, “on”, “is”, “all”. These words do not carry important meaning and are usually removed from texts."
   ]
  },
  {
   "cell_type": "code",
   "execution_count": 0,
   "metadata": {
    "colab": {
     "base_uri": "https://localhost:8080/",
     "height": 67
    },
    "colab_type": "code",
    "id": "5oD8Gnon73KT",
    "outputId": "4c235501-130e-4c32-8c71-8adf7dca1da2"
   },
   "outputs": [
    {
     "name": "stdout",
     "output_type": "stream",
     "text": [
      "[nltk_data] Downloading package stopwords to /root/nltk_data...\n",
      "[nltk_data]   Unzipping corpora/stopwords.zip.\n"
     ]
    },
    {
     "data": {
      "text/plain": [
       "True"
      ]
     },
     "execution_count": 13,
     "metadata": {
      "tags": []
     },
     "output_type": "execute_result"
    }
   ],
   "source": [
    "nltk.download('stopwords')"
   ]
  },
  {
   "cell_type": "code",
   "execution_count": 0,
   "metadata": {
    "colab": {
     "base_uri": "https://localhost:8080/",
     "height": 54
    },
    "colab_type": "code",
    "id": "8YIeqnHZ7PUe",
    "outputId": "d9192252-bf3e-4231-c659-135f1d723e18"
   },
   "outputs": [
    {
     "name": "stdout",
     "output_type": "stream",
     "text": [
      "{'needn', 'against', 'at', 'other', 'those', 'same', \"she's\", 'for', 'doing', 'be', \"mightn't\", 'who', 'that', 'couldn', 'once', 'such', 'him', 'ours', 'ain', 'out', 'aren', 'through', 'where', 'under', 'too', 'before', 'when', \"don't\", 'yourselves', \"should've\", 'do', 'this', 'between', 'so', 'are', 'is', 'mustn', 'them', 'will', 'more', 'further', 'her', 's', 'yours', 'have', 'off', 'i', 'its', 'over', 'in', 'while', 'above', 'can', 'mightn', \"you'll\", 'after', 'didn', 'don', 'herself', 'with', \"shouldn't\", \"wasn't\", 'me', 'not', 'should', 'shouldn', 'each', 'did', 'most', 't', \"shan't\", 'below', \"haven't\", \"you've\", \"that'll\", 'isn', 'any', 'had', 'haven', 'themselves', 'o', \"didn't\", 'myself', \"needn't\", 'weren', 'doesn', 'all', \"aren't\", 'these', 're', 'only', 'than', 'you', 'which', 'ourselves', \"isn't\", 'ma', 'theirs', 'y', \"it's\", 'how', \"won't\", 'hadn', \"couldn't\", 'into', 'hasn', 'then', 'there', 'shan', 'wouldn', 'your', 'as', 'down', 'here', 'd', \"weren't\", \"you're\", 'on', 'of', 'because', \"doesn't\", 'up', 'no', 'just', 'a', 'wasn', 'to', 'his', \"mustn't\", 'himself', 'very', 'they', \"hadn't\", 've', 'he', 'or', 'yourself', 'our', 'was', 'she', 'my', 'some', 'won', 'but', 'we', 'their', 'about', 'by', 'what', 'm', 'until', 'if', 'again', 'why', 'the', 'am', 'does', 'nor', \"you'd\", 'has', 'few', 'an', 'been', 'from', 'itself', \"wouldn't\", 'it', \"hasn't\", 'were', 'll', 'being', 'now', 'during', 'own', 'whom', 'hers', 'both', 'and', 'having'}\n"
     ]
    }
   ],
   "source": [
    "from nltk.corpus import stopwords\n",
    "stop_words = set(stopwords.words('english'))\n",
    "print(stop_words)"
   ]
  },
  {
   "cell_type": "code",
   "execution_count": 0,
   "metadata": {
    "colab": {
     "base_uri": "https://localhost:8080/",
     "height": 34
    },
    "colab_type": "code",
    "id": "7CP3gK7j7-FL",
    "outputId": "2c1dfa52-733c-4fe8-b8eb-081c002a124d"
   },
   "outputs": [
    {
     "name": "stdout",
     "output_type": "stream",
     "text": [
      "['All', 'work', 'play', 'makes', 'jack', 'dull', 'boy', '.', 'Its', 'good', 'go', 'fun', 'times', '.']\n"
     ]
    }
   ],
   "source": [
    "input_str = \"All work and no play makes jack dull boy. Its good to go out and have fun at times.\"\n",
    "tokens = word_tokenize(input_str)\n",
    "result = [i for i in tokens if not i in stop_words]\n",
    "print (result)"
   ]
  },
  {
   "cell_type": "code",
   "execution_count": 0,
   "metadata": {
    "colab": {
     "base_uri": "https://localhost:8080/",
     "height": 54
    },
    "colab_type": "code",
    "id": "jvCGoQyH8YSX",
    "outputId": "e67d1278-46b1-4adf-e992-c5f5d607bf05"
   },
   "outputs": [
    {
     "name": "stdout",
     "output_type": "stream",
     "text": [
      "frozenset({'against', 'whenever', 'due', 'across', 'at', 'noone', 'seemed', 'other', 'same', 'those', 'for', 'three', 'fifteen', 'be', 'still', 'somewhere', 'that', 'who', 'towards', 'however', 'once', 'since', 'such', 'him', 'ours', 'cry', 'six', 'toward', 'out', 'upon', 'fire', 'already', 'amoungst', 'anyhow', 'latterly', 'through', 'where', 'neither', 'detail', 'before', 'get', 'might', 'afterwards', 'per', 'thereafter', 'too', 'anyone', 'when', 'yourselves', 'do', 'between', 'show', 'so', 'this', 'among', 'co', 'last', 'top', 'are', 'is', 'twenty', 'back', 'whole', 'them', 'wherever', 'will', 'perhaps', 'more', 'thereby', 'move', 'fill', 'further', 'describe', 'around', 'her', 'yours', 'have', 'off', 'i', 'its', 'over', 'in', 'above', 'can', 'while', 'nine', 'after', 'everyone', 'rather', 'ten', 'hundred', 'indeed', 'herself', 'with', 'someone', 'me', 'not', 'should', 'mill', 'whereupon', 'each', 'most', 'meanwhile', 'below', 'much', 'although', 'fifty', 'besides', 'everything', 'least', 'thick', 'whither', 'any', 'become', 'via', 'had', 'etc', 'themselves', 'interest', 'hereafter', 'amongst', 'give', 'myself', 'un', 'found', 'enough', 'eg', 'serious', 'all', 'anywhere', 'elsewhere', 'find', 'sincere', 'these', 'thus', 're', 'us', 'only', 'thence', 'than', 'keep', 'two', 'five', 'front', 'many', 'seem', 'throughout', 'which', 'you', 'ie', 'ourselves', 'almost', 'bottom', 'full', 'hereupon', 'became', 'others', 'nobody', 'therefore', 'also', 'something', 'how', 'sometimes', 'nowhere', 'along', 'onto', 'whoever', 'mostly', 'part', 'into', 'de', 'everywhere', 'con', 'then', 'there', 'without', 'your', 'as', 'could', 'done', 'down', 'here', 'under', 'on', 'side', 'third', 'somehow', 'of', 'because', 'hereby', 'whatever', 'ever', 'becomes', 'up', 'alone', 'less', 'no', 'a', 'to', 'nothing', 'latter', 'his', 'thin', 'himself', 'whence', 'go', 'very', 'another', 'else', 'never', 'namely', 'beforehand', 'please', 'they', 'next', 'several', 'yet', 'four', 'eleven', 'he', 'moreover', 'or', 'formerly', 'first', 'together', 'may', 'our', 'sixty', 'whereas', 'anything', 'she', 'my', 'some', 'was', 'whose', 'hasnt', 'but', 'we', 'their', 'thru', 'former', 'about', 'always', 'though', 'beside', 'even', 'by', 'inc', 'name', 'either', 'what', 'whereafter', 'cannot', 'nevertheless', 'amount', 'until', 'if', 'again', 'becoming', 'mine', 'ltd', 'put', 'behind', 'seems', 'why', 'one', 'the', 'am', 'empty', 'must', 'nor', 'sometime', 'seeming', 'thereupon', 'except', 'would', 'has', 'beyond', 'wherein', 'few', 'an', 'hence', 'made', 'anyway', 'been', 'see', 'system', 'take', 'therein', 'twelve', 'from', 'whether', 'itself', 'otherwise', 'none', 'yourself', 'herein', 'forty', 'it', 'eight', 'couldnt', 'were', 'being', 'now', 'whereby', 'within', 'well', 'cant', 'during', 'own', 'whom', 'hers', 'both', 'every', 'bill', 'often', 'and', 'call'})\n"
     ]
    }
   ],
   "source": [
    "#sklearn can also provide a list of standard english stop words\n",
    "from sklearn.feature_extraction.stop_words import ENGLISH_STOP_WORDS\n",
    "print (ENGLISH_STOP_WORDS)"
   ]
  },
  {
   "cell_type": "markdown",
   "metadata": {
    "colab_type": "text",
    "id": "pCT4lmDA8oPc"
   },
   "source": [
    "Most of what we are going to do with language relies on ﬁrst separating out or tokenizing words (splitting the text into minimal meaningful units) from running text, known as the task of tokenization.\n",
    "\n",
    "English words are often separated from each other by whitespace, but whitespace is not always sufﬁcient. “New York” and “rock ’n’ roll” are sometimes treated as large words despite the fact that they contain spaces, while sometimes we’ll need to separate “I’m” into the two words I and am.\n",
    "\n",
    "For processing tweets or texts we’ll need to tokenize emoticons like “ :)” or hashtags like #nlproc."
   ]
  },
  {
   "cell_type": "code",
   "execution_count": 0,
   "metadata": {
    "colab": {
     "base_uri": "https://localhost:8080/",
     "height": 185
    },
    "colab_type": "code",
    "id": "81cWs5E0mySu",
    "outputId": "fa5bf9f6-562a-4a5e-e149-7960fc99efd1"
   },
   "outputs": [
    {
     "name": "stdout",
     "output_type": "stream",
     "text": [
      "there\n",
      "are\n",
      "sever\n",
      "type\n",
      "of\n",
      "stem\n",
      "algorithm\n",
      "for\n",
      "natur\n",
      "languag\n"
     ]
    }
   ],
   "source": [
    "from nltk.stem import PorterStemmer\n",
    "from nltk.tokenize import word_tokenize\n",
    "stemmer= PorterStemmer()\n",
    "input_str=\"There are several types of stemming algorithms for Natural languages\"\n",
    "input_str=word_tokenize(input_str)\n",
    "for word in input_str:\n",
    "    print(stemmer.stem(word))"
   ]
  },
  {
   "cell_type": "code",
   "execution_count": 0,
   "metadata": {
    "colab": {
     "base_uri": "https://localhost:8080/",
     "height": 84
    },
    "colab_type": "code",
    "id": "w0zuqyFen0Yl",
    "outputId": "5eb57167-6ed9-438e-c193-1e5143f11732"
   },
   "outputs": [
    {
     "name": "stdout",
     "output_type": "stream",
     "text": [
      "have\n",
      "having\n",
      "generous\n",
      "gener\n"
     ]
    }
   ],
   "source": [
    "from nltk.stem.snowball import SnowballStemmer\n",
    "stemmer = SnowballStemmer(\"english\")\n",
    "stemmer2 = SnowballStemmer(\"english\", ignore_stopwords=True)\n",
    "print(stemmer.stem(\"having\"))\n",
    "print(stemmer2.stem(\"having\"))\n",
    "\n",
    "print(SnowballStemmer(\"english\").stem(\"generously\"))\n",
    "\n",
    "print(SnowballStemmer(\"porter\").stem(\"generously\"))"
   ]
  },
  {
   "cell_type": "code",
   "execution_count": 0,
   "metadata": {
    "colab": {
     "base_uri": "https://localhost:8080/",
     "height": 67
    },
    "colab_type": "code",
    "id": "RrTwcJaEvX0k",
    "outputId": "2e05fcc8-6d2d-466a-e9a2-526ea4d0c624"
   },
   "outputs": [
    {
     "name": "stdout",
     "output_type": "stream",
     "text": [
      "[nltk_data] Downloading package wordnet to /root/nltk_data...\n",
      "[nltk_data]   Unzipping corpora/wordnet.zip.\n"
     ]
    },
    {
     "data": {
      "text/plain": [
       "True"
      ]
     },
     "execution_count": 19,
     "metadata": {
      "tags": []
     },
     "output_type": "execute_result"
    }
   ],
   "source": [
    "nltk.download('wordnet')"
   ]
  },
  {
   "cell_type": "code",
   "execution_count": 0,
   "metadata": {
    "colab": {
     "base_uri": "https://localhost:8080/",
     "height": 34
    },
    "colab_type": "code",
    "id": "Lnqi93NnvR1U",
    "outputId": "2e09cbb4-6ae9-466c-ad4d-afae17f6f5ab"
   },
   "outputs": [
    {
     "data": {
      "text/plain": [
       "'leaf'"
      ]
     },
     "execution_count": 21,
     "metadata": {
      "tags": []
     },
     "output_type": "execute_result"
    }
   ],
   "source": [
    "import nltk\n",
    "lemma = nltk.wordnet.WordNetLemmatizer()\n",
    "lemma.lemmatize('article')\n",
    "lemma.lemmatize('leaves')"
   ]
  },
  {
   "cell_type": "code",
   "execution_count": 0,
   "metadata": {
    "colab": {
     "base_uri": "https://localhost:8080/",
     "height": 34
    },
    "colab_type": "code",
    "id": "7mLgigvpwVeU",
    "outputId": "ceeb49b9-a36a-467c-cdf1-dee2804a1059"
   },
   "outputs": [
    {
     "name": "stdout",
     "output_type": "stream",
     "text": [
      "Retweet We are going to CCD @ MG Road!! direct message for more info.!!\n"
     ]
    }
   ],
   "source": [
    "lookup_dict = {'rt':'Retweet', 'dm':'direct message', \"awsm\" : \"awesome\", \"luv\" :\"love\"}\n",
    "def lookup_words(input_text):\n",
    "    words = input_text.split() \n",
    "    new_words = [] \n",
    "    for word in words:\n",
    "        if word.lower() in lookup_dict:\n",
    "            word = lookup_dict[word.lower()]\n",
    "        new_words.append(word) \n",
    "        new_text = \" \".join(new_words) \n",
    "    return new_text\n",
    "\n",
    "print(lookup_words(\"RT We are going to CCD @ MG Road!! dm for more info.!!\"))"
   ]
  }
 ],
 "metadata": {
  "colab": {
   "collapsed_sections": [],
   "name": "Natural Language Pre - Processing.ipynb",
   "provenance": [],
   "version": "0.3.2"
  },
  "kernelspec": {
   "display_name": "Python 3 (ipykernel)",
   "language": "python",
   "name": "python3"
  },
  "language_info": {
   "codemirror_mode": {
    "name": "ipython",
    "version": 3
   },
   "file_extension": ".py",
   "mimetype": "text/x-python",
   "name": "python",
   "nbconvert_exporter": "python",
   "pygments_lexer": "ipython3",
   "version": "3.9.7"
  }
 },
 "nbformat": 4,
 "nbformat_minor": 1
}
