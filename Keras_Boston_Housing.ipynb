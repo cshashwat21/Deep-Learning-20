{
 "cells": [
  {
   "cell_type": "code",
   "execution_count": 0,
   "metadata": {
    "colab": {
     "base_uri": "https://localhost:8080/",
     "height": 81
    },
    "colab_type": "code",
    "id": "QtwzSSg_OgqG",
    "outputId": "d55b8004-1b96-43dd-b3b4-1afa0585dd1b"
   },
   "outputs": [
    {
     "name": "stderr",
     "output_type": "stream",
     "text": [
      "Using TensorFlow backend.\n"
     ]
    },
    {
     "data": {
      "text/html": [
       "<p style=\"color: red;\">\n",
       "The default version of TensorFlow in Colab will soon switch to TensorFlow 2.x.<br>\n",
       "We recommend you <a href=\"https://www.tensorflow.org/guide/migrate\" target=\"_blank\">upgrade</a> now \n",
       "or ensure your notebook will continue to use TensorFlow 1.x via the <code>%tensorflow_version 1.x</code> magic:\n",
       "<a href=\"https://colab.research.google.com/notebooks/tensorflow_version.ipynb\" target=\"_blank\">more info</a>.</p>\n"
      ],
      "text/plain": [
       "<IPython.core.display.HTML object>"
      ]
     },
     "metadata": {
      "tags": []
     },
     "output_type": "display_data"
    }
   ],
   "source": [
    "# Regression Example With Boston Dataset: Baseline\n",
    "import numpy\n",
    "import pandas\n",
    "from keras.models import Sequential\n",
    "from keras.layers import Dense\n",
    "from keras.wrappers.scikit_learn import KerasRegressor\n",
    "from sklearn.model_selection import cross_val_score\n",
    "from sklearn.model_selection import KFold\n",
    "from sklearn import preprocessing"
   ]
  },
  {
   "cell_type": "code",
   "execution_count": 0,
   "metadata": {
    "colab": {
     "base_uri": "https://localhost:8080/",
     "height": 93,
     "resources": {
      "http://localhost:8080/nbextensions/google.colab/files.js": {
       "data": "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",
       "headers": [
        [
         "content-type",
         "application/javascript"
        ]
       ],
       "ok": true,
       "status": 200,
       "status_text": ""
      }
     }
    },
    "colab_type": "code",
    "id": "Igfhvy2qO7VU",
    "outputId": "1080fc39-157e-41d3-d446-2402006f2444"
   },
   "outputs": [
    {
     "data": {
      "text/html": [
       "\n",
       "     <input type=\"file\" id=\"files-23256aa9-f98b-426b-b49f-0ded6e4d1066\" name=\"files[]\" multiple disabled />\n",
       "     <output id=\"result-23256aa9-f98b-426b-b49f-0ded6e4d1066\">\n",
       "      Upload widget is only available when the cell has been executed in the\n",
       "      current browser session. Please rerun this cell to enable.\n",
       "      </output>\n",
       "      <script src=\"/nbextensions/google.colab/files.js\"></script> "
      ],
      "text/plain": [
       "<IPython.core.display.HTML object>"
      ]
     },
     "metadata": {
      "tags": []
     },
     "output_type": "display_data"
    },
    {
     "name": "stdout",
     "output_type": "stream",
     "text": [
      "Saving housing.tsv to housing.tsv\n",
      "User uploaded file \"housing.tsv\" with length 49586 bytes\n"
     ]
    }
   ],
   "source": [
    "from google.colab import files\n",
    "\n",
    "uploaded = files.upload()\n",
    "\n",
    "for fn in uploaded.keys():\n",
    "  print('User uploaded file \"{name}\" with length {length} bytes'.format(\n",
    "      name=fn, length=len(uploaded[fn])))"
   ]
  },
  {
   "cell_type": "code",
   "execution_count": 0,
   "metadata": {
    "colab": {
     "base_uri": "https://localhost:8080/",
     "height": 260
    },
    "colab_type": "code",
    "id": "Qp8OZ_FgOnXm",
    "outputId": "5bbe9a3c-986f-466e-9123-38c853fbd69b"
   },
   "outputs": [
    {
     "name": "stdout",
     "output_type": "stream",
     "text": [
      "          0     1      2   3      4   ...     9     10      11    12    13\n",
      "0    0.00632  18.0   2.31   0  0.538  ...  296.0  15.3  396.90  4.98  24.0\n",
      "1    0.02731   0.0   7.07   0  0.469  ...  242.0  17.8  396.90  9.14  21.6\n",
      "2    0.02729   0.0   7.07   0  0.469  ...  242.0  17.8  392.83  4.03  34.7\n",
      "3    0.03237   0.0   2.18   0  0.458  ...  222.0  18.7  394.63  2.94  33.4\n",
      "4    0.06905   0.0   2.18   0  0.458  ...  222.0  18.7  396.90  5.33  36.2\n",
      "..       ...   ...    ...  ..    ...  ...    ...   ...     ...   ...   ...\n",
      "501  0.06263   0.0  11.93   0  0.573  ...  273.0  21.0  391.99  9.67  22.4\n",
      "502  0.04527   0.0  11.93   0  0.573  ...  273.0  21.0  396.90  9.08  20.6\n",
      "503  0.06076   0.0  11.93   0  0.573  ...  273.0  21.0  396.90  5.64  23.9\n",
      "504  0.10959   0.0  11.93   0  0.573  ...  273.0  21.0  393.45  6.48  22.0\n",
      "505  0.04741   0.0  11.93   0  0.573  ...  273.0  21.0  396.90  7.88  11.9\n",
      "\n",
      "[506 rows x 14 columns]\n"
     ]
    }
   ],
   "source": [
    "# load dataset\n",
    "fileInput = \"housing.tsv\"\n",
    "dataframe = pandas.read_csv(fileInput, delim_whitespace=True, header=None)\n",
    "dataset = dataframe.values\n",
    "\n",
    "print(dataframe)\n",
    "\n",
    "# split into input (X) and output (Y) variables\n",
    "X_train = dataset[:400,0:13]\n",
    "Y_train = dataset[:400,13]\n",
    "X_train = preprocessing.scale(X_train)\n",
    "\n",
    "X_test = dataset[400:,0:13]\n",
    "Y_test = dataset[400:,13]\n",
    "X_test = preprocessing.scale(X_test)\n",
    "\n",
    "\n",
    "\n",
    "# fix random seed for reproducibility\n",
    "numpy.random.seed(10)"
   ]
  },
  {
   "cell_type": "code",
   "execution_count": 0,
   "metadata": {
    "colab": {
     "base_uri": "https://localhost:8080/",
     "height": 243
    },
    "colab_type": "code",
    "id": "xxg5qwlSM1XZ",
    "outputId": "b6ed440d-b77e-4c31-ef27-4d930571420e"
   },
   "outputs": [
    {
     "data": {
      "text/plain": [
       "array([[ 1.15682912,  0.        ,  0.14015463, ...,  0.13143239,\n",
       "         0.82782423,  1.49226666],\n",
       "       [ 0.28863224,  0.        ,  0.14015463, ...,  0.13143239,\n",
       "         0.82782423,  0.40154321],\n",
       "       [-0.0840686 ,  0.        ,  0.14015463, ...,  0.13143239,\n",
       "         0.6930508 ,  0.39985217],\n",
       "       ...,\n",
       "       [-0.84986789,  0.        , -1.69569412, ...,  2.60820269,\n",
       "         0.82782423, -2.08090954],\n",
       "       [-0.84594611,  0.        , -1.69569412, ...,  2.60820269,\n",
       "         0.80545923, -1.93886184],\n",
       "       [-0.8509401 ,  0.        , -1.69569412, ...,  2.60820269,\n",
       "         0.82782423, -1.70211566]])"
      ]
     },
     "execution_count": 4,
     "metadata": {
      "tags": []
     },
     "output_type": "execute_result"
    }
   ],
   "source": [
    "X_test"
   ]
  },
  {
   "cell_type": "code",
   "execution_count": 0,
   "metadata": {
    "colab": {
     "base_uri": "https://localhost:8080/",
     "height": 1000
    },
    "colab_type": "code",
    "id": "zQg6RA_KOVly",
    "outputId": "068874bb-3e0e-4f6f-e816-a1d5ac0461a1"
   },
   "outputs": [
    {
     "name": "stderr",
     "output_type": "stream",
     "text": [
      "/usr/local/lib/python3.6/dist-packages/ipykernel_launcher.py:2: UserWarning: Update your `Dense` call to the Keras 2 API: `Dense(40, input_dim=13, activation=\"relu\", kernel_initializer=\"normal\")`\n",
      "  \n",
      "/usr/local/lib/python3.6/dist-packages/ipykernel_launcher.py:3: UserWarning: Update your `Dense` call to the Keras 2 API: `Dense(20, activation=\"tanh\", kernel_initializer=\"normal\")`\n",
      "  This is separate from the ipykernel package so we can avoid doing imports until\n",
      "/usr/local/lib/python3.6/dist-packages/ipykernel_launcher.py:5: UserWarning: Update your `Dense` call to the Keras 2 API: `Dense(1, kernel_initializer=\"normal\")`\n",
      "  \"\"\"\n"
     ]
    },
    {
     "name": "stdout",
     "output_type": "stream",
     "text": [
      "Epoch 1/70\n",
      "400/400 [==============================] - 0s 781us/step - loss: 674.8931\n",
      "Epoch 2/70\n",
      "400/400 [==============================] - 0s 62us/step - loss: 672.2887\n",
      "Epoch 3/70\n",
      "400/400 [==============================] - 0s 69us/step - loss: 668.4780\n",
      "Epoch 4/70\n",
      "400/400 [==============================] - 0s 62us/step - loss: 662.0141\n",
      "Epoch 5/70\n",
      "400/400 [==============================] - 0s 71us/step - loss: 652.4176\n",
      "Epoch 6/70\n",
      "400/400 [==============================] - 0s 67us/step - loss: 637.9898\n",
      "Epoch 7/70\n",
      "400/400 [==============================] - 0s 66us/step - loss: 619.1574\n",
      "Epoch 8/70\n",
      "400/400 [==============================] - 0s 67us/step - loss: 595.6819\n",
      "Epoch 9/70\n",
      "400/400 [==============================] - 0s 66us/step - loss: 569.1222\n",
      "Epoch 10/70\n",
      "400/400 [==============================] - 0s 65us/step - loss: 540.9508\n",
      "Epoch 11/70\n",
      "400/400 [==============================] - 0s 68us/step - loss: 512.1062\n",
      "Epoch 12/70\n",
      "400/400 [==============================] - 0s 71us/step - loss: 482.9603\n",
      "Epoch 13/70\n",
      "400/400 [==============================] - 0s 69us/step - loss: 454.4118\n",
      "Epoch 14/70\n",
      "400/400 [==============================] - 0s 84us/step - loss: 426.6762\n",
      "Epoch 15/70\n",
      "400/400 [==============================] - 0s 103us/step - loss: 399.9580\n",
      "Epoch 16/70\n",
      "400/400 [==============================] - 0s 84us/step - loss: 374.2463\n",
      "Epoch 17/70\n",
      "400/400 [==============================] - 0s 71us/step - loss: 349.8612\n",
      "Epoch 18/70\n",
      "400/400 [==============================] - 0s 78us/step - loss: 326.7332\n",
      "Epoch 19/70\n",
      "400/400 [==============================] - 0s 68us/step - loss: 303.9948\n",
      "Epoch 20/70\n",
      "400/400 [==============================] - 0s 70us/step - loss: 282.9789\n",
      "Epoch 21/70\n",
      "400/400 [==============================] - 0s 73us/step - loss: 262.5449\n",
      "Epoch 22/70\n",
      "400/400 [==============================] - 0s 75us/step - loss: 243.7789\n",
      "Epoch 23/70\n",
      "400/400 [==============================] - 0s 66us/step - loss: 225.5370\n",
      "Epoch 24/70\n",
      "400/400 [==============================] - 0s 66us/step - loss: 209.0053\n",
      "Epoch 25/70\n",
      "400/400 [==============================] - 0s 69us/step - loss: 193.3279\n",
      "Epoch 26/70\n",
      "400/400 [==============================] - 0s 70us/step - loss: 179.3602\n",
      "Epoch 27/70\n",
      "400/400 [==============================] - 0s 70us/step - loss: 166.3488\n",
      "Epoch 28/70\n",
      "400/400 [==============================] - 0s 65us/step - loss: 154.3228\n",
      "Epoch 29/70\n",
      "400/400 [==============================] - 0s 71us/step - loss: 143.8869\n",
      "Epoch 30/70\n",
      "400/400 [==============================] - 0s 65us/step - loss: 134.1370\n",
      "Epoch 31/70\n",
      "400/400 [==============================] - 0s 70us/step - loss: 126.1394\n",
      "Epoch 32/70\n",
      "400/400 [==============================] - 0s 87us/step - loss: 118.6625\n",
      "Epoch 33/70\n",
      "400/400 [==============================] - 0s 67us/step - loss: 112.2140\n",
      "Epoch 34/70\n",
      "400/400 [==============================] - 0s 72us/step - loss: 106.8559\n",
      "Epoch 35/70\n",
      "400/400 [==============================] - 0s 65us/step - loss: 102.2977\n",
      "Epoch 36/70\n",
      "400/400 [==============================] - 0s 70us/step - loss: 98.2379\n",
      "Epoch 37/70\n",
      "400/400 [==============================] - 0s 82us/step - loss: 95.0729\n",
      "Epoch 38/70\n",
      "400/400 [==============================] - 0s 64us/step - loss: 92.2293\n",
      "Epoch 39/70\n",
      "400/400 [==============================] - 0s 70us/step - loss: 89.9348\n",
      "Epoch 40/70\n",
      "400/400 [==============================] - 0s 65us/step - loss: 87.9656\n",
      "Epoch 41/70\n",
      "400/400 [==============================] - 0s 72us/step - loss: 86.2129\n",
      "Epoch 42/70\n",
      "400/400 [==============================] - 0s 63us/step - loss: 84.4649\n",
      "Epoch 43/70\n",
      "400/400 [==============================] - 0s 67us/step - loss: 82.0421\n",
      "Epoch 44/70\n",
      "400/400 [==============================] - 0s 68us/step - loss: 78.6477\n",
      "Epoch 45/70\n",
      "400/400 [==============================] - 0s 68us/step - loss: 75.7429\n",
      "Epoch 46/70\n",
      "400/400 [==============================] - 0s 74us/step - loss: 73.0119\n",
      "Epoch 47/70\n",
      "400/400 [==============================] - 0s 72us/step - loss: 70.7937\n",
      "Epoch 48/70\n",
      "400/400 [==============================] - 0s 85us/step - loss: 68.6538\n",
      "Epoch 49/70\n",
      "400/400 [==============================] - 0s 80us/step - loss: 66.4987\n",
      "Epoch 50/70\n",
      "400/400 [==============================] - 0s 73us/step - loss: 64.5413\n",
      "Epoch 51/70\n",
      "400/400 [==============================] - 0s 69us/step - loss: 62.8636\n",
      "Epoch 52/70\n",
      "400/400 [==============================] - 0s 82us/step - loss: 61.3194\n",
      "Epoch 53/70\n",
      "400/400 [==============================] - 0s 65us/step - loss: 60.0234\n",
      "Epoch 54/70\n",
      "400/400 [==============================] - 0s 64us/step - loss: 58.6474\n",
      "Epoch 55/70\n",
      "400/400 [==============================] - 0s 81us/step - loss: 57.5767\n",
      "Epoch 56/70\n",
      "400/400 [==============================] - 0s 82us/step - loss: 56.6011\n",
      "Epoch 57/70\n",
      "400/400 [==============================] - 0s 74us/step - loss: 55.6909\n",
      "Epoch 58/70\n",
      "400/400 [==============================] - 0s 68us/step - loss: 54.7976\n",
      "Epoch 59/70\n",
      "400/400 [==============================] - 0s 68us/step - loss: 53.8868\n",
      "Epoch 60/70\n",
      "400/400 [==============================] - 0s 67us/step - loss: 52.9275\n",
      "Epoch 61/70\n",
      "400/400 [==============================] - 0s 63us/step - loss: 52.0140\n",
      "Epoch 62/70\n",
      "400/400 [==============================] - 0s 65us/step - loss: 51.0831\n",
      "Epoch 63/70\n",
      "400/400 [==============================] - 0s 62us/step - loss: 49.8901\n",
      "Epoch 64/70\n",
      "400/400 [==============================] - 0s 62us/step - loss: 48.7405\n",
      "Epoch 65/70\n",
      "400/400 [==============================] - 0s 66us/step - loss: 47.3502\n",
      "Epoch 66/70\n",
      "400/400 [==============================] - 0s 65us/step - loss: 45.9807\n",
      "Epoch 67/70\n",
      "400/400 [==============================] - 0s 64us/step - loss: 44.5365\n",
      "Epoch 68/70\n",
      "400/400 [==============================] - 0s 71us/step - loss: 43.1377\n",
      "Epoch 69/70\n",
      "400/400 [==============================] - 0s 63us/step - loss: 41.6916\n",
      "Epoch 70/70\n",
      "400/400 [==============================] - 0s 67us/step - loss: 40.3245\n",
      "400/400 [==============================] - 0s 229us/step\n",
      "39.46235954761505\n",
      "106/106 [==============================] - 0s 53us/step\n",
      "39.834475535266805\n"
     ]
    }
   ],
   "source": [
    "# evaluate model with standardized dataset\n",
    "model = Sequential()                  \n",
    "model.add(Dense(40, input_dim=13, init= 'normal' , activation= 'relu' ))\n",
    "model.add(Dense(20, init= 'normal', activation= 'tanh'))\n",
    "model.add(Dense(10, activation= 'relu'))\n",
    "model.add(Dense(1, init= 'normal'))   \n",
    "model.compile(loss= 'mean_squared_error' , optimizer= 'adam' )\n",
    " \n",
    "model.fit(X_train, Y_train, epochs=70, batch_size=50, verbose=1)\n",
    "\n",
    "\n",
    "\n",
    "scores = model.evaluate(X_train, Y_train, batch_size=50)\n",
    "print (scores)\n",
    "\n",
    "scores = model.evaluate(X_test, Y_test, batch_size=50)\n",
    "print (scores)"
   ]
  },
  {
   "cell_type": "code",
   "execution_count": 0,
   "metadata": {
    "colab": {
     "base_uri": "https://localhost:8080/",
     "height": 35
    },
    "colab_type": "code",
    "id": "76O1rxyFOywm",
    "outputId": "f4ac78c2-e27a-41f6-c06d-a20f7a997e78"
   },
   "outputs": [
    {
     "name": "stdout",
     "output_type": "stream",
     "text": [
      "Saved model to disk\n"
     ]
    }
   ],
   "source": [
    "# serialize model to JSON\n",
    "model_json = model.to_json()\n",
    "\n",
    "with open(\"model.json\", \"w\") as json_file:\n",
    "    json_file.write(model_json)\n",
    "\n",
    "\n",
    "# serialize weights to HDF5\n",
    "model.save_weights(\"model.h5\")\n",
    "\n",
    "print(\"Saved model to disk\")"
   ]
  },
  {
   "cell_type": "code",
   "execution_count": 0,
   "metadata": {
    "colab": {
     "base_uri": "https://localhost:8080/",
     "height": 35
    },
    "colab_type": "code",
    "id": "0MUJvMiXfbSa",
    "outputId": "4e9d1738-4cad-4321-8c30-ddecc1f11879"
   },
   "outputs": [
    {
     "name": "stdout",
     "output_type": "stream",
     "text": [
      "housing.tsv  model.h5  model.json  \u001b[0m\u001b[01;34msample_data\u001b[0m/\n"
     ]
    }
   ],
   "source": [
    "%ls"
   ]
  },
  {
   "cell_type": "code",
   "execution_count": 0,
   "metadata": {
    "colab": {
     "base_uri": "https://localhost:8080/",
     "height": 52
    },
    "colab_type": "code",
    "id": "SqDsUz8DP8F3",
    "outputId": "857ed50e-a30f-4f43-a55b-fdf3374daf9a"
   },
   "outputs": [
    {
     "name": "stdout",
     "output_type": "stream",
     "text": [
      "106/106 [==============================] - 0s 66us/step\n",
      "39.834475535266805\n"
     ]
    }
   ],
   "source": [
    "model.load_weights(\"model.h5\")\n",
    "scores = model.evaluate(X_test, Y_test, batch_size=50)\n",
    "print (scores)"
   ]
  }
 ],
 "metadata": {
  "accelerator": "GPU",
  "colab": {
   "collapsed_sections": [],
   "name": "Keras Boston Housing",
   "provenance": []
  },
  "kernelspec": {
   "display_name": "Python 3 (ipykernel)",
   "language": "python",
   "name": "python3"
  },
  "language_info": {
   "codemirror_mode": {
    "name": "ipython",
    "version": 3
   },
   "file_extension": ".py",
   "mimetype": "text/x-python",
   "name": "python",
   "nbconvert_exporter": "python",
   "pygments_lexer": "ipython3",
   "version": "3.9.7"
  }
 },
 "nbformat": 4,
 "nbformat_minor": 1
}
