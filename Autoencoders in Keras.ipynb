{
 "cells": [
  {
   "cell_type": "code",
   "execution_count": 1,
   "metadata": {},
   "outputs": [
    {
     "name": "stderr",
     "output_type": "stream",
     "text": [
      "Using TensorFlow backend.\n"
     ]
    }
   ],
   "source": [
    "from keras.layers import Input, Dense\n",
    "from keras.models import Model"
   ]
  },
  {
   "cell_type": "code",
   "execution_count": 2,
   "metadata": {
    "collapsed": true
   },
   "outputs": [],
   "source": [
    "encoding_dim = 32"
   ]
  },
  {
   "cell_type": "code",
   "execution_count": 3,
   "metadata": {
    "collapsed": true
   },
   "outputs": [],
   "source": [
    "input_img = Input(shape=(784,))"
   ]
  },
  {
   "cell_type": "code",
   "execution_count": 4,
   "metadata": {
    "collapsed": true
   },
   "outputs": [],
   "source": [
    "#encoded representation of input\n",
    "encoded = Dense(encoding_dim, activation='relu')(input_img)"
   ]
  },
  {
   "cell_type": "code",
   "execution_count": 5,
   "metadata": {
    "collapsed": true
   },
   "outputs": [],
   "source": [
    "#decoded - reconstruction of its encoded representation\n",
    "decoded = Dense(784, activation='sigmoid')(encoded)"
   ]
  },
  {
   "cell_type": "code",
   "execution_count": 6,
   "metadata": {
    "collapsed": true
   },
   "outputs": [],
   "source": [
    "#this model maps an input to its encoded representation\n",
    "autoencoder = Model(input_img, decoded)"
   ]
  },
  {
   "cell_type": "code",
   "execution_count": 7,
   "metadata": {
    "collapsed": true
   },
   "outputs": [],
   "source": [
    "#seperate encoder model\n",
    "encoder = Model(input_img, encoded)"
   ]
  },
  {
   "cell_type": "code",
   "execution_count": 8,
   "metadata": {
    "collapsed": true
   },
   "outputs": [],
   "source": [
    "#placeholder for an encoded input\n",
    "encoded_input = Input(shape=(encoding_dim,))"
   ]
  },
  {
   "cell_type": "code",
   "execution_count": 9,
   "metadata": {
    "collapsed": true
   },
   "outputs": [],
   "source": [
    "#retrive the last layer of the auto-encoder model\n",
    "decoder_layer = autoencoder.layers[-1]"
   ]
  },
  {
   "cell_type": "code",
   "execution_count": 10,
   "metadata": {
    "collapsed": true
   },
   "outputs": [],
   "source": [
    "#create a decoder model\n",
    "decoder = Model(encoded_input, decoder_layer(encoded_input))"
   ]
  },
  {
   "cell_type": "code",
   "execution_count": 11,
   "metadata": {
    "collapsed": true
   },
   "outputs": [],
   "source": [
    "autoencoder.compile(optimizer='adadelta', loss='binary_crossentropy')"
   ]
  },
  {
   "cell_type": "code",
   "execution_count": 12,
   "metadata": {},
   "outputs": [
    {
     "name": "stdout",
     "output_type": "stream",
     "text": [
      "_________________________________________________________________\n",
      "Layer (type)                 Output Shape              Param #   \n",
      "=================================================================\n",
      "input_1 (InputLayer)         (None, 784)               0         \n",
      "_________________________________________________________________\n",
      "dense_1 (Dense)              (None, 32)                25120     \n",
      "_________________________________________________________________\n",
      "dense_2 (Dense)              (None, 784)               25872     \n",
      "=================================================================\n",
      "Total params: 50,992\n",
      "Trainable params: 50,992\n",
      "Non-trainable params: 0\n",
      "_________________________________________________________________\n"
     ]
    }
   ],
   "source": [
    "autoencoder.summary()"
   ]
  },
  {
   "cell_type": "code",
   "execution_count": 13,
   "metadata": {
    "collapsed": true
   },
   "outputs": [],
   "source": [
    "from keras.datasets import mnist\n",
    "import numpy as np\n",
    "(x_train, _), (x_test, _) = mnist.load_data()"
   ]
  },
  {
   "cell_type": "code",
   "execution_count": 14,
   "metadata": {
    "collapsed": true
   },
   "outputs": [],
   "source": [
    "x_train = x_train.astype('float32') / 255.\n",
    "x_test = x_test.astype('float32') / 255.\n",
    "x_train = x_train.reshape((len(x_train), np.prod(x_train.shape[1:])))\n",
    "x_test = x_test.reshape((len(x_test), np.prod(x_test.shape[1:])))"
   ]
  },
  {
   "cell_type": "code",
   "execution_count": 15,
   "metadata": {},
   "outputs": [
    {
     "name": "stdout",
     "output_type": "stream",
     "text": [
      "Train on 60000 samples, validate on 10000 samples\n",
      "Epoch 1/50\n",
      "60000/60000 [==============================] - 23s 378us/step - loss: 0.3666 - val_loss: 0.2723\n",
      "Epoch 2/50\n",
      "60000/60000 [==============================] - 20s 328us/step - loss: 0.2654 - val_loss: 0.2550\n",
      "Epoch 3/50\n",
      "60000/60000 [==============================] - 20s 326us/step - loss: 0.2448 - val_loss: 0.2326\n",
      "Epoch 4/50\n",
      "60000/60000 [==============================] - 17s 285us/step - loss: 0.2247 - val_loss: 0.2147\n",
      "Epoch 5/50\n",
      "60000/60000 [==============================] - 15s 255us/step - loss: 0.2093 - val_loss: 0.2017\n",
      "Epoch 6/50\n",
      "60000/60000 [==============================] - 16s 270us/step - loss: 0.1982 - val_loss: 0.1921\n",
      "Epoch 7/50\n",
      "60000/60000 [==============================] - 16s 259us/step - loss: 0.1894 - val_loss: 0.1841\n",
      "Epoch 8/50\n",
      "60000/60000 [==============================] - 15s 249us/step - loss: 0.1820 - val_loss: 0.1774\n",
      "Epoch 9/50\n",
      "60000/60000 [==============================] - 16s 274us/step - loss: 0.1758 - val_loss: 0.1717\n",
      "Epoch 10/50\n",
      "60000/60000 [==============================] - 16s 266us/step - loss: 0.1704 - val_loss: 0.1666\n",
      "Epoch 11/50\n",
      "60000/60000 [==============================] - 15s 247us/step - loss: 0.1657 - val_loss: 0.1620\n",
      "Epoch 12/50\n",
      "60000/60000 [==============================] - 15s 256us/step - loss: 0.1613 - val_loss: 0.1580\n",
      "Epoch 13/50\n",
      "60000/60000 [==============================] - 15s 256us/step - loss: 0.1574 - val_loss: 0.1540\n",
      "Epoch 14/50\n",
      "60000/60000 [==============================] - 16s 267us/step - loss: 0.1537 - val_loss: 0.1505\n",
      "Epoch 15/50\n",
      "60000/60000 [==============================] - 15s 254us/step - loss: 0.1503 - val_loss: 0.1473\n",
      "Epoch 16/50\n",
      "60000/60000 [==============================] - 15s 250us/step - loss: 0.1472 - val_loss: 0.1442\n",
      "Epoch 17/50\n",
      "60000/60000 [==============================] - 15s 252us/step - loss: 0.1443 - val_loss: 0.1415\n",
      "Epoch 18/50\n",
      "60000/60000 [==============================] - 15s 256us/step - loss: 0.1417 - val_loss: 0.1389\n",
      "Epoch 19/50\n",
      "60000/60000 [==============================] - 15s 248us/step - loss: 0.1393 - val_loss: 0.1366\n",
      "Epoch 20/50\n",
      "60000/60000 [==============================] - 15s 252us/step - loss: 0.1370 - val_loss: 0.1344\n",
      "Epoch 21/50\n",
      "60000/60000 [==============================] - 16s 260us/step - loss: 0.1349 - val_loss: 0.1323\n",
      "Epoch 22/50\n",
      "60000/60000 [==============================] - 16s 262us/step - loss: 0.1330 - val_loss: 0.1304\n",
      "Epoch 23/50\n",
      "60000/60000 [==============================] - 16s 265us/step - loss: 0.1311 - val_loss: 0.1287\n",
      "Epoch 24/50\n",
      "60000/60000 [==============================] - 15s 249us/step - loss: 0.1292 - val_loss: 0.1267\n",
      "Epoch 25/50\n",
      "60000/60000 [==============================] - 15s 247us/step - loss: 0.1275 - val_loss: 0.1250\n",
      "Epoch 26/50\n",
      "60000/60000 [==============================] - 15s 258us/step - loss: 0.1258 - val_loss: 0.1234\n",
      "Epoch 27/50\n",
      "60000/60000 [==============================] - 17s 276us/step - loss: 0.1242 - val_loss: 0.1218\n",
      "Epoch 28/50\n",
      "60000/60000 [==============================] - 16s 273us/step - loss: 0.1226 - val_loss: 0.1203\n",
      "Epoch 29/50\n",
      "60000/60000 [==============================] - 15s 258us/step - loss: 0.1211 - val_loss: 0.1189\n",
      "Epoch 30/50\n",
      "60000/60000 [==============================] - 15s 252us/step - loss: 0.1197 - val_loss: 0.1175\n",
      "Epoch 31/50\n",
      "60000/60000 [==============================] - 15s 249us/step - loss: 0.1184 - val_loss: 0.1162\n",
      "Epoch 32/50\n",
      "60000/60000 [==============================] - 15s 251us/step - loss: 0.1171 - val_loss: 0.1149\n",
      "Epoch 33/50\n",
      "60000/60000 [==============================] - 15s 245us/step - loss: 0.1159 - val_loss: 0.1138\n",
      "Epoch 34/50\n",
      "60000/60000 [==============================] - 15s 257us/step - loss: 0.1148 - val_loss: 0.1127\n",
      "Epoch 35/50\n",
      "60000/60000 [==============================] - 16s 262us/step - loss: 0.1138 - val_loss: 0.1117\n",
      "Epoch 36/50\n",
      "60000/60000 [==============================] - 16s 261us/step - loss: 0.1128 - val_loss: 0.1108\n",
      "Epoch 37/50\n",
      "60000/60000 [==============================] - 17s 277us/step - loss: 0.1119 - val_loss: 0.1099\n",
      "Epoch 38/50\n",
      "60000/60000 [==============================] - 18s 299us/step - loss: 0.1111 - val_loss: 0.1091\n",
      "Epoch 39/50\n",
      "60000/60000 [==============================] - 16s 267us/step - loss: 0.1103 - val_loss: 0.1083\n",
      "Epoch 40/50\n",
      "60000/60000 [==============================] - 16s 263us/step - loss: 0.1095 - val_loss: 0.1076\n",
      "Epoch 41/50\n",
      "60000/60000 [==============================] - 17s 283us/step - loss: 0.1089 - val_loss: 0.1069\n",
      "Epoch 42/50\n",
      "60000/60000 [==============================] - 15s 255us/step - loss: 0.1082 - val_loss: 0.1063\n",
      "Epoch 43/50\n",
      "60000/60000 [==============================] - 17s 277us/step - loss: 0.1076 - val_loss: 0.1057\n",
      "Epoch 44/50\n",
      "60000/60000 [==============================] - 16s 263us/step - loss: 0.1071 - val_loss: 0.1052\n",
      "Epoch 45/50\n",
      "60000/60000 [==============================] - 16s 259us/step - loss: 0.1065 - val_loss: 0.1047\n",
      "Epoch 46/50\n",
      "60000/60000 [==============================] - 14s 239us/step - loss: 0.1061 - val_loss: 0.1042\n",
      "Epoch 47/50\n",
      "60000/60000 [==============================] - 14s 241us/step - loss: 0.1056 - val_loss: 0.1038\n",
      "Epoch 48/50\n",
      "60000/60000 [==============================] - 14s 234us/step - loss: 0.1052 - val_loss: 0.1034\n",
      "Epoch 49/50\n",
      "60000/60000 [==============================] - 15s 246us/step - loss: 0.1048 - val_loss: 0.1030\n",
      "Epoch 50/50\n",
      "60000/60000 [==============================] - 17s 284us/step - loss: 0.1044 - val_loss: 0.1026\n"
     ]
    },
    {
     "data": {
      "text/plain": [
       "<keras.callbacks.History at 0x16fced9c898>"
      ]
     },
     "execution_count": 15,
     "metadata": {},
     "output_type": "execute_result"
    }
   ],
   "source": [
    "autoencoder.fit(x_train, x_train,\n",
    "                epochs=50,\n",
    "                batch_size=256,\n",
    "                shuffle=True,\n",
    "                validation_data=(x_test, x_test))"
   ]
  },
  {
   "cell_type": "code",
   "execution_count": 17,
   "metadata": {
    "collapsed": true
   },
   "outputs": [],
   "source": [
    "encoded_imgs = encoder.predict(x_test)"
   ]
  },
  {
   "cell_type": "code",
   "execution_count": 18,
   "metadata": {
    "collapsed": true
   },
   "outputs": [],
   "source": [
    "decoded_imgs = decoder.predict(encoded_imgs)"
   ]
  },
  {
   "cell_type": "code",
   "execution_count": 19,
   "metadata": {
    "collapsed": true
   },
   "outputs": [],
   "source": [
    "import matplotlib.pyplot as plt\n",
    "%matplotlib inline"
   ]
  },
  {
   "cell_type": "code",
   "execution_count": 23,
   "metadata": {},
   "outputs": [
    {
     "data": {
      "image/png": "[encoded data removed]",
      "text/plain": [
       "<matplotlib.figure.Figure at 0x16fd1ba26a0>"
      ]
     },
     "metadata": {},
     "output_type": "display_data"
    }
   ],
   "source": [
    "n = 10  # how many digits we will display\n",
    "plt.figure(figsize=(20, 4))\n",
    "for i in range(n):\n",
    "    ax = plt.subplot(3, n, i + 1)\n",
    "    plt.imshow(x_test[i].reshape(28, 28), cmap='gray')\n",
    "    \n",
    "    \n",
    "    ax = plt.subplot(3, n, i + 1 + n)\n",
    "    plt.imshow(encoded_imgs[i].reshape(8, 4), cmap='gray')\n",
    "    \n",
    "    ax = plt.subplot(3, n, i + 1 + n + n)\n",
    "    plt.imshow(decoded_imgs[i].reshape(28, 28), cmap='gray')\n",
    "plt.show()"
   ]
  },
  {
   "cell_type": "markdown",
   "metadata": {},
   "source": [
    "#### Deep autoencoder"
   ]
  },
  {
   "cell_type": "code",
   "execution_count": 24,
   "metadata": {
    "collapsed": true
   },
   "outputs": [],
   "source": [
    "input_img = Input(shape=(784,))\n",
    "encoded = Dense(128, activation='relu')(input_img)\n",
    "encoded = Dense(64, activation='relu')(encoded)\n",
    "encoded = Dense(32, activation='relu')(encoded)\n",
    "\n",
    "decoded = Dense(64, activation='relu')(encoded)\n",
    "decoded = Dense(128, activation='relu')(decoded)\n",
    "decoded = Dense(784, activation='sigmoid')(decoded)"
   ]
  },
  {
   "cell_type": "code",
   "execution_count": 25,
   "metadata": {},
   "outputs": [
    {
     "name": "stdout",
     "output_type": "stream",
     "text": [
      "Train on 60000 samples, validate on 10000 samples\n",
      "Epoch 1/10\n",
      "60000/60000 [==============================] - 31s 518us/step - loss: 0.3455 - val_loss: 0.2641\n",
      "Epoch 2/10\n",
      "60000/60000 [==============================] - 29s 478us/step - loss: 0.2590 - val_loss: 0.2531\n",
      "Epoch 3/10\n",
      "60000/60000 [==============================] - 26s 435us/step - loss: 0.2430 - val_loss: 0.2296\n",
      "Epoch 4/10\n",
      "60000/60000 [==============================] - 25s 409us/step - loss: 0.2216 - val_loss: 0.2129\n",
      "Epoch 5/10\n",
      "60000/60000 [==============================] - 26s 425us/step - loss: 0.2106 - val_loss: 0.2041\n",
      "Epoch 6/10\n",
      "60000/60000 [==============================] - 25s 418us/step - loss: 0.1968 - val_loss: 0.1889\n",
      "Epoch 7/10\n",
      "60000/60000 [==============================] - 31s 516us/step - loss: 0.1853 - val_loss: 0.1802\n",
      "Epoch 8/10\n",
      "60000/60000 [==============================] - 36s 607us/step - loss: 0.1783 - val_loss: 0.1749\n",
      "Epoch 9/10\n",
      "60000/60000 [==============================] - 38s 627us/step - loss: 0.1729 - val_loss: 0.1701\n",
      "Epoch 10/10\n",
      "60000/60000 [==============================] - 37s 609us/step - loss: 0.1686 - val_loss: 0.1657\n"
     ]
    },
    {
     "data": {
      "text/plain": [
       "<keras.callbacks.History at 0x16fd69099e8>"
      ]
     },
     "execution_count": 25,
     "metadata": {},
     "output_type": "execute_result"
    }
   ],
   "source": [
    "autoencoder = Model(input_img, decoded)\n",
    "autoencoder.compile(optimizer='adadelta', loss='binary_crossentropy')\n",
    "\n",
    "autoencoder.fit(x_train, x_train,\n",
    "                epochs=10,\n",
    "                batch_size=256,\n",
    "                shuffle=True,\n",
    "                validation_data=(x_test, x_test))"
   ]
  },
  {
   "cell_type": "markdown",
   "metadata": {},
   "source": [
    "### Convolutional autoencoders"
   ]
  },
  {
   "cell_type": "code",
   "execution_count": 26,
   "metadata": {
    "collapsed": true
   },
   "outputs": [],
   "source": [
    "from keras.layers import Input, Dense, Conv2D, MaxPooling2D, UpSampling2D\n",
    "from keras.models import Model"
   ]
  },
  {
   "cell_type": "code",
   "execution_count": 27,
   "metadata": {
    "collapsed": true
   },
   "outputs": [],
   "source": [
    "input_img = Input(shape=(28, 28, 1)) "
   ]
  },
  {
   "cell_type": "code",
   "execution_count": 28,
   "metadata": {
    "collapsed": true
   },
   "outputs": [],
   "source": [
    "x = Conv2D(16, (3, 3), activation='relu', padding='same')(input_img)\n",
    "x = MaxPooling2D((2, 2), padding='same')(x)\n",
    "x = Conv2D(8, (3, 3), activation='relu', padding='same')(x)\n",
    "x = MaxPooling2D((2, 2), padding='same')(x)\n",
    "x = Conv2D(8, (3, 3), activation='relu', padding='same')(x)\n",
    "encoded = MaxPooling2D((2, 2), padding='same')(x)"
   ]
  },
  {
   "cell_type": "code",
   "execution_count": 29,
   "metadata": {
    "collapsed": true
   },
   "outputs": [],
   "source": [
    "x = Conv2D(8, (3, 3), activation='relu', padding='same')(encoded)\n",
    "x = UpSampling2D((2, 2))(x)\n",
    "x = Conv2D(8, (3, 3), activation='relu', padding='same')(x)\n",
    "x = UpSampling2D((2, 2))(x)\n",
    "x = Conv2D(16, (3, 3), activation='relu')(x)\n",
    "x = UpSampling2D((2, 2))(x)\n",
    "decoded = Conv2D(1, (3, 3), activation='sigmoid', padding='same')(x)"
   ]
  },
  {
   "cell_type": "code",
   "execution_count": 30,
   "metadata": {
    "collapsed": true
   },
   "outputs": [],
   "source": [
    "autoencoder = Model(input_img, decoded)\n",
    "autoencoder.compile(optimizer='adadelta', loss='binary_crossentropy')"
   ]
  },
  {
   "cell_type": "code",
   "execution_count": 31,
   "metadata": {},
   "outputs": [
    {
     "name": "stdout",
     "output_type": "stream",
     "text": [
      "_________________________________________________________________\n",
      "Layer (type)                 Output Shape              Param #   \n",
      "=================================================================\n",
      "input_4 (InputLayer)         (None, 28, 28, 1)         0         \n",
      "_________________________________________________________________\n",
      "conv2d_1 (Conv2D)            (None, 28, 28, 16)        160       \n",
      "_________________________________________________________________\n",
      "max_pooling2d_1 (MaxPooling2 (None, 14, 14, 16)        0         \n",
      "_________________________________________________________________\n",
      "conv2d_2 (Conv2D)            (None, 14, 14, 8)         1160      \n",
      "_________________________________________________________________\n",
      "max_pooling2d_2 (MaxPooling2 (None, 7, 7, 8)           0         \n",
      "_________________________________________________________________\n",
      "conv2d_3 (Conv2D)            (None, 7, 7, 8)           584       \n",
      "_________________________________________________________________\n",
      "max_pooling2d_3 (MaxPooling2 (None, 4, 4, 8)           0         \n",
      "_________________________________________________________________\n",
      "conv2d_4 (Conv2D)            (None, 4, 4, 8)           584       \n",
      "_________________________________________________________________\n",
      "up_sampling2d_1 (UpSampling2 (None, 8, 8, 8)           0         \n",
      "_________________________________________________________________\n",
      "conv2d_5 (Conv2D)            (None, 8, 8, 8)           584       \n",
      "_________________________________________________________________\n",
      "up_sampling2d_2 (UpSampling2 (None, 16, 16, 8)         0         \n",
      "_________________________________________________________________\n",
      "conv2d_6 (Conv2D)            (None, 14, 14, 16)        1168      \n",
      "_________________________________________________________________\n",
      "up_sampling2d_3 (UpSampling2 (None, 28, 28, 16)        0         \n",
      "_________________________________________________________________\n",
      "conv2d_7 (Conv2D)            (None, 28, 28, 1)         145       \n",
      "=================================================================\n",
      "Total params: 4,385\n",
      "Trainable params: 4,385\n",
      "Non-trainable params: 0\n",
      "_________________________________________________________________\n"
     ]
    }
   ],
   "source": [
    "autoencoder.summary()"
   ]
  },
  {
   "cell_type": "code",
   "execution_count": 32,
   "metadata": {
    "collapsed": true
   },
   "outputs": [],
   "source": [
    "from keras.datasets import mnist\n",
    "import numpy as np\n",
    "\n",
    "(x_train, _), (x_test, _) = mnist.load_data()\n",
    "\n",
    "x_train = x_train.astype('float32') / 255.\n",
    "x_test = x_test.astype('float32') / 255.\n",
    "x_train = np.reshape(x_train, (len(x_train), 28, 28, 1))  # adapt this if using `channels_first` image data format\n",
    "x_test = np.reshape(x_test, (len(x_test), 28, 28, 1))  # adapt this if using `channels_first` image data format"
   ]
  },
  {
   "cell_type": "code",
   "execution_count": 33,
   "metadata": {},
   "outputs": [
    {
     "name": "stdout",
     "output_type": "stream",
     "text": [
      "Train on 60000 samples, validate on 10000 samples\n",
      "Epoch 1/10\n",
      "60000/60000 [==============================] - 361s 6ms/step - loss: 0.2281 - val_loss: 0.1861\n",
      "Epoch 2/10\n",
      "60000/60000 [==============================] - 383s 6ms/step - loss: 0.1607 - val_loss: 0.1493\n",
      "Epoch 3/10\n",
      "60000/60000 [==============================] - 360s 6ms/step - loss: 0.1442 - val_loss: 0.1386\n",
      "Epoch 4/10\n",
      "60000/60000 [==============================] - 268s 4ms/step - loss: 0.1350 - val_loss: 0.1296\n",
      "Epoch 5/10\n",
      "60000/60000 [==============================] - 248s 4ms/step - loss: 0.1294 - val_loss: 0.1261\n",
      "Epoch 6/10\n",
      "60000/60000 [==============================] - 249s 4ms/step - loss: 0.1261 - val_loss: 0.1231\n",
      "Epoch 7/10\n",
      "60000/60000 [==============================] - 249s 4ms/step - loss: 0.1236 - val_loss: 0.1226\n",
      "Epoch 8/10\n",
      "60000/60000 [==============================] - 246s 4ms/step - loss: 0.1211 - val_loss: 0.1205\n",
      "Epoch 9/10\n",
      "60000/60000 [==============================] - 248s 4ms/step - loss: 0.1193 - val_loss: 0.1165\n",
      "Epoch 10/10\n",
      "60000/60000 [==============================] - 242s 4ms/step - loss: 0.1175 - val_loss: 0.1163\n"
     ]
    },
    {
     "data": {
      "text/plain": [
       "<keras.callbacks.History at 0x16fd7426400>"
      ]
     },
     "execution_count": 33,
     "metadata": {},
     "output_type": "execute_result"
    }
   ],
   "source": [
    "from keras.callbacks import TensorBoard\n",
    "\n",
    "autoencoder.fit(x_train, x_train,\n",
    "                epochs=10,\n",
    "                batch_size=128,\n",
    "                shuffle=True,\n",
    "                validation_data=(x_test, x_test),\n",
    "                callbacks=[TensorBoard(log_dir='/tmp/autoencoder')])"
   ]
  },
  {
   "cell_type": "code",
   "execution_count": null,
   "metadata": {
    "collapsed": true
   },
   "outputs": [],
   "source": []
  }
 ],
 "metadata": {
  "kernelspec": {
   "display_name": "Python 3 (ipykernel)",
   "language": "python",
   "name": "python3"
  },
  "language_info": {
   "codemirror_mode": {
    "name": "ipython",
    "version": 3
   },
   "file_extension": ".py",
   "mimetype": "text/x-python",
   "name": "python",
   "nbconvert_exporter": "python",
   "pygments_lexer": "ipython3",
   "version": "3.9.7"
  }
 },
 "nbformat": 4,
 "nbformat_minor": 2
}
