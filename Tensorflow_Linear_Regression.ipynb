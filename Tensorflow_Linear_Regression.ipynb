{
  "nbformat": 4,
  "nbformat_minor": 0,
  "metadata": {
    "colab": {
      "name": "Tensorflow Linear Regression.ipynb",
      "provenance": [],
      "collapsed_sections": []
    },
    "kernelspec": {
      "name": "python3",
      "display_name": "Python 3"
    }
  },
  "cells": [
    {
      "cell_type": "code",
      "metadata": {
        "id": "F2pYFpYTY9ov",
        "colab_type": "code",
        "outputId": "18713145-28c7-4e52-8d0f-2286d8c68f54",
        "colab": {
          "base_uri": "https://localhost:8080/",
          "height": 63
        }
      },
      "source": [
        "import tensorflow as tf\n"
      ],
      "execution_count": 0,
      "outputs": [
        {
          "output_type": "display_data",
          "data": {
            "text/html": [
              "<p style=\"color: red;\">\n",
              "The default version of TensorFlow in Colab will soon switch to TensorFlow 2.x.<br>\n",
              "We recommend you <a href=\"https://www.tensorflow.org/guide/migrate\" target=\"_blank\">upgrade</a> now \n",
              "or ensure your notebook will continue to use TensorFlow 1.x via the <code>%tensorflow_version 1.x</code> magic:\n",
              "<a href=\"https://colab.research.google.com/notebooks/tensorflow_version.ipynb\" target=\"_blank\">more info</a>.</p>\n"
            ],
            "text/plain": [
              "<IPython.core.display.HTML object>"
            ]
          },
          "metadata": {
            "tags": []
          }
        }
      ]
    },
    {
      "cell_type": "code",
      "metadata": {
        "id": "_Zcv2S1jZdeH",
        "colab_type": "code",
        "colab": {}
      },
      "source": [
        "# intitialize few variables\n",
        "a = tf.Variable(tf.constant(5.0))\n",
        "b = tf.Variable(tf.constant(5.0))\n",
        "y_val = 75\n",
        "x_val = 2.5\n",
        "# y_val = x_val^2 * 3 + 5 + random\n",
        "x_data = tf.placeholder(dtype=tf.float32)\n",
        "sess = tf.Session()\n",
        "lr = 0.05"
      ],
      "execution_count": 0,
      "outputs": []
    },
    {
      "cell_type": "code",
      "metadata": {
        "id": "wWCRba25Zofw",
        "colab_type": "code",
        "colab": {}
      },
      "source": [
        "# construct a hypothesis\n",
        "mul = tf.add(tf.multiply(a, x_data), b)\n",
        "\n",
        "# calculate loss\n",
        "\n",
        "loss = tf.square(tf.subtract(mul, y_val))"
      ],
      "execution_count": 0,
      "outputs": []
    },
    {
      "cell_type": "code",
      "metadata": {
        "id": "HP1US6FE8ohz",
        "colab_type": "code",
        "outputId": "ab81a2cf-c962-43bc-8314-5359cddc428d",
        "colab": {
          "base_uri": "https://localhost:8080/",
          "height": 51
        }
      },
      "source": [
        "print(mul,loss)\n",
        "print(a,b)"
      ],
      "execution_count": 0,
      "outputs": [
        {
          "output_type": "stream",
          "text": [
            "Tensor(\"Add:0\", dtype=float32) Tensor(\"Square:0\", dtype=float32)\n",
            "<tf.Variable 'Variable:0' shape=() dtype=float32_ref> <tf.Variable 'Variable_1:0' shape=() dtype=float32_ref>\n"
          ],
          "name": "stdout"
        }
      ]
    },
    {
      "cell_type": "code",
      "metadata": {
        "id": "l6HUmLHSZ2WH",
        "colab_type": "code",
        "colab": {}
      },
      "source": [
        "init = tf.global_variables_initializer()\n",
        "sess.run(init)\n",
        "\n",
        "opt = tf.train.GradientDescentOptimizer(lr)\n",
        "train_step = opt.minimize(loss)"
      ],
      "execution_count": 0,
      "outputs": []
    },
    {
      "cell_type": "code",
      "metadata": {
        "id": "9K2FuLs4aOTf",
        "colab_type": "code",
        "outputId": "b164d633-406b-46d6-ce58-0f2dbc2d8fce",
        "colab": {
          "base_uri": "https://localhost:8080/",
          "height": 1000
        }
      },
      "source": [
        "for i in range(25):\n",
        "    print ('a : ',sess.run(a))\n",
        "    print ('b : ',sess.run(b))\n",
        "    sess.run(train_step, feed_dict={x_data:x_val})\n",
        "    print ('updated a : ', sess.run(a))\n",
        "    print ('updated b : ', sess.run(b))\n",
        "    print ('output value : ',sess.run(mul,feed_dict={x_data:x_val}))\n",
        "    "
      ],
      "execution_count": 0,
      "outputs": [
        {
          "output_type": "stream",
          "text": [
            "a :  5.0\n",
            "b :  5.0\n",
            "updated a :  19.375\n",
            "updated b :  10.75\n",
            "output value :  59.1875\n",
            "a :  19.375\n",
            "b :  10.75\n",
            "updated a :  23.328125\n",
            "updated b :  12.33125\n",
            "output value :  70.651566\n",
            "a :  23.328125\n",
            "b :  12.33125\n",
            "updated a :  24.415234\n",
            "updated b :  12.766093\n",
            "output value :  73.80418\n",
            "a :  24.415234\n",
            "b :  12.766093\n",
            "updated a :  24.71419\n",
            "updated b :  12.885675\n",
            "output value :  74.67115\n",
            "a :  24.71419\n",
            "b :  12.885675\n",
            "updated a :  24.796402\n",
            "updated b :  12.91856\n",
            "output value :  74.90956\n",
            "a :  24.796402\n",
            "b :  12.91856\n",
            "updated a :  24.819012\n",
            "updated b :  12.927604\n",
            "output value :  74.975136\n",
            "a :  24.819012\n",
            "b :  12.927604\n",
            "updated a :  24.825228\n",
            "updated b :  12.93009\n",
            "output value :  74.99316\n",
            "a :  24.825228\n",
            "b :  12.93009\n",
            "updated a :  24.826939\n",
            "updated b :  12.930775\n",
            "output value :  74.99812\n",
            "a :  24.826939\n",
            "b :  12.930775\n",
            "updated a :  24.827408\n",
            "updated b :  12.930963\n",
            "output value :  74.99948\n",
            "a :  24.827408\n",
            "b :  12.930963\n",
            "updated a :  24.827538\n",
            "updated b :  12.931014\n",
            "output value :  74.999855\n",
            "a :  24.827538\n",
            "b :  12.931014\n",
            "updated a :  24.827574\n",
            "updated b :  12.931028\n",
            "output value :  74.99996\n",
            "a :  24.827574\n",
            "b :  12.931028\n",
            "updated a :  24.827583\n",
            "updated b :  12.931032\n",
            "output value :  74.99999\n",
            "a :  24.827583\n",
            "b :  12.931032\n",
            "updated a :  24.827585\n",
            "updated b :  12.931033\n",
            "output value :  74.99999\n",
            "a :  24.827585\n",
            "b :  12.931033\n",
            "updated a :  24.827587\n",
            "updated b :  12.931034\n",
            "output value :  75.0\n",
            "a :  24.827587\n",
            "b :  12.931034\n",
            "updated a :  24.827587\n",
            "updated b :  12.931034\n",
            "output value :  75.0\n",
            "a :  24.827587\n",
            "b :  12.931034\n",
            "updated a :  24.827587\n",
            "updated b :  12.931034\n",
            "output value :  75.0\n",
            "a :  24.827587\n",
            "b :  12.931034\n",
            "updated a :  24.827587\n",
            "updated b :  12.931034\n",
            "output value :  75.0\n",
            "a :  24.827587\n",
            "b :  12.931034\n",
            "updated a :  24.827587\n",
            "updated b :  12.931034\n",
            "output value :  75.0\n",
            "a :  24.827587\n",
            "b :  12.931034\n",
            "updated a :  24.827587\n",
            "updated b :  12.931034\n",
            "output value :  75.0\n",
            "a :  24.827587\n",
            "b :  12.931034\n",
            "updated a :  24.827587\n",
            "updated b :  12.931034\n",
            "output value :  75.0\n",
            "a :  24.827587\n",
            "b :  12.931034\n",
            "updated a :  24.827587\n",
            "updated b :  12.931034\n",
            "output value :  75.0\n",
            "a :  24.827587\n",
            "b :  12.931034\n",
            "updated a :  24.827587\n",
            "updated b :  12.931034\n",
            "output value :  75.0\n",
            "a :  24.827587\n",
            "b :  12.931034\n",
            "updated a :  24.827587\n",
            "updated b :  12.931034\n",
            "output value :  75.0\n",
            "a :  24.827587\n",
            "b :  12.931034\n",
            "updated a :  24.827587\n",
            "updated b :  12.931034\n",
            "output value :  75.0\n",
            "a :  24.827587\n",
            "b :  12.931034\n",
            "updated a :  24.827587\n",
            "updated b :  12.931034\n",
            "output value :  75.0\n"
          ],
          "name": "stdout"
        }
      ]
    },
    {
      "cell_type": "code",
      "metadata": {
        "id": "BupupNqPFr8X",
        "colab_type": "code",
        "outputId": "16806673-af6e-4af6-86a3-79fcd409d464",
        "colab": {
          "base_uri": "https://localhost:8080/",
          "height": 34
        }
      },
      "source": [
        "24.827587 * 2.5 + 12.931034"
      ],
      "execution_count": 0,
      "outputs": [
        {
          "output_type": "execute_result",
          "data": {
            "text/plain": [
              "75.0000015"
            ]
          },
          "metadata": {
            "tags": []
          },
          "execution_count": 7
        }
      ]
    }
  ]
}