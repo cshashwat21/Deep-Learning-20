{
 "cells": [
  {
   "cell_type": "markdown",
   "metadata": {},
   "source": [
    "## 2.9 Adding Realtime metric to Training in Tensorflow\n",
    "\n",
    "We will be using Linear Regression example and moniter its metric in Tensorflow"
   ]
  },
  {
   "cell_type": "code",
   "execution_count": 1,
   "metadata": {},
   "outputs": [],
   "source": [
    "import numpy as np\n",
    "x = np.random.random((1000,))\n",
    "y = x+0.1*np.random.random((1000,))"
   ]
  },
  {
   "cell_type": "code",
   "execution_count": 2,
   "metadata": {},
   "outputs": [],
   "source": [
    "import matplotlib.pyplot as plt;"
   ]
  },
  {
   "cell_type": "code",
   "execution_count": 3,
   "metadata": {},
   "outputs": [
    {
     "data": {
      "text/plain": [
       "<matplotlib.collections.PathCollection at 0x1fb5880ee48>"
      ]
     },
     "execution_count": 3,
     "metadata": {},
     "output_type": "execute_result"
    },
    {
     "data": {
      "image/png": "[encoded data removed]",
      "text/plain": [
       "<Figure size 1080x720 with 1 Axes>"
      ]
     },
     "metadata": {},
     "output_type": "display_data"
    }
   ],
   "source": [
    "plt.figure(figsize=(15,10))\n",
    "plt.scatter(x,y,s=1)"
   ]
  },
  {
   "cell_type": "code",
   "execution_count": 4,
   "metadata": {},
   "outputs": [],
   "source": [
    "from sklearn.model_selection import train_test_split"
   ]
  },
  {
   "cell_type": "code",
   "execution_count": 5,
   "metadata": {},
   "outputs": [],
   "source": [
    "trainx,testx,trainy,testy = train_test_split(x,y)"
   ]
  },
  {
   "cell_type": "code",
   "execution_count": 6,
   "metadata": {},
   "outputs": [],
   "source": [
    "# Model Definition\n",
    "import tensorflow as tf;\n",
    "x = tf.placeholder(name='x',shape=[None],dtype=tf.float32)\n",
    "y = tf.placeholder(name='y',shape=[None],dtype=tf.float32)\n",
    "m = tf.get_variable(name='slope',shape=(),dtype=tf.float32,initializer=tf.random_normal_initializer)\n",
    "c = tf.get_variable(name='intercept',shape=(),dtype=tf.float32,initializer=tf.random_normal_initializer)"
   ]
  },
  {
   "cell_type": "code",
   "execution_count": 7,
   "metadata": {},
   "outputs": [
    {
     "name": "stdout",
     "output_type": "stream",
     "text": [
      "loss/mean_squared_error/value:0\n"
     ]
    },
    {
     "data": {
      "text/plain": [
       "<tf.Tensor 'intercept_hist:0' shape=() dtype=string>"
      ]
     },
     "execution_count": 7,
     "metadata": {},
     "output_type": "execute_result"
    }
   ],
   "source": [
    "with tf.name_scope('prediction'):\n",
    "    y_hat = m*x+c\n",
    "with tf.name_scope('loss'):\n",
    "    loss = tf.losses.mean_squared_error(y_hat,y)\n",
    "print (loss.name)\n",
    "tf.summary.scalar('loss',loss)\n",
    "tf.summary.histogram('slope_hist',m)\n",
    "tf.summary.histogram('intercept_hist',c)"
   ]
  },
  {
   "cell_type": "code",
   "execution_count": 8,
   "metadata": {},
   "outputs": [],
   "source": [
    "optimizer = tf.train.GradientDescentOptimizer(learning_rate=0.05).minimize(loss=loss)\n",
    "merged = tf.summary.merge_all()\n",
    "initializer = tf.global_variables_initializer()"
   ]
  },
  {
   "cell_type": "code",
   "execution_count": 9,
   "metadata": {},
   "outputs": [
    {
     "name": "stdout",
     "output_type": "stream",
     "text": [
      "loss=0.198329,m=1.77,c=0.00\n",
      "loss=0.009538,m=1.31,c=-0.12\n",
      "loss=0.003056,m=1.16,c=-0.03\n",
      "loss=0.001377,m=1.08,c=0.01\n",
      "loss=0.000942,m=1.04,c=0.03\n",
      "loss=0.000829,m=1.02,c=0.04\n",
      "loss=0.000800,m=1.01,c=0.05\n",
      "loss=0.000793,m=1.00,c=0.05\n",
      "loss=0.000791,m=1.00,c=0.05\n",
      "loss=0.000790,m=1.00,c=0.05\n"
     ]
    }
   ],
   "source": [
    "\n",
    "with tf.Session() as sess:\n",
    "    initializer.run()\n",
    "    for i in range(1000):\n",
    "        _,_train_loss = sess.run([optimizer, loss],feed_dict={x:trainx,y:trainy})\n",
    "        if(i%100==0):\n",
    "            print ('loss=%2.6f,m=%2.2f,c=%2.2f'%(_train_loss,m.eval(),c.eval()))"
   ]
  },
  {
   "cell_type": "code",
   "execution_count": 11,
   "metadata": {},
   "outputs": [
    {
     "name": "stdout",
     "output_type": "stream",
     "text": [
      "train loss=0.047814, test loss = 0.045835, m=0.29, c=0.36\n",
      "train loss=0.036682, test loss = 0.038975, m=0.35, c=0.37\n",
      "train loss=0.031797, test loss = 0.034597, m=0.40, c=0.36\n",
      "train loss=0.027856, test loss = 0.030535, m=0.44, c=0.35\n",
      "train loss=0.024434, test loss = 0.026882, m=0.48, c=0.33\n",
      "train loss=0.021447, test loss = 0.023660, m=0.51, c=0.31\n",
      "train loss=0.018837, test loss = 0.020833, m=0.54, c=0.29\n",
      "train loss=0.016557, test loss = 0.018358, m=0.57, c=0.28\n",
      "train loss=0.014565, test loss = 0.016192, m=0.60, c=0.26\n",
      "train loss=0.012824, test loss = 0.014296, m=0.63, c=0.25\n",
      "train loss=0.011304, test loss = 0.012637, m=0.65, c=0.24\n",
      "train loss=0.009975, test loss = 0.011184, m=0.67, c=0.22\n",
      "train loss=0.008815, test loss = 0.009912, m=0.70, c=0.21\n",
      "train loss=0.007801, test loss = 0.008798, m=0.71, c=0.20\n",
      "train loss=0.006915, test loss = 0.007822, m=0.73, c=0.19\n",
      "train loss=0.006141, test loss = 0.006967, m=0.75, c=0.18\n",
      "train loss=0.005465, test loss = 0.006218, m=0.77, c=0.17\n",
      "train loss=0.004874, test loss = 0.005562, m=0.78, c=0.17\n",
      "train loss=0.004358, test loss = 0.004987, m=0.80, c=0.16\n",
      "train loss=0.003908, test loss = 0.004483, m=0.81, c=0.15\n",
      "train loss=0.003514, test loss = 0.004041, m=0.82, c=0.15\n",
      "train loss=0.003169, test loss = 0.003653, m=0.83, c=0.14\n",
      "train loss=0.002869, test loss = 0.003313, m=0.84, c=0.13\n",
      "train loss=0.002606, test loss = 0.003014, m=0.85, c=0.13\n",
      "train loss=0.002377, test loss = 0.002752, m=0.86, c=0.12\n",
      "train loss=0.002176, test loss = 0.002522, m=0.87, c=0.12\n",
      "train loss=0.002001, test loss = 0.002320, m=0.88, c=0.11\n",
      "train loss=0.001848, test loss = 0.002143, m=0.89, c=0.11\n",
      "train loss=0.001714, test loss = 0.001986, m=0.90, c=0.11\n",
      "train loss=0.001598, test loss = 0.001849, m=0.90, c=0.10\n",
      "train loss=0.001495, test loss = 0.001729, m=0.91, c=0.10\n",
      "train loss=0.001406, test loss = 0.001622, m=0.91, c=0.10\n",
      "train loss=0.001328, test loss = 0.001529, m=0.92, c=0.09\n",
      "train loss=0.001260, test loss = 0.001446, m=0.92, c=0.09\n",
      "train loss=0.001201, test loss = 0.001374, m=0.93, c=0.09\n",
      "train loss=0.001149, test loss = 0.001310, m=0.93, c=0.09\n",
      "train loss=0.001104, test loss = 0.001253, m=0.94, c=0.08\n",
      "train loss=0.001064, test loss = 0.001203, m=0.94, c=0.08\n",
      "train loss=0.001029, test loss = 0.001159, m=0.95, c=0.08\n",
      "train loss=0.000999, test loss = 0.001120, m=0.95, c=0.08\n",
      "train loss=0.000973, test loss = 0.001086, m=0.95, c=0.08\n",
      "train loss=0.000950, test loss = 0.001056, m=0.96, c=0.07\n",
      "train loss=0.000929, test loss = 0.001029, m=0.96, c=0.07\n",
      "train loss=0.000912, test loss = 0.001005, m=0.96, c=0.07\n",
      "train loss=0.000896, test loss = 0.000983, m=0.96, c=0.07\n",
      "train loss=0.000883, test loss = 0.000965, m=0.97, c=0.07\n",
      "train loss=0.000871, test loss = 0.000948, m=0.97, c=0.07\n",
      "train loss=0.000861, test loss = 0.000933, m=0.97, c=0.07\n",
      "train loss=0.000852, test loss = 0.000920, m=0.97, c=0.07\n",
      "train loss=0.000844, test loss = 0.000908, m=0.97, c=0.06\n",
      "train loss=0.000837, test loss = 0.000897, m=0.97, c=0.06\n",
      "train loss=0.000831, test loss = 0.000888, m=0.98, c=0.06\n",
      "train loss=0.000826, test loss = 0.000880, m=0.98, c=0.06\n",
      "train loss=0.000821, test loss = 0.000872, m=0.98, c=0.06\n",
      "train loss=0.000817, test loss = 0.000865, m=0.98, c=0.06\n",
      "train loss=0.000814, test loss = 0.000859, m=0.98, c=0.06\n",
      "train loss=0.000811, test loss = 0.000854, m=0.98, c=0.06\n",
      "train loss=0.000808, test loss = 0.000849, m=0.98, c=0.06\n",
      "train loss=0.000806, test loss = 0.000845, m=0.98, c=0.06\n",
      "train loss=0.000804, test loss = 0.000841, m=0.99, c=0.06\n",
      "train loss=0.000802, test loss = 0.000837, m=0.99, c=0.06\n",
      "train loss=0.000801, test loss = 0.000834, m=0.99, c=0.06\n",
      "train loss=0.000799, test loss = 0.000831, m=0.99, c=0.06\n",
      "train loss=0.000798, test loss = 0.000829, m=0.99, c=0.06\n",
      "train loss=0.000797, test loss = 0.000826, m=0.99, c=0.06\n",
      "train loss=0.000796, test loss = 0.000824, m=0.99, c=0.06\n",
      "train loss=0.000795, test loss = 0.000822, m=0.99, c=0.06\n",
      "train loss=0.000795, test loss = 0.000820, m=0.99, c=0.06\n",
      "train loss=0.000794, test loss = 0.000819, m=0.99, c=0.06\n",
      "train loss=0.000794, test loss = 0.000817, m=0.99, c=0.06\n",
      "train loss=0.000793, test loss = 0.000816, m=0.99, c=0.05\n",
      "train loss=0.000793, test loss = 0.000815, m=0.99, c=0.05\n",
      "train loss=0.000792, test loss = 0.000814, m=0.99, c=0.05\n",
      "train loss=0.000792, test loss = 0.000813, m=0.99, c=0.05\n",
      "train loss=0.000792, test loss = 0.000812, m=0.99, c=0.05\n",
      "train loss=0.000791, test loss = 0.000811, m=0.99, c=0.05\n",
      "train loss=0.000791, test loss = 0.000810, m=0.99, c=0.05\n",
      "train loss=0.000791, test loss = 0.000809, m=0.99, c=0.05\n",
      "train loss=0.000791, test loss = 0.000809, m=0.99, c=0.05\n",
      "train loss=0.000791, test loss = 0.000808, m=0.99, c=0.05\n",
      "train loss=0.000791, test loss = 0.000808, m=1.00, c=0.05\n",
      "train loss=0.000791, test loss = 0.000807, m=1.00, c=0.05\n",
      "train loss=0.000790, test loss = 0.000807, m=1.00, c=0.05\n",
      "train loss=0.000790, test loss = 0.000806, m=1.00, c=0.05\n",
      "train loss=0.000790, test loss = 0.000806, m=1.00, c=0.05\n",
      "train loss=0.000790, test loss = 0.000805, m=1.00, c=0.05\n",
      "train loss=0.000790, test loss = 0.000805, m=1.00, c=0.05\n",
      "train loss=0.000790, test loss = 0.000805, m=1.00, c=0.05\n",
      "train loss=0.000790, test loss = 0.000804, m=1.00, c=0.05\n",
      "train loss=0.000790, test loss = 0.000804, m=1.00, c=0.05\n",
      "train loss=0.000790, test loss = 0.000804, m=1.00, c=0.05\n",
      "train loss=0.000790, test loss = 0.000804, m=1.00, c=0.05\n",
      "train loss=0.000790, test loss = 0.000803, m=1.00, c=0.05\n",
      "train loss=0.000790, test loss = 0.000803, m=1.00, c=0.05\n",
      "train loss=0.000790, test loss = 0.000803, m=1.00, c=0.05\n",
      "train loss=0.000790, test loss = 0.000803, m=1.00, c=0.05\n",
      "train loss=0.000790, test loss = 0.000803, m=1.00, c=0.05\n",
      "train loss=0.000790, test loss = 0.000803, m=1.00, c=0.05\n",
      "train loss=0.000790, test loss = 0.000802, m=1.00, c=0.05\n",
      "train loss=0.000790, test loss = 0.000802, m=1.00, c=0.05\n"
     ]
    }
   ],
   "source": [
    "train_writer = tf.summary.FileWriter('model/2.9.1-exp/train',sess.graph)\n",
    "test_writer = tf.summary.FileWriter('model/2.9.1-exp/test')\n",
    "with tf.Session() as sess:\n",
    "    initializer.run()\n",
    "    for i in range(1000):\n",
    "        _,_train_loss,summary = sess.run([optimizer, loss,merged],feed_dict={x:trainx,y:trainy})\n",
    "        train_writer.add_summary(summary,i)\n",
    "        if(i%10==0):\n",
    "            _test_loss,summary = sess.run([loss,merged],feed_dict={x:testx,y:testy})\n",
    "            test_writer.add_summary(summary,i)\n",
    "            print ('train loss=%2.6f, test loss = %2.6f, m=%2.2f, c=%2.2f'%(_train_loss,_test_loss,m.eval(),c.eval()))\n"
   ]
  },
  {
   "cell_type": "code",
   "execution_count": null,
   "metadata": {},
   "outputs": [],
   "source": []
  }
 ],
 "metadata": {
  "kernelspec": {
   "display_name": "Python 3 (ipykernel)",
   "language": "python",
   "name": "python3"
  },
  "language_info": {
   "codemirror_mode": {
    "name": "ipython",
    "version": 3
   },
   "file_extension": ".py",
   "mimetype": "text/x-python",
   "name": "python",
   "nbconvert_exporter": "python",
   "pygments_lexer": "ipython3",
   "version": "3.9.7"
  }
 },
 "nbformat": 4,
 "nbformat_minor": 2
}
