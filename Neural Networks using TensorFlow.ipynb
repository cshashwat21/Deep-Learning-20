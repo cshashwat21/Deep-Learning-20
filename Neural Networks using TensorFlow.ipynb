{
 "cells": [
  {
   "cell_type": "markdown",
   "metadata": {},
   "source": [
    "#### Implement\n",
    "* f(x) = a * x\n",
    "* We have only one training data .i.e 5 in this case\n",
    "* Output data is 50\n",
    "* Predict best a"
   ]
  },
  {
   "cell_type": "code",
   "execution_count": 1,
   "metadata": {
    "collapsed": true
   },
   "outputs": [],
   "source": [
    "import tensorflow as tf"
   ]
  },
  {
   "cell_type": "code",
   "execution_count": 2,
   "metadata": {
    "collapsed": true
   },
   "outputs": [],
   "source": [
    "sess = tf.Session()"
   ]
  },
  {
   "cell_type": "code",
   "execution_count": 3,
   "metadata": {
    "collapsed": true
   },
   "outputs": [],
   "source": [
    "a = tf.Variable(tf.constant(3.))\n",
    "x_val = 5\n",
    "x_data = tf.placeholder(dtype=tf.float32)"
   ]
  },
  {
   "cell_type": "code",
   "execution_count": 4,
   "metadata": {
    "collapsed": true
   },
   "outputs": [],
   "source": [
    "mul = tf.multiply(a, x_data)"
   ]
  },
  {
   "cell_type": "markdown",
   "metadata": {},
   "source": [
    "#### loss is basically, square of difference of prediction & actuals"
   ]
  },
  {
   "cell_type": "code",
   "execution_count": 5,
   "metadata": {
    "collapsed": true
   },
   "outputs": [],
   "source": [
    "loss = tf.square(tf.subtract(mul, 50))"
   ]
  },
  {
   "cell_type": "markdown",
   "metadata": {},
   "source": [
    "#### initialize all variables, in this case only a"
   ]
  },
  {
   "cell_type": "code",
   "execution_count": 6,
   "metadata": {
    "collapsed": true
   },
   "outputs": [],
   "source": [
    "init = tf.global_variables_initializer()\n",
    "sess.run(init)"
   ]
  },
  {
   "cell_type": "code",
   "execution_count": 7,
   "metadata": {
    "collapsed": true
   },
   "outputs": [],
   "source": [
    "my_opt = tf.train.GradientDescentOptimizer(0.01)\n",
    "train_step = my_opt.minimize(loss)"
   ]
  },
  {
   "cell_type": "code",
   "execution_count": 8,
   "metadata": {},
   "outputs": [
    {
     "name": "stdout",
     "output_type": "stream",
     "text": [
      "a :  3.0\n",
      "new a :  6.5\n",
      "out  32.5\n",
      "a :  6.5\n",
      "new a :  8.25\n",
      "out  41.25\n",
      "a :  8.25\n",
      "new a :  9.125\n",
      "out  45.625\n",
      "a :  9.125\n",
      "new a :  9.5625\n",
      "out  47.8125\n",
      "a :  9.5625\n",
      "new a :  9.78125\n",
      "out  48.9063\n",
      "a :  9.78125\n",
      "new a :  9.89063\n",
      "out  49.4531\n",
      "a :  9.89063\n",
      "new a :  9.94531\n",
      "out  49.7266\n",
      "a :  9.94531\n",
      "new a :  9.97266\n",
      "out  49.8633\n",
      "a :  9.97266\n",
      "new a :  9.98633\n",
      "out  49.9316\n",
      "a :  9.98633\n",
      "new a :  9.99316\n",
      "out  49.9658\n"
     ]
    }
   ],
   "source": [
    "for i in range(10):\n",
    "    print ('a : ',sess.run(a))\n",
    "    sess.run(train_step, feed_dict={x_data:x_val})\n",
    "    print ('new a : ', sess.run(a))\n",
    "    print ('out ' ,sess.run(mul,feed_dict={x_data:x_val}))"
   ]
  },
  {
   "cell_type": "code",
   "execution_count": null,
   "metadata": {
    "collapsed": true
   },
   "outputs": [],
   "source": []
  }
 ],
 "metadata": {
  "kernelspec": {
   "display_name": "Python 3",
   "language": "python",
   "name": "python3"
  },
  "language_info": {
   "codemirror_mode": {
    "name": "ipython",
    "version": 3
   },
   "file_extension": ".py",
   "mimetype": "text/x-python",
   "name": "python",
   "nbconvert_exporter": "python",
   "pygments_lexer": "ipython3",
   "version": "3.6.1"
  }
 },
 "nbformat": 4,
 "nbformat_minor": 2
}
