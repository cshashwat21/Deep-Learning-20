{
 "cells": [
  {
   "cell_type": "markdown",
   "metadata": {},
   "source": [
    "<img src=\"https://camo.githubusercontent.com/ebcfadcc8922c61d13fa375ed116ad44ac4fb744/68747470733a2f2f7777772e736166617269626f6f6b736f6e6c696e652e636f6d2f6c6962726172792f766965772f74656e736f72666c6f772d666f722d6d616368696e652f393738313933393930323335312f6173736574732f747261696e696e672d6c6f6f702e706e67\">\n",
    "\n",
    "* We take a simple case of predicting A & b for Ax + b - Simple Linear Regression\n",
    "* One batch (100 units of data) of data is passed everytime, computed loss\n",
    "* Cost - RMSE"
   ]
  },
  {
   "cell_type": "code",
   "execution_count": 1,
   "metadata": {
    "collapsed": true
   },
   "outputs": [],
   "source": [
    "import numpy as np\n",
    "import tensorflow as tf\n",
    "\n",
    "from tensorflow.python.framework import ops\n",
    "ops.reset_default_graph()"
   ]
  },
  {
   "cell_type": "markdown",
   "metadata": {},
   "source": [
    "#### Generating data "
   ]
  },
  {
   "cell_type": "code",
   "execution_count": 2,
   "metadata": {
    "collapsed": true
   },
   "outputs": [],
   "source": [
    "n_samples = 10000\n",
    "x = np.linspace(0,10,n_samples)\n",
    "y = 2*x + 5"
   ]
  },
  {
   "cell_type": "markdown",
   "metadata": {},
   "source": [
    "#### Randomly init model params\n",
    "* Model parameters are variables because, these will undergo changes after every batch"
   ]
  },
  {
   "cell_type": "code",
   "execution_count": 3,
   "metadata": {
    "collapsed": true
   },
   "outputs": [],
   "source": [
    "A = tf.Variable(tf.random_normal(shape=[1,1]))\n",
    "b = tf.Variable(tf.random_normal(shape=[1,1]))"
   ]
  },
  {
   "cell_type": "markdown",
   "metadata": {},
   "source": [
    "#### Create placeholders to take training data \n",
    "* A graph can be parameterized to accept external inputs, known as placeholders. \n",
    "* A placeholder is a promise to provide a value later. Training data will be provided externally.\n",
    "* Number of rows of training data is not something we are aware of"
   ]
  },
  {
   "cell_type": "code",
   "execution_count": 4,
   "metadata": {
    "collapsed": true
   },
   "outputs": [],
   "source": [
    "x_data = tf.placeholder(shape=[None,1], dtype=tf.float32)\n",
    "y_target = tf.placeholder(shape=[None,1], dtype=tf.float32)"
   ]
  },
  {
   "cell_type": "markdown",
   "metadata": {},
   "source": [
    "#### Calculate model output\n",
    "* Since x_data & A has to undergo matrix operation"
   ]
  },
  {
   "cell_type": "code",
   "execution_count": 5,
   "metadata": {
    "collapsed": true
   },
   "outputs": [],
   "source": [
    "model_output = tf.add(tf.multiply(x_data,A), b)"
   ]
  },
  {
   "cell_type": "markdown",
   "metadata": {},
   "source": [
    "#### Calculate model loss\n",
    "<img src=\"http://www.holehouse.org/mlclass/04_Linear_Regression_with_multiple_variables_files/Image.png\">"
   ]
  },
  {
   "cell_type": "code",
   "execution_count": 6,
   "metadata": {
    "collapsed": true
   },
   "outputs": [],
   "source": [
    "loss = tf.reduce_sum(tf.pow( model_output - y_target ,2)) / (2*n_samples)"
   ]
  },
  {
   "cell_type": "markdown",
   "metadata": {},
   "source": [
    "#### Minimize loss using GradientDescentOptimizer"
   ]
  },
  {
   "cell_type": "code",
   "execution_count": 7,
   "metadata": {
    "collapsed": true
   },
   "outputs": [],
   "source": [
    "learning_rate = 0.5\n",
    "gd = tf.train.GradientDescentOptimizer(learning_rate)"
   ]
  },
  {
   "cell_type": "code",
   "execution_count": 8,
   "metadata": {
    "collapsed": true
   },
   "outputs": [],
   "source": [
    "train_process = gd.minimize(loss)"
   ]
  },
  {
   "cell_type": "code",
   "execution_count": 9,
   "metadata": {},
   "outputs": [
    {
     "name": "stdout",
     "output_type": "stream",
     "text": [
      "[array([[ 1.55984199]], dtype=float32), array([[-0.17149524]], dtype=float32)]\n",
      "[array([[ 2.21899176]], dtype=float32), array([[ 3.53741241]], dtype=float32)]\n",
      "[array([[ 2.0649929]], dtype=float32), array([[ 4.56515503]], dtype=float32)]\n",
      "[array([[ 2.01899481]], dtype=float32), array([[ 4.87272692]], dtype=float32)]\n",
      "[array([[ 2.00552654]], dtype=float32), array([[ 4.96266174]], dtype=float32)]\n",
      "\n",
      "Coef after 5000 iterations [array([[ 2.00164127]], dtype=float32), array([[ 4.98908186]], dtype=float32)]\n"
     ]
    }
   ],
   "source": [
    "loss_info = []\n",
    "batch_size = 100\n",
    "with tf.Session() as sess:\n",
    "    sess.run(A.initializer)\n",
    "    sess.run(b.initializer)\n",
    "    for i in range(5000):\n",
    "        #returns random indices from entire lot\n",
    "        rand_index = np.random.choice(len(x),batch_size)\n",
    "        rand_x = x[rand_index]\n",
    "        rand_y = y[rand_index]\n",
    "        sess.run(train_process, feed_dict = {x_data: np.transpose([rand_x]), y_target: np.transpose([rand_y]) })\n",
    "        loss_info.append(sess.run(loss, feed_dict = {x_data: np.transpose([rand_x]), y_target: np.transpose([rand_y])}))\n",
    "        if i % 1000 == 0:\n",
    "            print (sess.run([A,b]))\n",
    "    tf.summary.FileWriter('tensorboard/logs',sess.graph)\n",
    "    print ('\\nCoef after 5000 iterations',sess.run([A,b]))"
   ]
  },
  {
   "cell_type": "markdown",
   "metadata": {
    "collapsed": true
   },
   "source": [
    "<img src=\"https://github.com/zekelabs/tensorflow/blob/master/Linear-Regression-tensorflow.png?raw=true\">"
   ]
  },
  {
   "cell_type": "code",
   "execution_count": null,
   "metadata": {
    "collapsed": true
   },
   "outputs": [],
   "source": []
  },
  {
   "cell_type": "code",
   "execution_count": null,
   "metadata": {
    "collapsed": true
   },
   "outputs": [],
   "source": []
  }
 ],
 "metadata": {
  "kernelspec": {
   "display_name": "Python 3",
   "language": "python",
   "name": "python3"
  },
  "language_info": {
   "codemirror_mode": {
    "name": "ipython",
    "version": 3
   },
   "file_extension": ".py",
   "mimetype": "text/x-python",
   "name": "python",
   "nbconvert_exporter": "python",
   "pygments_lexer": "ipython3",
   "version": "3.6.1"
  }
 },
 "nbformat": 4,
 "nbformat_minor": 2
}
